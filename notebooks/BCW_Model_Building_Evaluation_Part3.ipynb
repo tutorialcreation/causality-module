{
 "cells": [
  {
   "cell_type": "code",
   "execution_count": 4,
   "metadata": {},
   "outputs": [],
   "source": [
    "import platform\n",
    "import warnings\n",
    "warnings.filterwarnings('ignore')\n",
    "import numpy as np\n",
    "import pandas as pd\n",
    "#from imblearn.over_sampling import SMOTE\n",
    "#from tabulate import tabulate\n",
    "import itertools\n",
    "import seaborn as sns\n",
    "from copy import copy\n",
    "from sklearn.feature_selection import VarianceThreshold\n",
    "from sklearn.feature_selection import SelectPercentile, f_classif\n",
    "from sklearn.linear_model import LogisticRegression\n",
    "from sklearn.ensemble import GradientBoostingClassifier\n",
    "from sklearn.tree import DecisionTreeClassifier\n",
    "from sklearn.ensemble import RandomForestClassifier\n",
    "from sklearn.ensemble import ExtraTreesClassifier, GradientBoostingClassifier\n",
    "from sklearn.naive_bayes import BernoulliNB\n",
    "from sklearn.preprocessing import MaxAbsScaler\n",
    "from sklearn.preprocessing import Normalizer, RobustScaler\n",
    "import sklearn\n",
    "import joblib as joblib\n",
    "from sklearn.feature_selection import RFE\n",
    "from sklearn.pipeline import make_pipeline\n",
    "from sklearn.preprocessing import PolynomialFeatures\n",
    "from sklearn.preprocessing import Normalizer, FunctionTransformer\n",
    "from sklearn.kernel_approximation import Nystroem\n",
    "from sklearn.model_selection import train_test_split\n",
    "#import sklearn.model_selection.StratifiedKFold\n",
    "from sklearn import metrics\n",
    "from sklearn.metrics import roc_auc_score, roc_curve, classification_report\n",
    "from sklearn.metrics import confusion_matrix, accuracy_score, mean_squared_error\n",
    "from sklearn.metrics import f1_score, precision_score, recall_score, log_loss, r2_score\n",
    "from sklearn.metrics import precision_recall_curve\n",
    "from sklearn.svm import SVC\n",
    "from sklearn.pipeline import make_pipeline, make_union\n",
    "from sklearn.preprocessing import MinMaxScaler\n",
    "from sklearn.preprocessing import StandardScaler"
   ]
  },
  {
   "cell_type": "code",
   "execution_count": 1,
   "metadata": {},
   "outputs": [],
   "source": [
    "# notice: installing imblearn might takes a few minutes\n",
    "#!conda install -c anaconda imblearn -y"
   ]
  },
  {
   "cell_type": "code",
   "execution_count": null,
   "metadata": {},
   "outputs": [],
   "source": [
    "# notice: installing tabulate might takes a few minutes\n",
    "#!conda install -c anaconda tabulate -y"
   ]
  },
  {
   "cell_type": "markdown",
   "metadata": {},
   "source": [
    "### 1. The LoadData routiine is used to read dataset, and create training and testing datasets"
   ]
  },
  {
   "cell_type": "code",
   "execution_count": 5,
   "metadata": {},
   "outputs": [],
   "source": [
    "def LoadData():\n",
    "    global feature_names, response_name, n_features, model_full  \n",
    "    model_full = pd.read_csv('../data/data.csv')\n",
    "        \n",
    "    # we change the class values (at the column number 2) from B to 0 and from M to 1\n",
    "    model_full.iloc[:,1].replace('B', 0,inplace=True)\n",
    "    model_full.iloc[:,1].replace('M', 1,inplace=True)\n",
    "    response_name = ['diagnosis']\n",
    "    drop_list = ['Unnamed: 32','id','diagnosis']\n",
    "    model_full_x= model_full.drop(drop_list,axis = 1)\n",
    "    X = model_full_x\n",
    "    y = model_full.diagnosis\n",
    "    \n",
    "    X_train, X_test, y_train, y_test = train_test_split(X,\n",
    "                                                        y,\n",
    "                                                        test_size = 0.3,\n",
    "                                                        random_state = 12345)\n",
    "    return X_train, y_train, X_test, y_test"
   ]
  },
  {
   "cell_type": "markdown",
   "metadata": {},
   "source": [
    "### Features selected from Part 2 "
   ]
  },
  {
   "cell_type": "code",
   "execution_count": 6,
   "metadata": {},
   "outputs": [],
   "source": [
    "# 1. Feature selection with correlation (16)\n",
    "fs_corr = ['texture_mean', 'area_mean', 'smoothness_mean', 'concavity_mean','symmetry_mean',\n",
    "                     'fractal_dimension_mean', 'texture_se', 'area_se','smoothness_se', 'concavity_se',\n",
    "                     'symmetry_se', 'fractal_dimension_se','smoothness_worst', 'concavity_worst', \n",
    "                     'symmetry_worst', 'fractal_dimension_worst']\n",
    "    \n",
    "    # 2. Univariate feature selection SelectKBest, chi2\n",
    "fs_chi2 = ['texture_mean', 'area_mean', 'concavity_mean', 'symmetry_mean', 'area_se', \n",
    "                     'concavity_se', 'smoothness_worst', 'concavity_worst', 'symmetry_worst', \n",
    "                     'fractal_dimension_worst']\n",
    "    \n",
    "    # 3. Recursive feature elimination (RFE) with random forest\n",
    "fs_rfe = ['texture_mean', 'area_mean', 'smoothness_mean', 'concavity_mean', 'area_se', \n",
    "              'smoothness_se', 'concavity_se', 'smoothness_worst', 'concavity_worst', 'symmetry_worst']\n",
    "    \n",
    "    # 4. Recursive feature elimination with cross validation(RFECV) with random forest\n",
    "fs_rfecv = ['texture_mean', 'area_mean', 'smoothness_mean', 'concavity_mean','fractal_dimension_mean'\n",
    "                , 'area_se', 'concavity_se', 'concavity_worst', 'symmetry_worst']\n",
    "    \n",
    "    # 5. Tree based feature selection with random forest classification\n",
    "fs_rf = ['texture_mean', 'area_mean', 'concavity_mean', 'area_se', 'concavity_se', \n",
    "             'fractal_dimension_se', 'smoothness_worst','concavity_worst', 'symmetry_worst', \n",
    "             'fractal_dimension_worst']\n",
    "    \n",
    "    # 6. ExtraTree based feature selection \n",
    "fs_extraTree = ['texture_mean', 'area_mean', 'concavity_mean', 'fractal_dimension_mean', 'area_se', \n",
    "                    'concavity_se','smoothness_worst', 'concavity_worst', \n",
    "                    'symmetry_worst','fractal_dimension_worst']\n",
    "    \n",
    "    # 7. L1 feature selection (LinearSVC)\n",
    "fs_l1 = ['texture_mean', 'area_mean', 'area_se']\n",
    "    \n",
    "    # 8. Vote based feature selection\n",
    "fs_voted = ['texture_mean',  'area_mean',  'smoothness_mean',  'concavity_mean',  \n",
    "                     'fractal_dimension_mean',  'area_se',  'concavity_se',  'smoothness_worst',  \n",
    "                     'concavity_worst',  'symmetry_worst',  'fractal_dimension_worst']\n",
    "    "
   ]
  },
  {
   "cell_type": "code",
   "execution_count": 7,
   "metadata": {},
   "outputs": [],
   "source": [
    "x_train, y_train, x_test, y_test = LoadData()"
   ]
  },
  {
   "cell_type": "markdown",
   "metadata": {},
   "source": [
    "# Uncomment for feature selection method"
   ]
  },
  {
   "cell_type": "code",
   "execution_count": 8,
   "metadata": {},
   "outputs": [],
   "source": [
    "# Correlation\n",
    "X_train = x_train[fs_corr]\n",
    "X_test = x_test[fs_corr]\n",
    "\n",
    "# Chi2\n",
    "#X_train = x_train[fs_chi2]\n",
    "#X_test = x_test[fs_chi2]\n",
    "\n",
    "# RFE\n",
    "#X_train = x_train[fs_rfe]\n",
    "#X_test = x_test[fs_rfe]\n",
    "\n",
    "# RFECV\n",
    "#X_train = x_train[fs_rfecv]\n",
    "#X_test = x_test[fs_rfecv]\n",
    "\n",
    "# RF\n",
    "#X_train = x_train[fs_rf]\n",
    "#X_test = x_test[fs_rf]\n",
    "\n",
    "# Extra Trees\n",
    "#X_train = x_train[fs_extraTree]\n",
    "#X_test = x_test[fs_extraTree]\n",
    "\n",
    "# l1\n",
    "#X_train = x_train[fs_l1]\n",
    "#X_test = x_test[fs_l1]\n",
    "\n",
    "# Voted\n",
    "#X_train = x_train[fs_voted]\n",
    "#X_test = x_test[fs_voted]\n",
    "\n",
    "# scaling data\n",
    "scale = StandardScaler()\n",
    "X_train = scale.fit_transform(X_train)\n",
    "X_test = scale.fit_transform(X_test)"
   ]
  },
  {
   "cell_type": "code",
   "execution_count": 9,
   "metadata": {},
   "outputs": [
    {
     "name": "stdout",
     "output_type": "stream",
     "text": [
      "Size of data:\n",
      "The train data has 398 rows and 16 columns\n",
      "----------------------------\n",
      "The test data has 171 rows and 16 columns\n"
     ]
    }
   ],
   "source": [
    "print('Size of data:')\n",
    "print ('The train data has {0} rows and {1} columns'.format(X_train.shape[0],X_train.shape[1]))\n",
    "print ('----------------------------')\n",
    "print ('The test data has {0} rows and {1} columns'.format(X_test.shape[0],X_test.shape[1]))"
   ]
  },
  {
   "cell_type": "markdown",
   "metadata": {},
   "source": [
    "###  Plot the ROC_Curve and Precision-Recall curve. "
   ]
  },
  {
   "cell_type": "code",
   "execution_count": 10,
   "metadata": {},
   "outputs": [],
   "source": [
    "def Plot_ROC_Precision_Recall(label):\n",
    "    class_names = [0, 1]\n",
    "    fig, (left, right) = plt.subplots(nrows=1, ncols=2, figsize=(10, 5))\n",
    "\n",
    "    plt.subplot(1, 2, 1)\n",
    "    plt.plot([0, 1], [0, 1], 'k--')\n",
    "    plt.plot(false_positive_rate, true_positive_rate, color='darkorange', label=label)\n",
    "    plt.xlabel('False positive rate')\n",
    "    plt.ylabel('True positive rate')\n",
    "    plt.title('ROC curve (area = %0.7f)' % auc)\n",
    "    plt.legend(loc='best')\n",
    "\n",
    "    plt.subplot(1, 2, 2)\n",
    "    precision, recall, _ = precision_recall_curve(y_test, y_probabilities_success)\n",
    "\n",
    "    plt.step(recall, precision, color='b', alpha=0.2, where='post')\n",
    "    plt.fill_between(recall, precision, step='post', alpha=0.2, color='b')\n",
    "\n",
    "    plt.xlabel('Recall')\n",
    "    plt.ylabel('Precision')\n",
    "    plt.ylim([0.0, 1.05])\n",
    "    plt.xlim([0.0, 1.0])\n",
    "    plt.title('Precision-Recall curve: AP={0:0.2f}'.format(average_precision))\n",
    "\n",
    "    plt.tight_layout()\n",
    "    plt.show()"
   ]
  },
  {
   "cell_type": "markdown",
   "metadata": {},
   "source": [
    "### This routine is used to plot the predictor (a.k.a feature) importances. "
   ]
  },
  {
   "cell_type": "code",
   "execution_count": 11,
   "metadata": {},
   "outputs": [],
   "source": [
    "def Plot_Predictor_Importance(logisticRegression = True):\n",
    "    if(logisticRegression):\n",
    "        feature_importance = best_model.feature_importances_\n",
    "        feature_importance = 100.0 * (feature_importance / feature_importance.max())\n",
    "        sorted_idx = np.argsort(feature_importance)\n",
    "        y_pos = np.arange(sorted_idx.shape[0]) + .5\n",
    "        fig, ax = plt.subplots()\n",
    "        fig.set_size_inches(8, 5)\n",
    "        ax.barh(y_pos, feature_importance[sorted_idx], align='center', color='green', ecolor='black', height=0.5)\n",
    "        ax.set_yticks(y_pos)\n",
    "        ax.set_yticklabels(feature_names)\n",
    "        ax.invert_yaxis()\n",
    "        ax.set_xlabel('Relative Importance')\n",
    "        ax.set_title('Predictor Importance')\n",
    "        plt.show()"
   ]
  },
  {
   "cell_type": "markdown",
   "metadata": {},
   "source": [
    "### This routine is used to summarize the metrics for the model."
   ]
  },
  {
   "cell_type": "code",
   "execution_count": 12,
   "metadata": {},
   "outputs": [],
   "source": [
    "def Print_Model_Metrics(algoName):\n",
    "    global testPerformanceData\n",
    "    true_negative  = cm[0, 0]\n",
    "    true_positive  = cm[1, 1]\n",
    "    false_negative = cm[1, 0]\n",
    "    false_positive = cm[0, 1]\n",
    "    total = true_negative + true_positive + false_negative + false_positive\n",
    "\n",
    "    accuracy_ = (true_positive + true_negative)/total\n",
    "    precision_ = (true_positive)/(true_positive + false_positive)\n",
    "    recall_ = (true_positive)/(true_positive + false_negative)\n",
    "    misclassification_rate = (false_positive + false_negative)/total\n",
    "    F1_ = (2*true_positive)/(2*true_positive + false_positive + false_negative)\n",
    "    assert accuracy == accuracy_, \"accuracy score does not agree\"\n",
    "    assert precision == precision_, \"precision score does not agree\"\n",
    "    assert recall == recall_, \"recall score does not agree\"\n",
    "    assert round(F1,6) == round(F1_,6), \"F1: \" + str(F1) + \" != F1_: \" + str(F1_)\n",
    "\n",
    "    header = [\"Metric\", \"Testing Performance\"]\n",
    "    table = [[\"accuracy\",               accuracy],\n",
    "             [\"precision\",              precision],\n",
    "             [\"recall\",                 recall],\n",
    "             [\"misclassification rate\", misclassification_rate],\n",
    "             [\"F1\",                     F1],\n",
    "             [\"r2\",                     r2],\n",
    "             [\"AUC\",                    auc],\n",
    "             [\"mse\",                    mse],\n",
    "             [\"logloss\",                logloss]\n",
    "            ]\n",
    "\n",
    "    print(tabulate(table, header, tablefmt=\"fancy_grid\"))\n",
    "    testPerformanceData = testPerformanceData.append({'Algorithm' : algoName,'Accuracy' : accuracy,'AUC' : auc,'Precision' : precision,'Recall' : recall,'F1' : F1},ignore_index = True)"
   ]
  },
  {
   "cell_type": "markdown",
   "metadata": {},
   "source": [
    "### This routine plots the confusion matrix. "
   ]
  },
  {
   "cell_type": "code",
   "execution_count": 13,
   "metadata": {},
   "outputs": [],
   "source": [
    "def Plot_Confusion_Matrix(best_model):\n",
    "    cmap = plt.cm.Blues\n",
    "    plt.imshow(cm, interpolation='nearest', cmap=cmap)\n",
    "    title='Confusion matrix (on test data)'\n",
    "    classes = [0, 1]\n",
    "    plt.title(title)\n",
    "    plt.colorbar()\n",
    "    tick_marks = np.arange(len(classes))\n",
    "    plt.xticks(tick_marks, classes, rotation=0)\n",
    "    plt.yticks(tick_marks, classes)\n",
    "\n",
    "    thresh = cm.max() / 2.\n",
    "    for i, j in itertools.product(range(cm.shape[0]), range(cm.shape[1])):\n",
    "        plt.text(j, i, cm[i, j],\n",
    "                 horizontalalignment=\"center\",\n",
    "                 color=\"white\" if cm[i, j] > thresh else \"black\")\n",
    "\n",
    "    plt.tight_layout()\n",
    "    plt.ylabel('True label')\n",
    "    plt.xlabel('Predicted label')\n",
    "\n",
    "    c_report = classification_report(y_test, y_predicted_test)\n",
    "    print('\\nClassification report:\\n', c_report)\n",
    "\n",
    "    ntotal = len(y_test)\n",
    "    correct = y_test == y_predicted_test\n",
    "    numCorrect = sum(correct)\n",
    "    percent = round( (100.0*numCorrect)/ntotal, 6)\n",
    "    print(\"\\nCorrect classifications on test data: {0:d}/{1:d} {2:8.3f}%\".format(numCorrect,\n",
    "                                                                                 ntotal,\n",
    "                                                                                 percent))\n",
    "    prediction_score = 100.0*best_model.score(X_test, y_test)\n",
    "    assert (round(percent,3) == round(prediction_score, 3)), \"prediction score does not agree\""
   ]
  },
  {
   "cell_type": "code",
   "execution_count": 14,
   "metadata": {},
   "outputs": [],
   "source": [
    "def dataPreProc(fs):\n",
    "    X_train, y_train, X_test, y_test = LoadData(fs)\n",
    "    seed = 7\n",
    "    np.random.seed(seed)\n",
    "    # scaling data\n",
    "    scale = StandardScaler()\n",
    "    X_tr = scale.fit_transform(X_train)\n",
    "    X_te = scale.fit_transform(X_test)\n",
    "    return X_tr, X_te"
   ]
  },
  {
   "cell_type": "code",
   "execution_count": 15,
   "metadata": {},
   "outputs": [],
   "source": [
    "from datetime import datetime\n",
    "def timer(start_time=None):\n",
    "    if not start_time:\n",
    "        start_time = datetime.now()\n",
    "        return start_time\n",
    "    elif start_time:\n",
    "        thour, temp_sec = divmod((datetime.now() - start_time).total_seconds(), 3600)\n",
    "        tmin, tsec = divmod(temp_sec, 60)\n",
    "        print('\\n Time taken: %i hours %i minutes and %s seconds.' % (thour, tmin, round(tsec, 2)))"
   ]
  },
  {
   "cell_type": "code",
   "execution_count": 16,
   "metadata": {},
   "outputs": [],
   "source": [
    "def best_mdl():\n",
    "    print('\\n Best estimator:')\n",
    "    print(model.best_estimator_)\n",
    "    print('\\n Best score:')\n",
    "    print(model.best_score_ * 2 - 1)\n",
    "    print('\\n Best parameters:')\n",
    "    print(model.best_params_)\n",
    "    results = pd.DataFrame(model.cv_results_)\n",
    "    print('\\n CV results:')\n",
    "    print(results.head())\n",
    "    #best_model = results.best_estimator_\n",
    "    best_model = model_result.best_estimator_\n",
    "    return best_model"
   ]
  },
  {
   "cell_type": "markdown",
   "metadata": {},
   "source": [
    "### Exploratory Data Analysis"
   ]
  },
  {
   "cell_type": "code",
   "execution_count": 17,
   "metadata": {},
   "outputs": [],
   "source": [
    "import seaborn as sns\n",
    "import matplotlib.pyplot as plt\n",
    "%matplotlib inline"
   ]
  },
  {
   "cell_type": "code",
   "execution_count": 18,
   "metadata": {},
   "outputs": [
    {
     "data": {
      "text/html": [
       "<div>\n",
       "<style scoped>\n",
       "    .dataframe tbody tr th:only-of-type {\n",
       "        vertical-align: middle;\n",
       "    }\n",
       "\n",
       "    .dataframe tbody tr th {\n",
       "        vertical-align: top;\n",
       "    }\n",
       "\n",
       "    .dataframe thead th {\n",
       "        text-align: right;\n",
       "    }\n",
       "</style>\n",
       "<table border=\"1\" class=\"dataframe\">\n",
       "  <thead>\n",
       "    <tr style=\"text-align: right;\">\n",
       "      <th></th>\n",
       "      <th>id</th>\n",
       "      <th>diagnosis</th>\n",
       "      <th>radius_mean</th>\n",
       "      <th>texture_mean</th>\n",
       "      <th>perimeter_mean</th>\n",
       "      <th>area_mean</th>\n",
       "      <th>smoothness_mean</th>\n",
       "      <th>compactness_mean</th>\n",
       "      <th>concavity_mean</th>\n",
       "      <th>concave points_mean</th>\n",
       "      <th>...</th>\n",
       "      <th>texture_worst</th>\n",
       "      <th>perimeter_worst</th>\n",
       "      <th>area_worst</th>\n",
       "      <th>smoothness_worst</th>\n",
       "      <th>compactness_worst</th>\n",
       "      <th>concavity_worst</th>\n",
       "      <th>concave points_worst</th>\n",
       "      <th>symmetry_worst</th>\n",
       "      <th>fractal_dimension_worst</th>\n",
       "      <th>Unnamed: 32</th>\n",
       "    </tr>\n",
       "  </thead>\n",
       "  <tbody>\n",
       "    <tr>\n",
       "      <th>0</th>\n",
       "      <td>842302</td>\n",
       "      <td>1</td>\n",
       "      <td>17.99</td>\n",
       "      <td>10.38</td>\n",
       "      <td>122.80</td>\n",
       "      <td>1001.0</td>\n",
       "      <td>0.11840</td>\n",
       "      <td>0.27760</td>\n",
       "      <td>0.3001</td>\n",
       "      <td>0.14710</td>\n",
       "      <td>...</td>\n",
       "      <td>17.33</td>\n",
       "      <td>184.60</td>\n",
       "      <td>2019.0</td>\n",
       "      <td>0.1622</td>\n",
       "      <td>0.6656</td>\n",
       "      <td>0.7119</td>\n",
       "      <td>0.2654</td>\n",
       "      <td>0.4601</td>\n",
       "      <td>0.11890</td>\n",
       "      <td>NaN</td>\n",
       "    </tr>\n",
       "    <tr>\n",
       "      <th>1</th>\n",
       "      <td>842517</td>\n",
       "      <td>1</td>\n",
       "      <td>20.57</td>\n",
       "      <td>17.77</td>\n",
       "      <td>132.90</td>\n",
       "      <td>1326.0</td>\n",
       "      <td>0.08474</td>\n",
       "      <td>0.07864</td>\n",
       "      <td>0.0869</td>\n",
       "      <td>0.07017</td>\n",
       "      <td>...</td>\n",
       "      <td>23.41</td>\n",
       "      <td>158.80</td>\n",
       "      <td>1956.0</td>\n",
       "      <td>0.1238</td>\n",
       "      <td>0.1866</td>\n",
       "      <td>0.2416</td>\n",
       "      <td>0.1860</td>\n",
       "      <td>0.2750</td>\n",
       "      <td>0.08902</td>\n",
       "      <td>NaN</td>\n",
       "    </tr>\n",
       "    <tr>\n",
       "      <th>2</th>\n",
       "      <td>84300903</td>\n",
       "      <td>1</td>\n",
       "      <td>19.69</td>\n",
       "      <td>21.25</td>\n",
       "      <td>130.00</td>\n",
       "      <td>1203.0</td>\n",
       "      <td>0.10960</td>\n",
       "      <td>0.15990</td>\n",
       "      <td>0.1974</td>\n",
       "      <td>0.12790</td>\n",
       "      <td>...</td>\n",
       "      <td>25.53</td>\n",
       "      <td>152.50</td>\n",
       "      <td>1709.0</td>\n",
       "      <td>0.1444</td>\n",
       "      <td>0.4245</td>\n",
       "      <td>0.4504</td>\n",
       "      <td>0.2430</td>\n",
       "      <td>0.3613</td>\n",
       "      <td>0.08758</td>\n",
       "      <td>NaN</td>\n",
       "    </tr>\n",
       "    <tr>\n",
       "      <th>3</th>\n",
       "      <td>84348301</td>\n",
       "      <td>1</td>\n",
       "      <td>11.42</td>\n",
       "      <td>20.38</td>\n",
       "      <td>77.58</td>\n",
       "      <td>386.1</td>\n",
       "      <td>0.14250</td>\n",
       "      <td>0.28390</td>\n",
       "      <td>0.2414</td>\n",
       "      <td>0.10520</td>\n",
       "      <td>...</td>\n",
       "      <td>26.50</td>\n",
       "      <td>98.87</td>\n",
       "      <td>567.7</td>\n",
       "      <td>0.2098</td>\n",
       "      <td>0.8663</td>\n",
       "      <td>0.6869</td>\n",
       "      <td>0.2575</td>\n",
       "      <td>0.6638</td>\n",
       "      <td>0.17300</td>\n",
       "      <td>NaN</td>\n",
       "    </tr>\n",
       "    <tr>\n",
       "      <th>4</th>\n",
       "      <td>84358402</td>\n",
       "      <td>1</td>\n",
       "      <td>20.29</td>\n",
       "      <td>14.34</td>\n",
       "      <td>135.10</td>\n",
       "      <td>1297.0</td>\n",
       "      <td>0.10030</td>\n",
       "      <td>0.13280</td>\n",
       "      <td>0.1980</td>\n",
       "      <td>0.10430</td>\n",
       "      <td>...</td>\n",
       "      <td>16.67</td>\n",
       "      <td>152.20</td>\n",
       "      <td>1575.0</td>\n",
       "      <td>0.1374</td>\n",
       "      <td>0.2050</td>\n",
       "      <td>0.4000</td>\n",
       "      <td>0.1625</td>\n",
       "      <td>0.2364</td>\n",
       "      <td>0.07678</td>\n",
       "      <td>NaN</td>\n",
       "    </tr>\n",
       "  </tbody>\n",
       "</table>\n",
       "<p>5 rows × 33 columns</p>\n",
       "</div>"
      ],
      "text/plain": [
       "         id  diagnosis  radius_mean  texture_mean  perimeter_mean  area_mean  \\\n",
       "0    842302          1        17.99         10.38          122.80     1001.0   \n",
       "1    842517          1        20.57         17.77          132.90     1326.0   \n",
       "2  84300903          1        19.69         21.25          130.00     1203.0   \n",
       "3  84348301          1        11.42         20.38           77.58      386.1   \n",
       "4  84358402          1        20.29         14.34          135.10     1297.0   \n",
       "\n",
       "   smoothness_mean  compactness_mean  concavity_mean  concave points_mean  \\\n",
       "0          0.11840           0.27760          0.3001              0.14710   \n",
       "1          0.08474           0.07864          0.0869              0.07017   \n",
       "2          0.10960           0.15990          0.1974              0.12790   \n",
       "3          0.14250           0.28390          0.2414              0.10520   \n",
       "4          0.10030           0.13280          0.1980              0.10430   \n",
       "\n",
       "   ...  texture_worst  perimeter_worst  area_worst  smoothness_worst  \\\n",
       "0  ...          17.33           184.60      2019.0            0.1622   \n",
       "1  ...          23.41           158.80      1956.0            0.1238   \n",
       "2  ...          25.53           152.50      1709.0            0.1444   \n",
       "3  ...          26.50            98.87       567.7            0.2098   \n",
       "4  ...          16.67           152.20      1575.0            0.1374   \n",
       "\n",
       "   compactness_worst  concavity_worst  concave points_worst  symmetry_worst  \\\n",
       "0             0.6656           0.7119                0.2654          0.4601   \n",
       "1             0.1866           0.2416                0.1860          0.2750   \n",
       "2             0.4245           0.4504                0.2430          0.3613   \n",
       "3             0.8663           0.6869                0.2575          0.6638   \n",
       "4             0.2050           0.4000                0.1625          0.2364   \n",
       "\n",
       "   fractal_dimension_worst  Unnamed: 32  \n",
       "0                  0.11890          NaN  \n",
       "1                  0.08902          NaN  \n",
       "2                  0.08758          NaN  \n",
       "3                  0.17300          NaN  \n",
       "4                  0.07678          NaN  \n",
       "\n",
       "[5 rows x 33 columns]"
      ]
     },
     "execution_count": 18,
     "metadata": {},
     "output_type": "execute_result"
    }
   ],
   "source": [
    "#X_train, y_train, X_test, y_test = LoadData()\n",
    "model_full.head()"
   ]
  },
  {
   "cell_type": "code",
   "execution_count": 19,
   "metadata": {},
   "outputs": [
    {
     "data": {
      "text/html": [
       "<div>\n",
       "<style scoped>\n",
       "    .dataframe tbody tr th:only-of-type {\n",
       "        vertical-align: middle;\n",
       "    }\n",
       "\n",
       "    .dataframe tbody tr th {\n",
       "        vertical-align: top;\n",
       "    }\n",
       "\n",
       "    .dataframe thead th {\n",
       "        text-align: right;\n",
       "    }\n",
       "</style>\n",
       "<table border=\"1\" class=\"dataframe\">\n",
       "  <thead>\n",
       "    <tr style=\"text-align: right;\">\n",
       "      <th></th>\n",
       "      <th>id</th>\n",
       "      <th>diagnosis</th>\n",
       "      <th>radius_mean</th>\n",
       "      <th>texture_mean</th>\n",
       "      <th>perimeter_mean</th>\n",
       "      <th>area_mean</th>\n",
       "      <th>smoothness_mean</th>\n",
       "      <th>compactness_mean</th>\n",
       "      <th>concavity_mean</th>\n",
       "      <th>concave points_mean</th>\n",
       "      <th>...</th>\n",
       "      <th>texture_worst</th>\n",
       "      <th>perimeter_worst</th>\n",
       "      <th>area_worst</th>\n",
       "      <th>smoothness_worst</th>\n",
       "      <th>compactness_worst</th>\n",
       "      <th>concavity_worst</th>\n",
       "      <th>concave points_worst</th>\n",
       "      <th>symmetry_worst</th>\n",
       "      <th>fractal_dimension_worst</th>\n",
       "      <th>Unnamed: 32</th>\n",
       "    </tr>\n",
       "  </thead>\n",
       "  <tbody>\n",
       "    <tr>\n",
       "      <th>count</th>\n",
       "      <td>5.690000e+02</td>\n",
       "      <td>569.000000</td>\n",
       "      <td>569.000000</td>\n",
       "      <td>569.000000</td>\n",
       "      <td>569.000000</td>\n",
       "      <td>569.000000</td>\n",
       "      <td>569.000000</td>\n",
       "      <td>569.000000</td>\n",
       "      <td>569.000000</td>\n",
       "      <td>569.000000</td>\n",
       "      <td>...</td>\n",
       "      <td>569.000000</td>\n",
       "      <td>569.000000</td>\n",
       "      <td>569.000000</td>\n",
       "      <td>569.000000</td>\n",
       "      <td>569.000000</td>\n",
       "      <td>569.000000</td>\n",
       "      <td>569.000000</td>\n",
       "      <td>569.000000</td>\n",
       "      <td>569.000000</td>\n",
       "      <td>0.0</td>\n",
       "    </tr>\n",
       "    <tr>\n",
       "      <th>mean</th>\n",
       "      <td>3.037183e+07</td>\n",
       "      <td>0.372583</td>\n",
       "      <td>14.127292</td>\n",
       "      <td>19.289649</td>\n",
       "      <td>91.969033</td>\n",
       "      <td>654.889104</td>\n",
       "      <td>0.096360</td>\n",
       "      <td>0.104341</td>\n",
       "      <td>0.088799</td>\n",
       "      <td>0.048919</td>\n",
       "      <td>...</td>\n",
       "      <td>25.677223</td>\n",
       "      <td>107.261213</td>\n",
       "      <td>880.583128</td>\n",
       "      <td>0.132369</td>\n",
       "      <td>0.254265</td>\n",
       "      <td>0.272188</td>\n",
       "      <td>0.114606</td>\n",
       "      <td>0.290076</td>\n",
       "      <td>0.083946</td>\n",
       "      <td>NaN</td>\n",
       "    </tr>\n",
       "    <tr>\n",
       "      <th>std</th>\n",
       "      <td>1.250206e+08</td>\n",
       "      <td>0.483918</td>\n",
       "      <td>3.524049</td>\n",
       "      <td>4.301036</td>\n",
       "      <td>24.298981</td>\n",
       "      <td>351.914129</td>\n",
       "      <td>0.014064</td>\n",
       "      <td>0.052813</td>\n",
       "      <td>0.079720</td>\n",
       "      <td>0.038803</td>\n",
       "      <td>...</td>\n",
       "      <td>6.146258</td>\n",
       "      <td>33.602542</td>\n",
       "      <td>569.356993</td>\n",
       "      <td>0.022832</td>\n",
       "      <td>0.157336</td>\n",
       "      <td>0.208624</td>\n",
       "      <td>0.065732</td>\n",
       "      <td>0.061867</td>\n",
       "      <td>0.018061</td>\n",
       "      <td>NaN</td>\n",
       "    </tr>\n",
       "    <tr>\n",
       "      <th>min</th>\n",
       "      <td>8.670000e+03</td>\n",
       "      <td>0.000000</td>\n",
       "      <td>6.981000</td>\n",
       "      <td>9.710000</td>\n",
       "      <td>43.790000</td>\n",
       "      <td>143.500000</td>\n",
       "      <td>0.052630</td>\n",
       "      <td>0.019380</td>\n",
       "      <td>0.000000</td>\n",
       "      <td>0.000000</td>\n",
       "      <td>...</td>\n",
       "      <td>12.020000</td>\n",
       "      <td>50.410000</td>\n",
       "      <td>185.200000</td>\n",
       "      <td>0.071170</td>\n",
       "      <td>0.027290</td>\n",
       "      <td>0.000000</td>\n",
       "      <td>0.000000</td>\n",
       "      <td>0.156500</td>\n",
       "      <td>0.055040</td>\n",
       "      <td>NaN</td>\n",
       "    </tr>\n",
       "    <tr>\n",
       "      <th>25%</th>\n",
       "      <td>8.692180e+05</td>\n",
       "      <td>0.000000</td>\n",
       "      <td>11.700000</td>\n",
       "      <td>16.170000</td>\n",
       "      <td>75.170000</td>\n",
       "      <td>420.300000</td>\n",
       "      <td>0.086370</td>\n",
       "      <td>0.064920</td>\n",
       "      <td>0.029560</td>\n",
       "      <td>0.020310</td>\n",
       "      <td>...</td>\n",
       "      <td>21.080000</td>\n",
       "      <td>84.110000</td>\n",
       "      <td>515.300000</td>\n",
       "      <td>0.116600</td>\n",
       "      <td>0.147200</td>\n",
       "      <td>0.114500</td>\n",
       "      <td>0.064930</td>\n",
       "      <td>0.250400</td>\n",
       "      <td>0.071460</td>\n",
       "      <td>NaN</td>\n",
       "    </tr>\n",
       "    <tr>\n",
       "      <th>50%</th>\n",
       "      <td>9.060240e+05</td>\n",
       "      <td>0.000000</td>\n",
       "      <td>13.370000</td>\n",
       "      <td>18.840000</td>\n",
       "      <td>86.240000</td>\n",
       "      <td>551.100000</td>\n",
       "      <td>0.095870</td>\n",
       "      <td>0.092630</td>\n",
       "      <td>0.061540</td>\n",
       "      <td>0.033500</td>\n",
       "      <td>...</td>\n",
       "      <td>25.410000</td>\n",
       "      <td>97.660000</td>\n",
       "      <td>686.500000</td>\n",
       "      <td>0.131300</td>\n",
       "      <td>0.211900</td>\n",
       "      <td>0.226700</td>\n",
       "      <td>0.099930</td>\n",
       "      <td>0.282200</td>\n",
       "      <td>0.080040</td>\n",
       "      <td>NaN</td>\n",
       "    </tr>\n",
       "    <tr>\n",
       "      <th>75%</th>\n",
       "      <td>8.813129e+06</td>\n",
       "      <td>1.000000</td>\n",
       "      <td>15.780000</td>\n",
       "      <td>21.800000</td>\n",
       "      <td>104.100000</td>\n",
       "      <td>782.700000</td>\n",
       "      <td>0.105300</td>\n",
       "      <td>0.130400</td>\n",
       "      <td>0.130700</td>\n",
       "      <td>0.074000</td>\n",
       "      <td>...</td>\n",
       "      <td>29.720000</td>\n",
       "      <td>125.400000</td>\n",
       "      <td>1084.000000</td>\n",
       "      <td>0.146000</td>\n",
       "      <td>0.339100</td>\n",
       "      <td>0.382900</td>\n",
       "      <td>0.161400</td>\n",
       "      <td>0.317900</td>\n",
       "      <td>0.092080</td>\n",
       "      <td>NaN</td>\n",
       "    </tr>\n",
       "    <tr>\n",
       "      <th>max</th>\n",
       "      <td>9.113205e+08</td>\n",
       "      <td>1.000000</td>\n",
       "      <td>28.110000</td>\n",
       "      <td>39.280000</td>\n",
       "      <td>188.500000</td>\n",
       "      <td>2501.000000</td>\n",
       "      <td>0.163400</td>\n",
       "      <td>0.345400</td>\n",
       "      <td>0.426800</td>\n",
       "      <td>0.201200</td>\n",
       "      <td>...</td>\n",
       "      <td>49.540000</td>\n",
       "      <td>251.200000</td>\n",
       "      <td>4254.000000</td>\n",
       "      <td>0.222600</td>\n",
       "      <td>1.058000</td>\n",
       "      <td>1.252000</td>\n",
       "      <td>0.291000</td>\n",
       "      <td>0.663800</td>\n",
       "      <td>0.207500</td>\n",
       "      <td>NaN</td>\n",
       "    </tr>\n",
       "  </tbody>\n",
       "</table>\n",
       "<p>8 rows × 33 columns</p>\n",
       "</div>"
      ],
      "text/plain": [
       "                 id   diagnosis  radius_mean  texture_mean  perimeter_mean  \\\n",
       "count  5.690000e+02  569.000000   569.000000    569.000000      569.000000   \n",
       "mean   3.037183e+07    0.372583    14.127292     19.289649       91.969033   \n",
       "std    1.250206e+08    0.483918     3.524049      4.301036       24.298981   \n",
       "min    8.670000e+03    0.000000     6.981000      9.710000       43.790000   \n",
       "25%    8.692180e+05    0.000000    11.700000     16.170000       75.170000   \n",
       "50%    9.060240e+05    0.000000    13.370000     18.840000       86.240000   \n",
       "75%    8.813129e+06    1.000000    15.780000     21.800000      104.100000   \n",
       "max    9.113205e+08    1.000000    28.110000     39.280000      188.500000   \n",
       "\n",
       "         area_mean  smoothness_mean  compactness_mean  concavity_mean  \\\n",
       "count   569.000000       569.000000        569.000000      569.000000   \n",
       "mean    654.889104         0.096360          0.104341        0.088799   \n",
       "std     351.914129         0.014064          0.052813        0.079720   \n",
       "min     143.500000         0.052630          0.019380        0.000000   \n",
       "25%     420.300000         0.086370          0.064920        0.029560   \n",
       "50%     551.100000         0.095870          0.092630        0.061540   \n",
       "75%     782.700000         0.105300          0.130400        0.130700   \n",
       "max    2501.000000         0.163400          0.345400        0.426800   \n",
       "\n",
       "       concave points_mean  ...  texture_worst  perimeter_worst   area_worst  \\\n",
       "count           569.000000  ...     569.000000       569.000000   569.000000   \n",
       "mean              0.048919  ...      25.677223       107.261213   880.583128   \n",
       "std               0.038803  ...       6.146258        33.602542   569.356993   \n",
       "min               0.000000  ...      12.020000        50.410000   185.200000   \n",
       "25%               0.020310  ...      21.080000        84.110000   515.300000   \n",
       "50%               0.033500  ...      25.410000        97.660000   686.500000   \n",
       "75%               0.074000  ...      29.720000       125.400000  1084.000000   \n",
       "max               0.201200  ...      49.540000       251.200000  4254.000000   \n",
       "\n",
       "       smoothness_worst  compactness_worst  concavity_worst  \\\n",
       "count        569.000000         569.000000       569.000000   \n",
       "mean           0.132369           0.254265         0.272188   \n",
       "std            0.022832           0.157336         0.208624   \n",
       "min            0.071170           0.027290         0.000000   \n",
       "25%            0.116600           0.147200         0.114500   \n",
       "50%            0.131300           0.211900         0.226700   \n",
       "75%            0.146000           0.339100         0.382900   \n",
       "max            0.222600           1.058000         1.252000   \n",
       "\n",
       "       concave points_worst  symmetry_worst  fractal_dimension_worst  \\\n",
       "count            569.000000      569.000000               569.000000   \n",
       "mean               0.114606        0.290076                 0.083946   \n",
       "std                0.065732        0.061867                 0.018061   \n",
       "min                0.000000        0.156500                 0.055040   \n",
       "25%                0.064930        0.250400                 0.071460   \n",
       "50%                0.099930        0.282200                 0.080040   \n",
       "75%                0.161400        0.317900                 0.092080   \n",
       "max                0.291000        0.663800                 0.207500   \n",
       "\n",
       "       Unnamed: 32  \n",
       "count          0.0  \n",
       "mean           NaN  \n",
       "std            NaN  \n",
       "min            NaN  \n",
       "25%            NaN  \n",
       "50%            NaN  \n",
       "75%            NaN  \n",
       "max            NaN  \n",
       "\n",
       "[8 rows x 33 columns]"
      ]
     },
     "execution_count": 19,
     "metadata": {},
     "output_type": "execute_result"
    }
   ],
   "source": [
    "model_full.describe()"
   ]
  },
  {
   "cell_type": "code",
   "execution_count": 20,
   "metadata": {},
   "outputs": [
    {
     "data": {
      "text/plain": [
       "id                           int64\n",
       "diagnosis                    int64\n",
       "radius_mean                float64\n",
       "texture_mean               float64\n",
       "perimeter_mean             float64\n",
       "area_mean                  float64\n",
       "smoothness_mean            float64\n",
       "compactness_mean           float64\n",
       "concavity_mean             float64\n",
       "concave points_mean        float64\n",
       "symmetry_mean              float64\n",
       "fractal_dimension_mean     float64\n",
       "radius_se                  float64\n",
       "texture_se                 float64\n",
       "perimeter_se               float64\n",
       "area_se                    float64\n",
       "smoothness_se              float64\n",
       "compactness_se             float64\n",
       "concavity_se               float64\n",
       "concave points_se          float64\n",
       "symmetry_se                float64\n",
       "fractal_dimension_se       float64\n",
       "radius_worst               float64\n",
       "texture_worst              float64\n",
       "perimeter_worst            float64\n",
       "area_worst                 float64\n",
       "smoothness_worst           float64\n",
       "compactness_worst          float64\n",
       "concavity_worst            float64\n",
       "concave points_worst       float64\n",
       "symmetry_worst             float64\n",
       "fractal_dimension_worst    float64\n",
       "Unnamed: 32                float64\n",
       "dtype: object"
      ]
     },
     "execution_count": 20,
     "metadata": {},
     "output_type": "execute_result"
    }
   ],
   "source": [
    "model_full.dtypes"
   ]
  },
  {
   "cell_type": "code",
   "execution_count": 21,
   "metadata": {},
   "outputs": [
    {
     "name": "stdout",
     "output_type": "stream",
     "text": [
      "Distribution of Cancer patients on whole data\n"
     ]
    },
    {
     "data": {
      "image/png": "[encoded data removed]",
      "text/plain": [
       "<Figure size 432x288 with 1 Axes>"
      ]
     },
     "metadata": {
      "needs_background": "light"
     },
     "output_type": "display_data"
    }
   ],
   "source": [
    "# lets get the % of Cancer Patients\n",
    "print('Distribution of Cancer patients on whole data')\n",
    "ax = sns.countplot(model_full['diagnosis'])\n",
    "ax.set_ylabel('Percentage of patients (%)')\n",
    "bars = ax.patches\n",
    "half = int(len(bars)/2)\n",
    "left_bars = bars[:half]\n",
    "right_bars = bars[half:]\n",
    "for left, right in zip(left_bars, right_bars):\n",
    "    height_l = left.get_height()\n",
    "    height_r = right.get_height()\n",
    "    total = height_l + height_r\n",
    "    ax.text(left.get_x() + left.get_width()/2., height_l + 40, '{0:.0%}'.format(height_l/total), ha=\"center\")\n",
    "    ax.text(right.get_x() + right.get_width()/2., height_r + 40, '{0:.0%}'.format(height_r/total), ha=\"center\")"
   ]
  },
  {
   "cell_type": "code",
   "execution_count": 22,
   "metadata": {},
   "outputs": [
    {
     "name": "stdout",
     "output_type": "stream",
     "text": [
      "Distribution of the data:\n",
      "----------------------------------------------------\n",
      "The total data has 569 rows and 33 columns\n",
      "\n",
      "Malignent cases = 212  and % = 37.26 \n",
      "\n",
      "Benign cases = 357  and % = 62.74 \n",
      "\n",
      "----------------------------------------------------\n",
      "Distribution of training data\n",
      "----------------------------------------------------\n",
      "The train data has 398 rows and 16 columns\n",
      "\n",
      "The training data % = 69.95 \n",
      "\n",
      "Malignent cases = 152  and % = 38.19 \n",
      "\n",
      "Benign cases = 246  and % = 61.81 \n",
      "\n",
      "----------------------------------------------------\n",
      "Distribution of testing data\n",
      "----------------------------------------------------\n",
      "The test data has 171 rows and 16 columns\n",
      "\n",
      "The testing data % = 30.05 \n",
      "\n",
      "Malignent cases = 60  and % = 35.09 \n",
      "\n",
      "Benign cases = 111  and % = 64.91 \n",
      "\n",
      "Training data : Distribution of patients\n"
     ]
    },
    {
     "data": {
      "image/png": "[encoded data removed]",
      "text/plain": [
       "<Figure size 432x288 with 1 Axes>"
      ]
     },
     "metadata": {
      "needs_background": "light"
     },
     "output_type": "display_data"
    }
   ],
   "source": [
    "no, yes = model_full['diagnosis'].value_counts()\n",
    "#X_train, y_train, X_test, y_test = LoadData()\n",
    "print('Distribution of the data:')\n",
    "print ('----------------------------------------------------')\n",
    "print ('The total data has {0} rows and {1} columns'.format(model_full.shape[0],model_full.shape[1]))\n",
    "print ('')\n",
    "print ('Malignent cases = {0}  and % = {1} '.format(yes,np.round((yes/model_full.shape[0])*100,2)))\n",
    "print ('')\n",
    "print ('Benign cases = {0}  and % = {1} '.format(no,np.round((no/model_full.shape[0])*100,2)))\n",
    "print ('')\n",
    "print ('----------------------------------------------------')\n",
    "print ('Distribution of training data')\n",
    "print ('----------------------------------------------------')\n",
    "print ('The train data has {0} rows and {1} columns'.format(X_train.shape[0],X_train.shape[1]))\n",
    "print ('')\n",
    "print ('The training data % = {0} '.format(np.round((X_train.shape[0]/model_full.shape[0])*100,2)))\n",
    "print ('')\n",
    "y_tr = y_train.sum()\n",
    "n_tr = X_train.shape[0] -y_tr    #yes1\n",
    "print ('Malignent cases = {0}  and % = {1} '.format(y_tr,np.round((y_tr/X_train.shape[0])*100,2)))\n",
    "print ('')\n",
    "print ('Benign cases = {0}  and % = {1} '.format(n_tr,np.round((n_tr/X_train.shape[0])*100,2)))\n",
    "print ('')\n",
    "print ('----------------------------------------------------')\n",
    "print ('Distribution of testing data')\n",
    "print ('----------------------------------------------------')\n",
    "print ('The test data has {0} rows and {1} columns'.format(X_test.shape[0],X_test.shape[1]))\n",
    "print ('')\n",
    "print ('The testing data % = {0} '.format(np.round((X_test.shape[0]/model_full.shape[0])*100,2)))\n",
    "print ('')\n",
    "y_te = y_test.sum()\n",
    "n_te = X_test.shape[0] -y_te\n",
    "print ('Malignent cases = {0}  and % = {1} '.format(y_te,np.round((y_te/X_test.shape[0])*100,2)))\n",
    "print ('')\n",
    "print ('Benign cases = {0}  and % = {1} '.format(n_te,np.round((n_te/X_test.shape[0])*100,2)))\n",
    "print ('')\n",
    "# lets get the % of Blood Transfusion patients\n",
    "print('Training data : Distribution of patients')\n",
    "ax = sns.countplot(y_train)\n",
    "ax.set_ylabel('Percentage of patients (%)')\n",
    "bars = ax.patches\n",
    "half = int(len(bars)/2)\n",
    "left_bars = bars[:half]\n",
    "right_bars = bars[half:]\n",
    "for left, right in zip(left_bars, right_bars):\n",
    "    height_l = left.get_height()\n",
    "    height_r = right.get_height()\n",
    "    total = height_l + height_r\n",
    "    ax.text(left.get_x() + left.get_width()/2., height_l + 40, '{0:.0%}'.format(height_l/total), ha=\"center\")\n",
    "    ax.text(right.get_x() + right.get_width()/2., height_r + 40, '{0:.0%}'.format(height_r/total), ha=\"center\")"
   ]
  },
  {
   "cell_type": "code",
   "execution_count": 23,
   "metadata": {},
   "outputs": [
    {
     "name": "stdout",
     "output_type": "stream",
     "text": [
      "Testing data : Distribution of patients\n"
     ]
    },
    {
     "data": {
      "image/png": "[encoded data removed]",
      "text/plain": [
       "<Figure size 432x288 with 1 Axes>"
      ]
     },
     "metadata": {
      "needs_background": "light"
     },
     "output_type": "display_data"
    }
   ],
   "source": [
    "# lets get the % of Blood Transfusion patients\n",
    "print('Testing data : Distribution of patients')\n",
    "ax = sns.countplot(y_test)\n",
    "ax.set_ylabel('Percentage of patients (%)')\n",
    "bars = ax.patches\n",
    "half = int(len(bars)/2)\n",
    "left_bars = bars[:half]\n",
    "right_bars = bars[half:]\n",
    "for left, right in zip(left_bars, right_bars):\n",
    "    height_l = left.get_height()\n",
    "    height_r = right.get_height()\n",
    "    total = height_l + height_r\n",
    "    ax.text(left.get_x() + left.get_width()/2., height_l + 40, '{0:.0%}'.format(height_l/total), ha=\"center\")\n",
    "    ax.text(right.get_x() + right.get_width()/2., height_r + 40, '{0:.0%}'.format(height_r/total), ha=\"center\")"
   ]
  },
  {
   "cell_type": "markdown",
   "metadata": {},
   "source": [
    "### Build models "
   ]
  },
  {
   "cell_type": "markdown",
   "metadata": {},
   "source": [
    "### Define basic non-linear classifiers"
   ]
  },
  {
   "cell_type": "code",
   "execution_count": 24,
   "metadata": {},
   "outputs": [],
   "source": [
    "nonlr_clf_dict = dict()\n",
    "\n",
    "# 1\n",
    "from sklearn.linear_model import LogisticRegression\n",
    "clf = LogisticRegression()\n",
    "nonlr_clf_dict['Logistic Regression'] = clf\n",
    "\n",
    "# 2\n",
    "from sklearn.ensemble import RandomForestClassifier\n",
    "clf = RandomForestClassifier()\n",
    "nonlr_clf_dict['Random Forest Classifier'] = clf\n",
    "\n",
    "# 3\n",
    "from sklearn.ensemble import GradientBoostingClassifier\n",
    "clf = GradientBoostingClassifier()\n",
    "nonlr_clf_dict['Gradient Boosting Classifier'] = clf\n",
    "\n",
    "# 4\n",
    "from sklearn.ensemble import ExtraTreesClassifier\n",
    "clf = ExtraTreesClassifier()\n",
    "nonlr_clf_dict['Extra Trees Classifier'] = clf\n",
    "\n",
    "# 5\n",
    "from xgboost import XGBClassifier\n",
    "clf = XGBClassifier()\n",
    "nonlr_clf_dict['XGB Classifier'] = clf\n",
    "\n",
    "# 6\n",
    "from sklearn.neighbors import KNeighborsClassifier\n",
    "clf = KNeighborsClassifier()\n",
    "nonlr_clf_dict['KNeighbors Classifier'] = clf\n",
    "\n",
    "# 7\n",
    "from sklearn.svm import SVC\n",
    "clf = SVC(kernel='rbf',probability=True)   \n",
    "nonlr_clf_dict['SVM Classifier'] = clf"
   ]
  },
  {
   "cell_type": "markdown",
   "metadata": {},
   "source": [
    "### Build models "
   ]
  },
  {
   "cell_type": "code",
   "execution_count": 27,
   "metadata": {},
   "outputs": [
    {
     "name": "stderr",
     "output_type": "stream",
     "text": [
      "[Parallel(n_jobs=2)]: Using backend LokyBackend with 2 concurrent workers.\n",
      "[Parallel(n_jobs=2)]: Done   5 out of   5 | elapsed:    3.1s finished\n",
      "[Parallel(n_jobs=2)]: Using backend LokyBackend with 2 concurrent workers.\n",
      "[Parallel(n_jobs=2)]: Done   5 out of   5 | elapsed:    0.0s finished\n",
      "[Parallel(n_jobs=2)]: Using backend LokyBackend with 2 concurrent workers.\n",
      "[Parallel(n_jobs=2)]: Done   5 out of   5 | elapsed:    0.0s finished\n",
      "[Parallel(n_jobs=2)]: Using backend LokyBackend with 2 concurrent workers.\n",
      "[Parallel(n_jobs=2)]: Done   5 out of   5 | elapsed:    0.0s finished\n",
      "[Parallel(n_jobs=2)]: Using backend LokyBackend with 2 concurrent workers.\n",
      "[Parallel(n_jobs=2)]: Done   5 out of   5 | elapsed:    0.0s finished\n",
      "[Parallel(n_jobs=2)]: Using backend LokyBackend with 2 concurrent workers.\n",
      "[Parallel(n_jobs=2)]: Done   5 out of   5 | elapsed:    0.0s finished\n"
     ]
    },
    {
     "name": "stdout",
     "output_type": "stream",
     "text": [
      "---------------------------------------------------------------------\n",
      "Logistic Regression\n",
      "---------------------------------------------------------------------\n",
      "Cross Validation scores on training data\n",
      "Scoring Name: CV mean: %.5f CV std: %.5f accuracy 0.9723734177215189 0.012222566146985407\n",
      "\n",
      "---------------------------------------------------------------------\n",
      "Logistic Regression\n",
      "---------------------------------------------------------------------\n",
      "Cross Validation scores on training data\n",
      "Scoring Name: CV mean: %.5f CV std: %.5f precision 0.9804166666666667 0.01600781059358212\n",
      "\n",
      "---------------------------------------------------------------------\n",
      "Logistic Regression\n",
      "---------------------------------------------------------------------\n",
      "Cross Validation scores on training data\n",
      "Scoring Name: CV mean: %.5f CV std: %.5f recall 0.9475268817204302 0.04370091435653468\n",
      "\n",
      "---------------------------------------------------------------------\n",
      "Logistic Regression\n",
      "---------------------------------------------------------------------\n",
      "Cross Validation scores on training data\n",
      "Scoring Name: CV mean: %.5f CV std: %.5f f1 0.9628024083196497 0.01732728444679454\n",
      "\n",
      "---------------------------------------------------------------------\n",
      "Logistic Regression\n",
      "---------------------------------------------------------------------\n",
      "Cross Validation scores on training data\n",
      "Scoring Name: CV mean: %.5f CV std: %.5f average_precision 0.994017665645935 0.005364974553079619\n",
      "\n",
      "---------------------------------------------------------------------\n",
      "Logistic Regression\n",
      "---------------------------------------------------------------------\n",
      "Cross Validation scores on training data\n",
      "Scoring Name: CV mean: %.5f CV std: %.5f roc_auc 0.994294930875576 0.006767943324947326\n",
      "\n",
      "Average precision-recall score: 0.99\n",
      "╒════════════════════════╤═══════════════════════╕\n",
      "│ Metric                 │   Testing Performance │\n",
      "╞════════════════════════╪═══════════════════════╡\n",
      "│ accuracy               │             0.959064  │\n",
      "├────────────────────────┼───────────────────────┤\n",
      "│ precision              │             0.964912  │\n",
      "├────────────────────────┼───────────────────────┤\n",
      "│ recall                 │             0.916667  │\n",
      "├────────────────────────┼───────────────────────┤\n",
      "│ misclassification rate │             0.0409357 │\n",
      "├────────────────────────┼───────────────────────┤\n",
      "│ F1                     │             0.940171  │\n",
      "├────────────────────────┼───────────────────────┤\n",
      "│ r2                     │             0.82027   │\n",
      "├────────────────────────┼───────────────────────┤\n",
      "│ AUC                    │             0.949324  │\n",
      "├────────────────────────┼───────────────────────┤\n",
      "│ mse                    │             0.0409357 │\n",
      "├────────────────────────┼───────────────────────┤\n",
      "│ logloss                │             1.41388   │\n",
      "╘════════════════════════╧═══════════════════════╛\n",
      "\n",
      "Classification report:\n",
      "               precision    recall  f1-score   support\n",
      "\n",
      "           0       0.96      0.98      0.97       111\n",
      "           1       0.96      0.92      0.94        60\n",
      "\n",
      "    accuracy                           0.96       171\n",
      "   macro avg       0.96      0.95      0.95       171\n",
      "weighted avg       0.96      0.96      0.96       171\n",
      "\n",
      "\n",
      "Correct classifications on test data: 164/171   95.906%\n"
     ]
    },
    {
     "data": {
      "image/png": "[encoded data removed]",
      "text/plain": [
       "<Figure size 432x288 with 2 Axes>"
      ]
     },
     "metadata": {
      "needs_background": "light"
     },
     "output_type": "display_data"
    },
    {
     "data": {
      "image/png": "[encoded data removed]",
      "text/plain": [
       "<Figure size 720x360 with 2 Axes>"
      ]
     },
     "metadata": {
      "needs_background": "light"
     },
     "output_type": "display_data"
    },
    {
     "name": "stdout",
     "output_type": "stream",
     "text": [
      "\n"
     ]
    },
    {
     "name": "stderr",
     "output_type": "stream",
     "text": [
      "[Parallel(n_jobs=2)]: Using backend LokyBackend with 2 concurrent workers.\n",
      "[Parallel(n_jobs=2)]: Done   5 out of   5 | elapsed:    2.4s finished\n",
      "[Parallel(n_jobs=2)]: Using backend LokyBackend with 2 concurrent workers.\n"
     ]
    },
    {
     "name": "stdout",
     "output_type": "stream",
     "text": [
      "---------------------------------------------------------------------\n",
      "Random Forest Classifier\n",
      "---------------------------------------------------------------------\n",
      "Cross Validation scores on training data\n",
      "Scoring Name: CV mean: %.5f CV std: %.5f accuracy 0.9473734177215191 0.0288194727448887\n",
      "\n"
     ]
    },
    {
     "name": "stderr",
     "output_type": "stream",
     "text": [
      "[Parallel(n_jobs=2)]: Done   5 out of   5 | elapsed:    1.8s finished\n",
      "[Parallel(n_jobs=2)]: Using backend LokyBackend with 2 concurrent workers.\n"
     ]
    },
    {
     "name": "stdout",
     "output_type": "stream",
     "text": [
      "---------------------------------------------------------------------\n",
      "Random Forest Classifier\n",
      "---------------------------------------------------------------------\n",
      "Cross Validation scores on training data\n",
      "Scoring Name: CV mean: %.5f CV std: %.5f precision 0.9399078341013827 0.06593669745046894\n",
      "\n"
     ]
    },
    {
     "name": "stderr",
     "output_type": "stream",
     "text": [
      "[Parallel(n_jobs=2)]: Done   5 out of   5 | elapsed:    1.6s finished\n",
      "[Parallel(n_jobs=2)]: Using backend LokyBackend with 2 concurrent workers.\n"
     ]
    },
    {
     "name": "stdout",
     "output_type": "stream",
     "text": [
      "---------------------------------------------------------------------\n",
      "Random Forest Classifier\n",
      "---------------------------------------------------------------------\n",
      "Cross Validation scores on training data\n",
      "Scoring Name: CV mean: %.5f CV std: %.5f recall 0.9406451612903226 0.025073830165852865\n",
      "\n"
     ]
    },
    {
     "name": "stderr",
     "output_type": "stream",
     "text": [
      "[Parallel(n_jobs=2)]: Done   5 out of   5 | elapsed:    1.5s finished\n",
      "[Parallel(n_jobs=2)]: Using backend LokyBackend with 2 concurrent workers.\n"
     ]
    },
    {
     "name": "stdout",
     "output_type": "stream",
     "text": [
      "---------------------------------------------------------------------\n",
      "Random Forest Classifier\n",
      "---------------------------------------------------------------------\n",
      "Cross Validation scores on training data\n",
      "Scoring Name: CV mean: %.5f CV std: %.5f f1 0.9388768146943898 0.03374593791208212\n",
      "\n"
     ]
    },
    {
     "name": "stderr",
     "output_type": "stream",
     "text": [
      "[Parallel(n_jobs=2)]: Done   5 out of   5 | elapsed:    1.9s finished\n",
      "[Parallel(n_jobs=2)]: Using backend LokyBackend with 2 concurrent workers.\n"
     ]
    },
    {
     "name": "stdout",
     "output_type": "stream",
     "text": [
      "---------------------------------------------------------------------\n",
      "Random Forest Classifier\n",
      "---------------------------------------------------------------------\n",
      "Cross Validation scores on training data\n",
      "Scoring Name: CV mean: %.5f CV std: %.5f average_precision 0.9884695083001706 0.010717294059311993\n",
      "\n"
     ]
    },
    {
     "name": "stderr",
     "output_type": "stream",
     "text": [
      "[Parallel(n_jobs=2)]: Done   5 out of   5 | elapsed:    1.6s finished\n"
     ]
    },
    {
     "name": "stdout",
     "output_type": "stream",
     "text": [
      "---------------------------------------------------------------------\n",
      "Random Forest Classifier\n",
      "---------------------------------------------------------------------\n",
      "Cross Validation scores on training data\n",
      "Scoring Name: CV mean: %.5f CV std: %.5f roc_auc 0.9911529076146588 0.008027513436388266\n",
      "\n",
      "Average precision-recall score: 0.98\n",
      "╒════════════════════════╤═══════════════════════╕\n",
      "│ Metric                 │   Testing Performance │\n",
      "╞════════════════════════╪═══════════════════════╡\n",
      "│ accuracy               │             0.953216  │\n",
      "├────────────────────────┼───────────────────────┤\n",
      "│ precision              │             0.948276  │\n",
      "├────────────────────────┼───────────────────────┤\n",
      "│ recall                 │             0.916667  │\n",
      "├────────────────────────┼───────────────────────┤\n",
      "│ misclassification rate │             0.0467836 │\n",
      "├────────────────────────┼───────────────────────┤\n",
      "│ F1                     │             0.932203  │\n",
      "├────────────────────────┼───────────────────────┤\n",
      "│ r2                     │             0.794595  │\n",
      "├────────────────────────┼───────────────────────┤\n",
      "│ AUC                    │             0.94482   │\n",
      "├────────────────────────┼───────────────────────┤\n",
      "│ mse                    │             0.0467836 │\n",
      "├────────────────────────┼───────────────────────┤\n",
      "│ logloss                │             1.61586   │\n",
      "╘════════════════════════╧═══════════════════════╛\n",
      "\n",
      "Classification report:\n",
      "               precision    recall  f1-score   support\n",
      "\n",
      "           0       0.96      0.97      0.96       111\n",
      "           1       0.95      0.92      0.93        60\n",
      "\n",
      "    accuracy                           0.95       171\n",
      "   macro avg       0.95      0.94      0.95       171\n",
      "weighted avg       0.95      0.95      0.95       171\n",
      "\n",
      "\n",
      "Correct classifications on test data: 163/171   95.322%\n"
     ]
    },
    {
     "data": {
      "image/png": "[encoded data removed]",
      "text/plain": [
       "<Figure size 432x288 with 2 Axes>"
      ]
     },
     "metadata": {
      "needs_background": "light"
     },
     "output_type": "display_data"
    },
    {
     "data": {
      "image/png": "[encoded data removed]",
      "text/plain": [
       "<Figure size 720x360 with 2 Axes>"
      ]
     },
     "metadata": {
      "needs_background": "light"
     },
     "output_type": "display_data"
    },
    {
     "name": "stdout",
     "output_type": "stream",
     "text": [
      "\n"
     ]
    },
    {
     "name": "stderr",
     "output_type": "stream",
     "text": [
      "[Parallel(n_jobs=2)]: Using backend LokyBackend with 2 concurrent workers.\n",
      "[Parallel(n_jobs=2)]: Done   5 out of   5 | elapsed:    1.1s finished\n",
      "[Parallel(n_jobs=2)]: Using backend LokyBackend with 2 concurrent workers.\n"
     ]
    },
    {
     "name": "stdout",
     "output_type": "stream",
     "text": [
      "---------------------------------------------------------------------\n",
      "Gradient Boosting Classifier\n",
      "---------------------------------------------------------------------\n",
      "Cross Validation scores on training data\n",
      "Scoring Name: CV mean: %.5f CV std: %.5f accuracy 0.9547784810126583 0.024493221138709397\n",
      "\n"
     ]
    },
    {
     "name": "stderr",
     "output_type": "stream",
     "text": [
      "[Parallel(n_jobs=2)]: Done   5 out of   5 | elapsed:    1.0s finished\n",
      "[Parallel(n_jobs=2)]: Using backend LokyBackend with 2 concurrent workers.\n"
     ]
    },
    {
     "name": "stdout",
     "output_type": "stream",
     "text": [
      "---------------------------------------------------------------------\n",
      "Gradient Boosting Classifier\n",
      "---------------------------------------------------------------------\n",
      "Cross Validation scores on training data\n",
      "Scoring Name: CV mean: %.5f CV std: %.5f precision 0.9376389265383572 0.04854266613219397\n",
      "\n"
     ]
    },
    {
     "name": "stderr",
     "output_type": "stream",
     "text": [
      "[Parallel(n_jobs=2)]: Done   5 out of   5 | elapsed:    1.3s finished\n",
      "[Parallel(n_jobs=2)]: Using backend LokyBackend with 2 concurrent workers.\n"
     ]
    },
    {
     "name": "stdout",
     "output_type": "stream",
     "text": [
      "---------------------------------------------------------------------\n",
      "Gradient Boosting Classifier\n",
      "---------------------------------------------------------------------\n",
      "Cross Validation scores on training data\n",
      "Scoring Name: CV mean: %.5f CV std: %.5f recall 0.9473118279569892 0.02662674778370967\n",
      "\n"
     ]
    },
    {
     "name": "stderr",
     "output_type": "stream",
     "text": [
      "[Parallel(n_jobs=2)]: Done   5 out of   5 | elapsed:    1.2s finished\n",
      "[Parallel(n_jobs=2)]: Using backend LokyBackend with 2 concurrent workers.\n"
     ]
    },
    {
     "name": "stdout",
     "output_type": "stream",
     "text": [
      "---------------------------------------------------------------------\n",
      "Gradient Boosting Classifier\n",
      "---------------------------------------------------------------------\n",
      "Cross Validation scores on training data\n",
      "Scoring Name: CV mean: %.5f CV std: %.5f f1 0.9417176153411313 0.029919385543328667\n",
      "\n"
     ]
    },
    {
     "name": "stderr",
     "output_type": "stream",
     "text": [
      "[Parallel(n_jobs=2)]: Done   5 out of   5 | elapsed:    1.5s finished\n",
      "[Parallel(n_jobs=2)]: Using backend LokyBackend with 2 concurrent workers.\n"
     ]
    },
    {
     "name": "stdout",
     "output_type": "stream",
     "text": [
      "---------------------------------------------------------------------\n",
      "Gradient Boosting Classifier\n",
      "---------------------------------------------------------------------\n",
      "Cross Validation scores on training data\n",
      "Scoring Name: CV mean: %.5f CV std: %.5f average_precision 0.9876723448333461 0.012447596602402028\n",
      "\n"
     ]
    },
    {
     "name": "stderr",
     "output_type": "stream",
     "text": [
      "[Parallel(n_jobs=2)]: Done   5 out of   5 | elapsed:    1.4s finished\n"
     ]
    },
    {
     "name": "stdout",
     "output_type": "stream",
     "text": [
      "---------------------------------------------------------------------\n",
      "Gradient Boosting Classifier\n",
      "---------------------------------------------------------------------\n",
      "Cross Validation scores on training data\n",
      "Scoring Name: CV mean: %.5f CV std: %.5f roc_auc 0.9914963353083168 0.009078270957838855\n",
      "\n",
      "Average precision-recall score: 0.97\n",
      "╒════════════════════════╤═══════════════════════╕\n",
      "│ Metric                 │   Testing Performance │\n",
      "╞════════════════════════╪═══════════════════════╡\n",
      "│ accuracy               │             0.912281  │\n",
      "├────────────────────────┼───────────────────────┤\n",
      "│ precision              │             0.881356  │\n",
      "├────────────────────────┼───────────────────────┤\n",
      "│ recall                 │             0.866667  │\n",
      "├────────────────────────┼───────────────────────┤\n",
      "│ misclassification rate │             0.0877193 │\n",
      "├────────────────────────┼───────────────────────┤\n",
      "│ F1                     │             0.87395   │\n",
      "├────────────────────────┼───────────────────────┤\n",
      "│ r2                     │             0.614865  │\n",
      "├────────────────────────┼───────────────────────┤\n",
      "│ AUC                    │             0.901802  │\n",
      "├────────────────────────┼───────────────────────┤\n",
      "│ mse                    │             0.0877193 │\n",
      "├────────────────────────┼───────────────────────┤\n",
      "│ logloss                │             3.02975   │\n",
      "╘════════════════════════╧═══════════════════════╛\n",
      "\n",
      "Classification report:\n",
      "               precision    recall  f1-score   support\n",
      "\n",
      "           0       0.93      0.94      0.93       111\n",
      "           1       0.88      0.87      0.87        60\n",
      "\n",
      "    accuracy                           0.91       171\n",
      "   macro avg       0.90      0.90      0.90       171\n",
      "weighted avg       0.91      0.91      0.91       171\n",
      "\n",
      "\n",
      "Correct classifications on test data: 156/171   91.228%\n"
     ]
    },
    {
     "data": {
      "image/png": "[encoded data removed]",
      "text/plain": [
       "<Figure size 432x288 with 2 Axes>"
      ]
     },
     "metadata": {
      "needs_background": "light"
     },
     "output_type": "display_data"
    },
    {
     "data": {
      "image/png": "[encoded data removed]",
      "text/plain": [
       "<Figure size 720x360 with 2 Axes>"
      ]
     },
     "metadata": {
      "needs_background": "light"
     },
     "output_type": "display_data"
    },
    {
     "name": "stdout",
     "output_type": "stream",
     "text": [
      "\n"
     ]
    },
    {
     "name": "stderr",
     "output_type": "stream",
     "text": [
      "[Parallel(n_jobs=2)]: Using backend LokyBackend with 2 concurrent workers.\n",
      "[Parallel(n_jobs=2)]: Done   5 out of   5 | elapsed:    1.0s finished\n",
      "[Parallel(n_jobs=2)]: Using backend LokyBackend with 2 concurrent workers.\n"
     ]
    },
    {
     "name": "stdout",
     "output_type": "stream",
     "text": [
      "---------------------------------------------------------------------\n",
      "Extra Trees Classifier\n",
      "---------------------------------------------------------------------\n",
      "Cross Validation scores on training data\n",
      "Scoring Name: CV mean: %.5f CV std: %.5f accuracy 0.9549050632911392 0.03834615255117899\n",
      "\n"
     ]
    },
    {
     "name": "stderr",
     "output_type": "stream",
     "text": [
      "[Parallel(n_jobs=2)]: Done   5 out of   5 | elapsed:    0.7s finished\n",
      "[Parallel(n_jobs=2)]: Using backend LokyBackend with 2 concurrent workers.\n"
     ]
    },
    {
     "name": "stdout",
     "output_type": "stream",
     "text": [
      "---------------------------------------------------------------------\n",
      "Extra Trees Classifier\n",
      "---------------------------------------------------------------------\n",
      "Cross Validation scores on training data\n",
      "Scoring Name: CV mean: %.5f CV std: %.5f precision 0.9607902298850574 0.03733466436744517\n",
      "\n"
     ]
    },
    {
     "name": "stderr",
     "output_type": "stream",
     "text": [
      "[Parallel(n_jobs=2)]: Done   5 out of   5 | elapsed:    1.0s finished\n",
      "[Parallel(n_jobs=2)]: Using backend LokyBackend with 2 concurrent workers.\n"
     ]
    },
    {
     "name": "stdout",
     "output_type": "stream",
     "text": [
      "---------------------------------------------------------------------\n",
      "Extra Trees Classifier\n",
      "---------------------------------------------------------------------\n",
      "Cross Validation scores on training data\n",
      "Scoring Name: CV mean: %.5f CV std: %.5f recall 0.927741935483871 0.024400785068181254\n",
      "\n"
     ]
    },
    {
     "name": "stderr",
     "output_type": "stream",
     "text": [
      "[Parallel(n_jobs=2)]: Done   5 out of   5 | elapsed:    0.9s finished\n",
      "[Parallel(n_jobs=2)]: Using backend LokyBackend with 2 concurrent workers.\n"
     ]
    },
    {
     "name": "stdout",
     "output_type": "stream",
     "text": [
      "---------------------------------------------------------------------\n",
      "Extra Trees Classifier\n",
      "---------------------------------------------------------------------\n",
      "Cross Validation scores on training data\n",
      "Scoring Name: CV mean: %.5f CV std: %.5f f1 0.941551819949986 0.0372929368860511\n",
      "\n"
     ]
    },
    {
     "name": "stderr",
     "output_type": "stream",
     "text": [
      "[Parallel(n_jobs=2)]: Done   5 out of   5 | elapsed:    0.5s finished\n",
      "[Parallel(n_jobs=2)]: Using backend LokyBackend with 2 concurrent workers.\n"
     ]
    },
    {
     "name": "stdout",
     "output_type": "stream",
     "text": [
      "---------------------------------------------------------------------\n",
      "Extra Trees Classifier\n",
      "---------------------------------------------------------------------\n",
      "Cross Validation scores on training data\n",
      "Scoring Name: CV mean: %.5f CV std: %.5f average_precision 0.9881838838067454 0.009988237717107575\n",
      "\n"
     ]
    },
    {
     "name": "stderr",
     "output_type": "stream",
     "text": [
      "[Parallel(n_jobs=2)]: Done   5 out of   5 | elapsed:    0.5s finished\n"
     ]
    },
    {
     "name": "stdout",
     "output_type": "stream",
     "text": [
      "---------------------------------------------------------------------\n",
      "Extra Trees Classifier\n",
      "---------------------------------------------------------------------\n",
      "Cross Validation scores on training data\n",
      "Scoring Name: CV mean: %.5f CV std: %.5f roc_auc 0.991129778362958 0.006917114548813341\n",
      "\n",
      "Average precision-recall score: 0.98\n",
      "╒════════════════════════╤═══════════════════════╕\n",
      "│ Metric                 │   Testing Performance │\n",
      "╞════════════════════════╪═══════════════════════╡\n",
      "│ accuracy               │             0.959064  │\n",
      "├────────────────────────┼───────────────────────┤\n",
      "│ precision              │             0.981818  │\n",
      "├────────────────────────┼───────────────────────┤\n",
      "│ recall                 │             0.9       │\n",
      "├────────────────────────┼───────────────────────┤\n",
      "│ misclassification rate │             0.0409357 │\n",
      "├────────────────────────┼───────────────────────┤\n",
      "│ F1                     │             0.93913   │\n",
      "├────────────────────────┼───────────────────────┤\n",
      "│ r2                     │             0.82027   │\n",
      "├────────────────────────┼───────────────────────┤\n",
      "│ AUC                    │             0.945495  │\n",
      "├────────────────────────┼───────────────────────┤\n",
      "│ mse                    │             0.0409357 │\n",
      "├────────────────────────┼───────────────────────┤\n",
      "│ logloss                │             1.41387   │\n",
      "╘════════════════════════╧═══════════════════════╛\n",
      "\n",
      "Classification report:\n",
      "               precision    recall  f1-score   support\n",
      "\n",
      "           0       0.95      0.99      0.97       111\n",
      "           1       0.98      0.90      0.94        60\n",
      "\n",
      "    accuracy                           0.96       171\n",
      "   macro avg       0.97      0.95      0.95       171\n",
      "weighted avg       0.96      0.96      0.96       171\n",
      "\n",
      "\n",
      "Correct classifications on test data: 164/171   95.906%\n"
     ]
    },
    {
     "data": {
      "image/png": "[encoded data removed]",
      "text/plain": [
       "<Figure size 432x288 with 2 Axes>"
      ]
     },
     "metadata": {
      "needs_background": "light"
     },
     "output_type": "display_data"
    },
    {
     "data": {
      "image/png": "[encoded data removed]",
      "text/plain": [
       "<Figure size 720x360 with 2 Axes>"
      ]
     },
     "metadata": {
      "needs_background": "light"
     },
     "output_type": "display_data"
    },
    {
     "name": "stdout",
     "output_type": "stream",
     "text": [
      "\n"
     ]
    },
    {
     "name": "stderr",
     "output_type": "stream",
     "text": [
      "[Parallel(n_jobs=2)]: Using backend LokyBackend with 2 concurrent workers.\n",
      "/home/martin/miniconda3/envs/causality/lib/python3.10/site-packages/xgboost/compat.py:36: FutureWarning: pandas.Int64Index is deprecated and will be removed from pandas in a future version. Use pandas.Index with the appropriate dtype instead.\n",
      "  from pandas import MultiIndex, Int64Index\n",
      "/home/martin/miniconda3/envs/causality/lib/python3.10/site-packages/xgboost/compat.py:36: FutureWarning: pandas.Int64Index is deprecated and will be removed from pandas in a future version. Use pandas.Index with the appropriate dtype instead.\n",
      "  from pandas import MultiIndex, Int64Index\n",
      "/home/martin/miniconda3/envs/causality/lib/python3.10/site-packages/xgboost/sklearn.py:1224: UserWarning: The use of label encoder in XGBClassifier is deprecated and will be removed in a future release. To remove this warning, do the following: 1) Pass option use_label_encoder=False when constructing XGBClassifier object; and 2) Encode your labels (y) as integers starting with 0, i.e. 0, 1, 2, ..., [num_class - 1].\n",
      "  warnings.warn(label_encoder_deprecation_msg, UserWarning)\n",
      "/home/martin/miniconda3/envs/causality/lib/python3.10/site-packages/xgboost/sklearn.py:1224: UserWarning: The use of label encoder in XGBClassifier is deprecated and will be removed in a future release. To remove this warning, do the following: 1) Pass option use_label_encoder=False when constructing XGBClassifier object; and 2) Encode your labels (y) as integers starting with 0, i.e. 0, 1, 2, ..., [num_class - 1].\n",
      "  warnings.warn(label_encoder_deprecation_msg, UserWarning)\n",
      "/home/martin/miniconda3/envs/causality/lib/python3.10/site-packages/xgboost/sklearn.py:1224: UserWarning: The use of label encoder in XGBClassifier is deprecated and will be removed in a future release. To remove this warning, do the following: 1) Pass option use_label_encoder=False when constructing XGBClassifier object; and 2) Encode your labels (y) as integers starting with 0, i.e. 0, 1, 2, ..., [num_class - 1].\n",
      "  warnings.warn(label_encoder_deprecation_msg, UserWarning)\n",
      "/home/martin/miniconda3/envs/causality/lib/python3.10/site-packages/xgboost/sklearn.py:1224: UserWarning: The use of label encoder in XGBClassifier is deprecated and will be removed in a future release. To remove this warning, do the following: 1) Pass option use_label_encoder=False when constructing XGBClassifier object; and 2) Encode your labels (y) as integers starting with 0, i.e. 0, 1, 2, ..., [num_class - 1].\n",
      "  warnings.warn(label_encoder_deprecation_msg, UserWarning)\n",
      "/home/martin/miniconda3/envs/causality/lib/python3.10/site-packages/xgboost/sklearn.py:1224: UserWarning: The use of label encoder in XGBClassifier is deprecated and will be removed in a future release. To remove this warning, do the following: 1) Pass option use_label_encoder=False when constructing XGBClassifier object; and 2) Encode your labels (y) as integers starting with 0, i.e. 0, 1, 2, ..., [num_class - 1].\n",
      "  warnings.warn(label_encoder_deprecation_msg, UserWarning)\n",
      "[Parallel(n_jobs=2)]: Done   5 out of   5 | elapsed:   18.2s finished\n",
      "[Parallel(n_jobs=2)]: Using backend LokyBackend with 2 concurrent workers.\n",
      "/home/martin/miniconda3/envs/causality/lib/python3.10/site-packages/xgboost/sklearn.py:1224: UserWarning: The use of label encoder in XGBClassifier is deprecated and will be removed in a future release. To remove this warning, do the following: 1) Pass option use_label_encoder=False when constructing XGBClassifier object; and 2) Encode your labels (y) as integers starting with 0, i.e. 0, 1, 2, ..., [num_class - 1].\n",
      "  warnings.warn(label_encoder_deprecation_msg, UserWarning)\n",
      "/home/martin/miniconda3/envs/causality/lib/python3.10/site-packages/xgboost/sklearn.py:1224: UserWarning: The use of label encoder in XGBClassifier is deprecated and will be removed in a future release. To remove this warning, do the following: 1) Pass option use_label_encoder=False when constructing XGBClassifier object; and 2) Encode your labels (y) as integers starting with 0, i.e. 0, 1, 2, ..., [num_class - 1].\n",
      "  warnings.warn(label_encoder_deprecation_msg, UserWarning)\n"
     ]
    },
    {
     "name": "stdout",
     "output_type": "stream",
     "text": [
      "---------------------------------------------------------------------\n",
      "XGB Classifier\n",
      "---------------------------------------------------------------------\n",
      "Cross Validation scores on training data\n",
      "Scoring Name: CV mean: %.5f CV std: %.5f accuracy 0.9523101265822784 0.03652063265494872\n",
      "\n"
     ]
    },
    {
     "name": "stderr",
     "output_type": "stream",
     "text": [
      "/home/martin/miniconda3/envs/causality/lib/python3.10/site-packages/xgboost/sklearn.py:1224: UserWarning: The use of label encoder in XGBClassifier is deprecated and will be removed in a future release. To remove this warning, do the following: 1) Pass option use_label_encoder=False when constructing XGBClassifier object; and 2) Encode your labels (y) as integers starting with 0, i.e. 0, 1, 2, ..., [num_class - 1].\n",
      "  warnings.warn(label_encoder_deprecation_msg, UserWarning)\n",
      "/home/martin/miniconda3/envs/causality/lib/python3.10/site-packages/xgboost/sklearn.py:1224: UserWarning: The use of label encoder in XGBClassifier is deprecated and will be removed in a future release. To remove this warning, do the following: 1) Pass option use_label_encoder=False when constructing XGBClassifier object; and 2) Encode your labels (y) as integers starting with 0, i.e. 0, 1, 2, ..., [num_class - 1].\n",
      "  warnings.warn(label_encoder_deprecation_msg, UserWarning)\n",
      "/home/martin/miniconda3/envs/causality/lib/python3.10/site-packages/xgboost/sklearn.py:1224: UserWarning: The use of label encoder in XGBClassifier is deprecated and will be removed in a future release. To remove this warning, do the following: 1) Pass option use_label_encoder=False when constructing XGBClassifier object; and 2) Encode your labels (y) as integers starting with 0, i.e. 0, 1, 2, ..., [num_class - 1].\n",
      "  warnings.warn(label_encoder_deprecation_msg, UserWarning)\n",
      "[Parallel(n_jobs=2)]: Done   5 out of   5 | elapsed:   16.3s finished\n",
      "[Parallel(n_jobs=2)]: Using backend LokyBackend with 2 concurrent workers.\n",
      "/home/martin/miniconda3/envs/causality/lib/python3.10/site-packages/xgboost/sklearn.py:1224: UserWarning: The use of label encoder in XGBClassifier is deprecated and will be removed in a future release. To remove this warning, do the following: 1) Pass option use_label_encoder=False when constructing XGBClassifier object; and 2) Encode your labels (y) as integers starting with 0, i.e. 0, 1, 2, ..., [num_class - 1].\n",
      "  warnings.warn(label_encoder_deprecation_msg, UserWarning)\n",
      "/home/martin/miniconda3/envs/causality/lib/python3.10/site-packages/xgboost/sklearn.py:1224: UserWarning: The use of label encoder in XGBClassifier is deprecated and will be removed in a future release. To remove this warning, do the following: 1) Pass option use_label_encoder=False when constructing XGBClassifier object; and 2) Encode your labels (y) as integers starting with 0, i.e. 0, 1, 2, ..., [num_class - 1].\n",
      "  warnings.warn(label_encoder_deprecation_msg, UserWarning)\n"
     ]
    },
    {
     "name": "stdout",
     "output_type": "stream",
     "text": [
      "---------------------------------------------------------------------\n",
      "XGB Classifier\n",
      "---------------------------------------------------------------------\n",
      "Cross Validation scores on training data\n",
      "Scoring Name: CV mean: %.5f CV std: %.5f precision 0.9437699217618082 0.06162206018466438\n",
      "\n"
     ]
    },
    {
     "name": "stderr",
     "output_type": "stream",
     "text": [
      "/home/martin/miniconda3/envs/causality/lib/python3.10/site-packages/xgboost/sklearn.py:1224: UserWarning: The use of label encoder in XGBClassifier is deprecated and will be removed in a future release. To remove this warning, do the following: 1) Pass option use_label_encoder=False when constructing XGBClassifier object; and 2) Encode your labels (y) as integers starting with 0, i.e. 0, 1, 2, ..., [num_class - 1].\n",
      "  warnings.warn(label_encoder_deprecation_msg, UserWarning)\n",
      "/home/martin/miniconda3/envs/causality/lib/python3.10/site-packages/xgboost/sklearn.py:1224: UserWarning: The use of label encoder in XGBClassifier is deprecated and will be removed in a future release. To remove this warning, do the following: 1) Pass option use_label_encoder=False when constructing XGBClassifier object; and 2) Encode your labels (y) as integers starting with 0, i.e. 0, 1, 2, ..., [num_class - 1].\n",
      "  warnings.warn(label_encoder_deprecation_msg, UserWarning)\n",
      "/home/martin/miniconda3/envs/causality/lib/python3.10/site-packages/xgboost/sklearn.py:1224: UserWarning: The use of label encoder in XGBClassifier is deprecated and will be removed in a future release. To remove this warning, do the following: 1) Pass option use_label_encoder=False when constructing XGBClassifier object; and 2) Encode your labels (y) as integers starting with 0, i.e. 0, 1, 2, ..., [num_class - 1].\n",
      "  warnings.warn(label_encoder_deprecation_msg, UserWarning)\n",
      "[Parallel(n_jobs=2)]: Done   5 out of   5 | elapsed:    4.8s finished\n",
      "[Parallel(n_jobs=2)]: Using backend LokyBackend with 2 concurrent workers.\n",
      "/home/martin/miniconda3/envs/causality/lib/python3.10/site-packages/xgboost/sklearn.py:1224: UserWarning: The use of label encoder in XGBClassifier is deprecated and will be removed in a future release. To remove this warning, do the following: 1) Pass option use_label_encoder=False when constructing XGBClassifier object; and 2) Encode your labels (y) as integers starting with 0, i.e. 0, 1, 2, ..., [num_class - 1].\n",
      "  warnings.warn(label_encoder_deprecation_msg, UserWarning)\n",
      "/home/martin/miniconda3/envs/causality/lib/python3.10/site-packages/xgboost/sklearn.py:1224: UserWarning: The use of label encoder in XGBClassifier is deprecated and will be removed in a future release. To remove this warning, do the following: 1) Pass option use_label_encoder=False when constructing XGBClassifier object; and 2) Encode your labels (y) as integers starting with 0, i.e. 0, 1, 2, ..., [num_class - 1].\n",
      "  warnings.warn(label_encoder_deprecation_msg, UserWarning)\n"
     ]
    },
    {
     "name": "stdout",
     "output_type": "stream",
     "text": [
      "---------------------------------------------------------------------\n",
      "XGB Classifier\n",
      "---------------------------------------------------------------------\n",
      "Cross Validation scores on training data\n",
      "Scoring Name: CV mean: %.5f CV std: %.5f recall 0.9339784946236559 0.03594422781208805\n",
      "\n"
     ]
    },
    {
     "name": "stderr",
     "output_type": "stream",
     "text": [
      "/home/martin/miniconda3/envs/causality/lib/python3.10/site-packages/xgboost/sklearn.py:1224: UserWarning: The use of label encoder in XGBClassifier is deprecated and will be removed in a future release. To remove this warning, do the following: 1) Pass option use_label_encoder=False when constructing XGBClassifier object; and 2) Encode your labels (y) as integers starting with 0, i.e. 0, 1, 2, ..., [num_class - 1].\n",
      "  warnings.warn(label_encoder_deprecation_msg, UserWarning)\n",
      "/home/martin/miniconda3/envs/causality/lib/python3.10/site-packages/xgboost/sklearn.py:1224: UserWarning: The use of label encoder in XGBClassifier is deprecated and will be removed in a future release. To remove this warning, do the following: 1) Pass option use_label_encoder=False when constructing XGBClassifier object; and 2) Encode your labels (y) as integers starting with 0, i.e. 0, 1, 2, ..., [num_class - 1].\n",
      "  warnings.warn(label_encoder_deprecation_msg, UserWarning)\n",
      "/home/martin/miniconda3/envs/causality/lib/python3.10/site-packages/xgboost/sklearn.py:1224: UserWarning: The use of label encoder in XGBClassifier is deprecated and will be removed in a future release. To remove this warning, do the following: 1) Pass option use_label_encoder=False when constructing XGBClassifier object; and 2) Encode your labels (y) as integers starting with 0, i.e. 0, 1, 2, ..., [num_class - 1].\n",
      "  warnings.warn(label_encoder_deprecation_msg, UserWarning)\n",
      "[Parallel(n_jobs=2)]: Done   5 out of   5 | elapsed:   22.1s finished\n",
      "[Parallel(n_jobs=2)]: Using backend LokyBackend with 2 concurrent workers.\n"
     ]
    },
    {
     "name": "stdout",
     "output_type": "stream",
     "text": [
      "---------------------------------------------------------------------\n",
      "XGB Classifier\n",
      "---------------------------------------------------------------------\n",
      "Cross Validation scores on training data\n",
      "Scoring Name: CV mean: %.5f CV std: %.5f f1 0.9381756058085691 0.04469337648937052\n",
      "\n"
     ]
    },
    {
     "name": "stderr",
     "output_type": "stream",
     "text": [
      "/home/martin/miniconda3/envs/causality/lib/python3.10/site-packages/xgboost/sklearn.py:1224: UserWarning: The use of label encoder in XGBClassifier is deprecated and will be removed in a future release. To remove this warning, do the following: 1) Pass option use_label_encoder=False when constructing XGBClassifier object; and 2) Encode your labels (y) as integers starting with 0, i.e. 0, 1, 2, ..., [num_class - 1].\n",
      "  warnings.warn(label_encoder_deprecation_msg, UserWarning)\n",
      "/home/martin/miniconda3/envs/causality/lib/python3.10/site-packages/xgboost/sklearn.py:1224: UserWarning: The use of label encoder in XGBClassifier is deprecated and will be removed in a future release. To remove this warning, do the following: 1) Pass option use_label_encoder=False when constructing XGBClassifier object; and 2) Encode your labels (y) as integers starting with 0, i.e. 0, 1, 2, ..., [num_class - 1].\n",
      "  warnings.warn(label_encoder_deprecation_msg, UserWarning)\n",
      "/home/martin/miniconda3/envs/causality/lib/python3.10/site-packages/xgboost/sklearn.py:1224: UserWarning: The use of label encoder in XGBClassifier is deprecated and will be removed in a future release. To remove this warning, do the following: 1) Pass option use_label_encoder=False when constructing XGBClassifier object; and 2) Encode your labels (y) as integers starting with 0, i.e. 0, 1, 2, ..., [num_class - 1].\n",
      "  warnings.warn(label_encoder_deprecation_msg, UserWarning)\n",
      "/home/martin/miniconda3/envs/causality/lib/python3.10/site-packages/xgboost/sklearn.py:1224: UserWarning: The use of label encoder in XGBClassifier is deprecated and will be removed in a future release. To remove this warning, do the following: 1) Pass option use_label_encoder=False when constructing XGBClassifier object; and 2) Encode your labels (y) as integers starting with 0, i.e. 0, 1, 2, ..., [num_class - 1].\n",
      "  warnings.warn(label_encoder_deprecation_msg, UserWarning)\n",
      "/home/martin/miniconda3/envs/causality/lib/python3.10/site-packages/xgboost/sklearn.py:1224: UserWarning: The use of label encoder in XGBClassifier is deprecated and will be removed in a future release. To remove this warning, do the following: 1) Pass option use_label_encoder=False when constructing XGBClassifier object; and 2) Encode your labels (y) as integers starting with 0, i.e. 0, 1, 2, ..., [num_class - 1].\n",
      "  warnings.warn(label_encoder_deprecation_msg, UserWarning)\n",
      "[Parallel(n_jobs=2)]: Done   5 out of   5 | elapsed:   14.5s finished\n",
      "[Parallel(n_jobs=2)]: Using backend LokyBackend with 2 concurrent workers.\n",
      "/home/martin/miniconda3/envs/causality/lib/python3.10/site-packages/xgboost/sklearn.py:1224: UserWarning: The use of label encoder in XGBClassifier is deprecated and will be removed in a future release. To remove this warning, do the following: 1) Pass option use_label_encoder=False when constructing XGBClassifier object; and 2) Encode your labels (y) as integers starting with 0, i.e. 0, 1, 2, ..., [num_class - 1].\n",
      "  warnings.warn(label_encoder_deprecation_msg, UserWarning)\n",
      "/home/martin/miniconda3/envs/causality/lib/python3.10/site-packages/xgboost/sklearn.py:1224: UserWarning: The use of label encoder in XGBClassifier is deprecated and will be removed in a future release. To remove this warning, do the following: 1) Pass option use_label_encoder=False when constructing XGBClassifier object; and 2) Encode your labels (y) as integers starting with 0, i.e. 0, 1, 2, ..., [num_class - 1].\n",
      "  warnings.warn(label_encoder_deprecation_msg, UserWarning)\n"
     ]
    },
    {
     "name": "stdout",
     "output_type": "stream",
     "text": [
      "---------------------------------------------------------------------\n",
      "XGB Classifier\n",
      "---------------------------------------------------------------------\n",
      "Cross Validation scores on training data\n",
      "Scoring Name: CV mean: %.5f CV std: %.5f average_precision 0.9886624545019498 0.00853427321052755\n",
      "\n"
     ]
    },
    {
     "name": "stderr",
     "output_type": "stream",
     "text": [
      "/home/martin/miniconda3/envs/causality/lib/python3.10/site-packages/xgboost/sklearn.py:1224: UserWarning: The use of label encoder in XGBClassifier is deprecated and will be removed in a future release. To remove this warning, do the following: 1) Pass option use_label_encoder=False when constructing XGBClassifier object; and 2) Encode your labels (y) as integers starting with 0, i.e. 0, 1, 2, ..., [num_class - 1].\n",
      "  warnings.warn(label_encoder_deprecation_msg, UserWarning)\n",
      "/home/martin/miniconda3/envs/causality/lib/python3.10/site-packages/xgboost/sklearn.py:1224: UserWarning: The use of label encoder in XGBClassifier is deprecated and will be removed in a future release. To remove this warning, do the following: 1) Pass option use_label_encoder=False when constructing XGBClassifier object; and 2) Encode your labels (y) as integers starting with 0, i.e. 0, 1, 2, ..., [num_class - 1].\n",
      "  warnings.warn(label_encoder_deprecation_msg, UserWarning)\n",
      "/home/martin/miniconda3/envs/causality/lib/python3.10/site-packages/xgboost/sklearn.py:1224: UserWarning: The use of label encoder in XGBClassifier is deprecated and will be removed in a future release. To remove this warning, do the following: 1) Pass option use_label_encoder=False when constructing XGBClassifier object; and 2) Encode your labels (y) as integers starting with 0, i.e. 0, 1, 2, ..., [num_class - 1].\n",
      "  warnings.warn(label_encoder_deprecation_msg, UserWarning)\n",
      "[Parallel(n_jobs=2)]: Done   5 out of   5 | elapsed:   18.6s finished\n"
     ]
    },
    {
     "name": "stdout",
     "output_type": "stream",
     "text": [
      "---------------------------------------------------------------------\n",
      "XGB Classifier\n",
      "---------------------------------------------------------------------\n",
      "Cross Validation scores on training data\n",
      "Scoring Name: CV mean: %.5f CV std: %.5f roc_auc 0.9914771121351766 0.007483581427607971\n",
      "\n",
      "[15:18:52] WARNING: /home/conda/feedstock_root/build_artifacts/xgboost-split_1645117766796/work/src/learner.cc:1115: Starting in XGBoost 1.3.0, the default evaluation metric used with the objective 'binary:logistic' was changed from 'error' to 'logloss'. Explicitly set eval_metric if you'd like to restore the old behavior.\n",
      "Average precision-recall score: 0.98\n",
      "╒════════════════════════╤═══════════════════════╕\n",
      "│ Metric                 │   Testing Performance │\n",
      "╞════════════════════════╪═══════════════════════╡\n",
      "│ accuracy               │             0.959064  │\n",
      "├────────────────────────┼───────────────────────┤\n",
      "│ precision              │             0.949153  │\n",
      "├────────────────────────┼───────────────────────┤\n",
      "│ recall                 │             0.933333  │\n",
      "├────────────────────────┼───────────────────────┤\n",
      "│ misclassification rate │             0.0409357 │\n",
      "├────────────────────────┼───────────────────────┤\n",
      "│ F1                     │             0.941176  │\n",
      "├────────────────────────┼───────────────────────┤\n",
      "│ r2                     │             0.82027   │\n",
      "├────────────────────────┼───────────────────────┤\n",
      "│ AUC                    │             0.953153  │\n",
      "├────────────────────────┼───────────────────────┤\n",
      "│ mse                    │             0.0409357 │\n",
      "├────────────────────────┼───────────────────────┤\n",
      "│ logloss                │             1.41388   │\n",
      "╘════════════════════════╧═══════════════════════╛\n",
      "\n",
      "Classification report:\n",
      "               precision    recall  f1-score   support\n",
      "\n",
      "           0       0.96      0.97      0.97       111\n",
      "           1       0.95      0.93      0.94        60\n",
      "\n",
      "    accuracy                           0.96       171\n",
      "   macro avg       0.96      0.95      0.95       171\n",
      "weighted avg       0.96      0.96      0.96       171\n",
      "\n",
      "\n",
      "Correct classifications on test data: 164/171   95.906%\n"
     ]
    },
    {
     "data": {
      "image/png": "[encoded data removed]",
      "text/plain": [
       "<Figure size 432x288 with 2 Axes>"
      ]
     },
     "metadata": {
      "needs_background": "light"
     },
     "output_type": "display_data"
    },
    {
     "data": {
      "image/png": "[encoded data removed]",
      "text/plain": [
       "<Figure size 720x360 with 2 Axes>"
      ]
     },
     "metadata": {
      "needs_background": "light"
     },
     "output_type": "display_data"
    },
    {
     "name": "stdout",
     "output_type": "stream",
     "text": [
      "\n"
     ]
    },
    {
     "name": "stderr",
     "output_type": "stream",
     "text": [
      "[Parallel(n_jobs=2)]: Using backend LokyBackend with 2 concurrent workers.\n",
      "[Parallel(n_jobs=2)]: Done   5 out of   5 | elapsed:    0.6s finished\n",
      "[Parallel(n_jobs=2)]: Using backend LokyBackend with 2 concurrent workers.\n"
     ]
    },
    {
     "name": "stdout",
     "output_type": "stream",
     "text": [
      "---------------------------------------------------------------------\n",
      "KNeighbors Classifier\n",
      "---------------------------------------------------------------------\n",
      "Cross Validation scores on training data\n",
      "Scoring Name: CV mean: %.5f CV std: %.5f accuracy 0.9498101265822785 0.030567949478675804\n",
      "\n"
     ]
    },
    {
     "name": "stderr",
     "output_type": "stream",
     "text": [
      "[Parallel(n_jobs=2)]: Done   5 out of   5 | elapsed:    0.3s finished\n",
      "[Parallel(n_jobs=2)]: Using backend LokyBackend with 2 concurrent workers.\n"
     ]
    },
    {
     "name": "stdout",
     "output_type": "stream",
     "text": [
      "---------------------------------------------------------------------\n",
      "KNeighbors Classifier\n",
      "---------------------------------------------------------------------\n",
      "Cross Validation scores on training data\n",
      "Scoring Name: CV mean: %.5f CV std: %.5f precision 0.941650444938821 0.051324995490328144\n",
      "\n"
     ]
    },
    {
     "name": "stderr",
     "output_type": "stream",
     "text": [
      "[Parallel(n_jobs=2)]: Done   5 out of   5 | elapsed:    0.4s finished\n",
      "[Parallel(n_jobs=2)]: Using backend LokyBackend with 2 concurrent workers.\n"
     ]
    },
    {
     "name": "stdout",
     "output_type": "stream",
     "text": [
      "---------------------------------------------------------------------\n",
      "KNeighbors Classifier\n",
      "---------------------------------------------------------------------\n",
      "Cross Validation scores on training data\n",
      "Scoring Name: CV mean: %.5f CV std: %.5f recall 0.927741935483871 0.0377870942651717\n",
      "\n"
     ]
    },
    {
     "name": "stderr",
     "output_type": "stream",
     "text": [
      "[Parallel(n_jobs=2)]: Done   5 out of   5 | elapsed:    0.5s finished\n",
      "[Parallel(n_jobs=2)]: Using backend LokyBackend with 2 concurrent workers.\n"
     ]
    },
    {
     "name": "stdout",
     "output_type": "stream",
     "text": [
      "---------------------------------------------------------------------\n",
      "KNeighbors Classifier\n",
      "---------------------------------------------------------------------\n",
      "Cross Validation scores on training data\n",
      "Scoring Name: CV mean: %.5f CV std: %.5f f1 0.9341659297895442 0.03944789075451078\n",
      "\n"
     ]
    },
    {
     "name": "stderr",
     "output_type": "stream",
     "text": [
      "[Parallel(n_jobs=2)]: Done   5 out of   5 | elapsed:    0.4s finished\n",
      "[Parallel(n_jobs=2)]: Using backend LokyBackend with 2 concurrent workers.\n"
     ]
    },
    {
     "name": "stdout",
     "output_type": "stream",
     "text": [
      "---------------------------------------------------------------------\n",
      "KNeighbors Classifier\n",
      "---------------------------------------------------------------------\n",
      "Cross Validation scores on training data\n",
      "Scoring Name: CV mean: %.5f CV std: %.5f average_precision 0.9711501944648664 0.02692523267984865\n",
      "\n"
     ]
    },
    {
     "name": "stderr",
     "output_type": "stream",
     "text": [
      "[Parallel(n_jobs=2)]: Done   5 out of   5 | elapsed:    0.4s finished\n"
     ]
    },
    {
     "name": "stdout",
     "output_type": "stream",
     "text": [
      "---------------------------------------------------------------------\n",
      "KNeighbors Classifier\n",
      "---------------------------------------------------------------------\n",
      "Cross Validation scores on training data\n",
      "Scoring Name: CV mean: %.5f CV std: %.5f roc_auc 0.9786375246872943 0.0196058739758022\n",
      "\n",
      "Average precision-recall score: 0.97\n",
      "╒════════════════════════╤═══════════════════════╕\n",
      "│ Metric                 │   Testing Performance │\n",
      "╞════════════════════════╪═══════════════════════╡\n",
      "│ accuracy               │             0.947368  │\n",
      "├────────────────────────┼───────────────────────┤\n",
      "│ precision              │             0.963636  │\n",
      "├────────────────────────┼───────────────────────┤\n",
      "│ recall                 │             0.883333  │\n",
      "├────────────────────────┼───────────────────────┤\n",
      "│ misclassification rate │             0.0526316 │\n",
      "├────────────────────────┼───────────────────────┤\n",
      "│ F1                     │             0.921739  │\n",
      "├────────────────────────┼───────────────────────┤\n",
      "│ r2                     │             0.768919  │\n",
      "├────────────────────────┼───────────────────────┤\n",
      "│ AUC                    │             0.932658  │\n",
      "├────────────────────────┼───────────────────────┤\n",
      "│ mse                    │             0.0526316 │\n",
      "├────────────────────────┼───────────────────────┤\n",
      "│ logloss                │             1.81784   │\n",
      "╘════════════════════════╧═══════════════════════╛\n",
      "\n",
      "Classification report:\n",
      "               precision    recall  f1-score   support\n",
      "\n",
      "           0       0.94      0.98      0.96       111\n",
      "           1       0.96      0.88      0.92        60\n",
      "\n",
      "    accuracy                           0.95       171\n",
      "   macro avg       0.95      0.93      0.94       171\n",
      "weighted avg       0.95      0.95      0.95       171\n",
      "\n",
      "\n",
      "Correct classifications on test data: 162/171   94.737%\n"
     ]
    },
    {
     "data": {
      "image/png": "[encoded data removed]",
      "text/plain": [
       "<Figure size 432x288 with 2 Axes>"
      ]
     },
     "metadata": {
      "needs_background": "light"
     },
     "output_type": "display_data"
    },
    {
     "data": {
      "image/png": "[encoded data removed]",
      "text/plain": [
       "<Figure size 720x360 with 2 Axes>"
      ]
     },
     "metadata": {
      "needs_background": "light"
     },
     "output_type": "display_data"
    },
    {
     "name": "stdout",
     "output_type": "stream",
     "text": [
      "\n",
      "---------------------------------------------------------------------\n",
      "SVM Classifier\n",
      "---------------------------------------------------------------------\n",
      "Cross Validation scores on training data\n",
      "Scoring Name: CV mean: %.5f CV std: %.5f accuracy 0.959873417721519 0.024160433900396072\n",
      "\n",
      "---------------------------------------------------------------------\n",
      "SVM Classifier\n",
      "---------------------------------------------------------------------\n",
      "Cross Validation scores on training data\n",
      "Scoring Name: CV mean: %.5f CV std: %.5f precision 0.9489784946236559 0.042244655729223986\n",
      "\n"
     ]
    },
    {
     "name": "stderr",
     "output_type": "stream",
     "text": [
      "[Parallel(n_jobs=2)]: Using backend LokyBackend with 2 concurrent workers.\n",
      "[Parallel(n_jobs=2)]: Done   5 out of   5 | elapsed:    0.1s finished\n",
      "[Parallel(n_jobs=2)]: Using backend LokyBackend with 2 concurrent workers.\n",
      "[Parallel(n_jobs=2)]: Done   5 out of   5 | elapsed:    0.1s finished\n",
      "[Parallel(n_jobs=2)]: Using backend LokyBackend with 2 concurrent workers.\n",
      "[Parallel(n_jobs=2)]: Done   5 out of   5 | elapsed:    0.2s finished\n",
      "[Parallel(n_jobs=2)]: Using backend LokyBackend with 2 concurrent workers.\n",
      "[Parallel(n_jobs=2)]: Done   5 out of   5 | elapsed:    0.1s finished\n",
      "[Parallel(n_jobs=2)]: Using backend LokyBackend with 2 concurrent workers.\n",
      "[Parallel(n_jobs=2)]: Done   5 out of   5 | elapsed:    0.1s finished\n",
      "[Parallel(n_jobs=2)]: Using backend LokyBackend with 2 concurrent workers.\n",
      "[Parallel(n_jobs=2)]: Done   5 out of   5 | elapsed:    0.1s finished\n"
     ]
    },
    {
     "name": "stdout",
     "output_type": "stream",
     "text": [
      "---------------------------------------------------------------------\n",
      "SVM Classifier\n",
      "---------------------------------------------------------------------\n",
      "Cross Validation scores on training data\n",
      "Scoring Name: CV mean: %.5f CV std: %.5f recall 0.9475268817204302 0.025711294094329207\n",
      "\n",
      "---------------------------------------------------------------------\n",
      "SVM Classifier\n",
      "---------------------------------------------------------------------\n",
      "Cross Validation scores on training data\n",
      "Scoring Name: CV mean: %.5f CV std: %.5f f1 0.947926880909977 0.03015655644249013\n",
      "\n",
      "---------------------------------------------------------------------\n",
      "SVM Classifier\n",
      "---------------------------------------------------------------------\n",
      "Cross Validation scores on training data\n",
      "Scoring Name: CV mean: %.5f CV std: %.5f average_precision 0.9883307394102978 0.011410453169872046\n",
      "\n",
      "---------------------------------------------------------------------\n",
      "SVM Classifier\n",
      "---------------------------------------------------------------------\n",
      "Cross Validation scores on training data\n",
      "Scoring Name: CV mean: %.5f CV std: %.5f roc_auc 0.9897637919684004 0.010723910678778604\n",
      "\n",
      "Average precision-recall score: 0.98\n",
      "╒════════════════════════╤═══════════════════════╕\n",
      "│ Metric                 │   Testing Performance │\n",
      "╞════════════════════════╪═══════════════════════╡\n",
      "│ accuracy               │             0.953216  │\n",
      "├────────────────────────┼───────────────────────┤\n",
      "│ precision              │             0.964286  │\n",
      "├────────────────────────┼───────────────────────┤\n",
      "│ recall                 │             0.9       │\n",
      "├────────────────────────┼───────────────────────┤\n",
      "│ misclassification rate │             0.0467836 │\n",
      "├────────────────────────┼───────────────────────┤\n",
      "│ F1                     │             0.931034  │\n",
      "├────────────────────────┼───────────────────────┤\n",
      "│ r2                     │             0.794595  │\n",
      "├────────────────────────┼───────────────────────┤\n",
      "│ AUC                    │             0.940991  │\n",
      "├────────────────────────┼───────────────────────┤\n",
      "│ mse                    │             0.0467836 │\n",
      "├────────────────────────┼───────────────────────┤\n",
      "│ logloss                │             1.61586   │\n",
      "╘════════════════════════╧═══════════════════════╛\n",
      "\n",
      "Classification report:\n",
      "               precision    recall  f1-score   support\n",
      "\n",
      "           0       0.95      0.98      0.96       111\n",
      "           1       0.96      0.90      0.93        60\n",
      "\n",
      "    accuracy                           0.95       171\n",
      "   macro avg       0.96      0.94      0.95       171\n",
      "weighted avg       0.95      0.95      0.95       171\n",
      "\n",
      "\n",
      "Correct classifications on test data: 163/171   95.322%\n"
     ]
    },
    {
     "data": {
      "image/png": "[encoded data removed]",
      "text/plain": [
       "<Figure size 432x288 with 2 Axes>"
      ]
     },
     "metadata": {
      "needs_background": "light"
     },
     "output_type": "display_data"
    },
    {
     "data": {
      "image/png": "[encoded data removed]",
      "text/plain": [
       "<Figure size 720x360 with 2 Axes>"
      ]
     },
     "metadata": {
      "needs_background": "light"
     },
     "output_type": "display_data"
    },
    {
     "name": "stdout",
     "output_type": "stream",
     "text": [
      "\n"
     ]
    }
   ],
   "source": [
    "from sklearn.model_selection import StratifiedKFold\n",
    "from sklearn.model_selection import cross_val_score\n",
    "from tabulate import tabulate\n",
    "import numpy as np\n",
    "\n",
    "folds = 5\n",
    "param_comb = 5\n",
    "skf = StratifiedKFold(n_splits=folds, shuffle = True, random_state = 10345)\n",
    "scoring_strings = ['accuracy', 'precision', 'recall', 'f1',\n",
    "                       'average_precision', 'roc_auc']\n",
    "trainPerformanceData = pd.DataFrame(columns = ['Algorithm','Scoring Name','CV mean', 'CV std']) \n",
    "testPerformanceData = pd.DataFrame(columns = ['Algorithm','Accuracy','AUC','Precision','Recall','F1'])\n",
    "# timing starts from this point for \"start_time\" variable\n",
    "#start_time = timer(None)\n",
    "for clf_name, clf in nonlr_clf_dict.items():\n",
    "    for scoring in scoring_strings:\n",
    "        scores = cross_val_score(clf, X_train, y_train, scoring=scoring, cv=skf,verbose=1, n_jobs=2)\n",
    "        print(\"---------------------------------------------------------------------\") \n",
    "        print(clf_name)\n",
    "        print(\"---------------------------------------------------------------------\") \n",
    "        print(\"Cross Validation scores on training data\")\n",
    "        print ('Scoring Name: CV mean: %.5f CV std: %.5f',scoring,np.mean(np.abs(scores)),np.std(scores))\n",
    "        print(\"\") \n",
    "        # append rows to an empty DataFrame \n",
    "        trainPerformanceData = trainPerformanceData.append({'Algorithm' : clf_name, 'Scoring Name' : scoring, 'CV mean' : np.mean(np.abs(scores)),'CV std' : np.std(scores)},  \n",
    "                ignore_index = True) \n",
    "        \n",
    "    clf.fit(X_train, y_train)\n",
    "    y_predicted_test  = clf.predict(X_test)\n",
    "    y_probabilities_test = clf.predict_proba(X_test)\n",
    "    y_probabilities_success = y_probabilities_test[:, 1]\n",
    "\n",
    "    from sklearn.metrics import average_precision_score\n",
    "    average_precision = average_precision_score(y_test, y_probabilities_success)\n",
    "    print('Average precision-recall score: {0:0.2f}'.format(average_precision))\n",
    "\n",
    "    false_positive_rate, true_positive_rate, threshold = roc_curve(y_test, y_probabilities_success)\n",
    "\n",
    "    mse        = mean_squared_error(y_test, y_predicted_test)\n",
    "    logloss    = log_loss(y_test, y_predicted_test)\n",
    "    accuracy   = accuracy_score(y_test, y_predicted_test)\n",
    "    precision  = precision_score(y_test, y_predicted_test, average='binary')\n",
    "    recall     = recall_score(y_test, y_predicted_test, average='binary')\n",
    "    F1         = f1_score(y_test, y_predicted_test)\n",
    "    r2         = r2_score(y_test, y_predicted_test)\n",
    "    auc        = roc_auc_score(y_test, y_predicted_test)\n",
    "    cm         = confusion_matrix(y_test, y_predicted_test)\n",
    "    #testPerformanceData = testPerformanceData.append({'Algorithm' : clf_name,'Accuracy' : accuracy,'Average_Precision':average_precision,'F1' : F1 ,'Precision' : precision,'Recall' : recall,'AUC' : auc},ignore_index = True)\n",
    "    Print_Model_Metrics(clf_name)\n",
    "    Plot_Confusion_Matrix(clf)\n",
    "    Plot_ROC_Precision_Recall(clf_name)\n",
    "    #auc = roc_auc_score(y_test, clf.predict_proba(X_test)[:, 1])\n",
    "    print(\"\")  \n",
    "    #print(\"AUC scores on testing data\")       \n",
    "    #print(clf_name, 'auc score:', auc)\n",
    "#timer(start_time)"
   ]
  },
  {
   "cell_type": "code",
   "execution_count": 28,
   "metadata": {},
   "outputs": [
    {
     "data": {
      "text/html": [
       "<div>\n",
       "<style scoped>\n",
       "    .dataframe tbody tr th:only-of-type {\n",
       "        vertical-align: middle;\n",
       "    }\n",
       "\n",
       "    .dataframe tbody tr th {\n",
       "        vertical-align: top;\n",
       "    }\n",
       "\n",
       "    .dataframe thead th {\n",
       "        text-align: right;\n",
       "    }\n",
       "</style>\n",
       "<table border=\"1\" class=\"dataframe\">\n",
       "  <thead>\n",
       "    <tr style=\"text-align: right;\">\n",
       "      <th></th>\n",
       "      <th>Algorithm</th>\n",
       "      <th>Scoring Name</th>\n",
       "      <th>CV mean</th>\n",
       "      <th>CV std</th>\n",
       "    </tr>\n",
       "  </thead>\n",
       "  <tbody>\n",
       "    <tr>\n",
       "      <th>0</th>\n",
       "      <td>Logistic Regression</td>\n",
       "      <td>accuracy</td>\n",
       "      <td>0.972373</td>\n",
       "      <td>0.012223</td>\n",
       "    </tr>\n",
       "    <tr>\n",
       "      <th>1</th>\n",
       "      <td>Logistic Regression</td>\n",
       "      <td>precision</td>\n",
       "      <td>0.980417</td>\n",
       "      <td>0.016008</td>\n",
       "    </tr>\n",
       "    <tr>\n",
       "      <th>2</th>\n",
       "      <td>Logistic Regression</td>\n",
       "      <td>recall</td>\n",
       "      <td>0.947527</td>\n",
       "      <td>0.043701</td>\n",
       "    </tr>\n",
       "    <tr>\n",
       "      <th>3</th>\n",
       "      <td>Logistic Regression</td>\n",
       "      <td>f1</td>\n",
       "      <td>0.962802</td>\n",
       "      <td>0.017327</td>\n",
       "    </tr>\n",
       "    <tr>\n",
       "      <th>4</th>\n",
       "      <td>Logistic Regression</td>\n",
       "      <td>average_precision</td>\n",
       "      <td>0.994018</td>\n",
       "      <td>0.005365</td>\n",
       "    </tr>\n",
       "    <tr>\n",
       "      <th>5</th>\n",
       "      <td>Logistic Regression</td>\n",
       "      <td>roc_auc</td>\n",
       "      <td>0.994295</td>\n",
       "      <td>0.006768</td>\n",
       "    </tr>\n",
       "    <tr>\n",
       "      <th>6</th>\n",
       "      <td>Random Forest Classifier</td>\n",
       "      <td>accuracy</td>\n",
       "      <td>0.947373</td>\n",
       "      <td>0.028819</td>\n",
       "    </tr>\n",
       "    <tr>\n",
       "      <th>7</th>\n",
       "      <td>Random Forest Classifier</td>\n",
       "      <td>precision</td>\n",
       "      <td>0.939908</td>\n",
       "      <td>0.065937</td>\n",
       "    </tr>\n",
       "    <tr>\n",
       "      <th>8</th>\n",
       "      <td>Random Forest Classifier</td>\n",
       "      <td>recall</td>\n",
       "      <td>0.940645</td>\n",
       "      <td>0.025074</td>\n",
       "    </tr>\n",
       "    <tr>\n",
       "      <th>9</th>\n",
       "      <td>Random Forest Classifier</td>\n",
       "      <td>f1</td>\n",
       "      <td>0.938877</td>\n",
       "      <td>0.033746</td>\n",
       "    </tr>\n",
       "    <tr>\n",
       "      <th>10</th>\n",
       "      <td>Random Forest Classifier</td>\n",
       "      <td>average_precision</td>\n",
       "      <td>0.988470</td>\n",
       "      <td>0.010717</td>\n",
       "    </tr>\n",
       "    <tr>\n",
       "      <th>11</th>\n",
       "      <td>Random Forest Classifier</td>\n",
       "      <td>roc_auc</td>\n",
       "      <td>0.991153</td>\n",
       "      <td>0.008028</td>\n",
       "    </tr>\n",
       "    <tr>\n",
       "      <th>12</th>\n",
       "      <td>Gradient Boosting Classifier</td>\n",
       "      <td>accuracy</td>\n",
       "      <td>0.954778</td>\n",
       "      <td>0.024493</td>\n",
       "    </tr>\n",
       "    <tr>\n",
       "      <th>13</th>\n",
       "      <td>Gradient Boosting Classifier</td>\n",
       "      <td>precision</td>\n",
       "      <td>0.937639</td>\n",
       "      <td>0.048543</td>\n",
       "    </tr>\n",
       "    <tr>\n",
       "      <th>14</th>\n",
       "      <td>Gradient Boosting Classifier</td>\n",
       "      <td>recall</td>\n",
       "      <td>0.947312</td>\n",
       "      <td>0.026627</td>\n",
       "    </tr>\n",
       "    <tr>\n",
       "      <th>15</th>\n",
       "      <td>Gradient Boosting Classifier</td>\n",
       "      <td>f1</td>\n",
       "      <td>0.941718</td>\n",
       "      <td>0.029919</td>\n",
       "    </tr>\n",
       "    <tr>\n",
       "      <th>16</th>\n",
       "      <td>Gradient Boosting Classifier</td>\n",
       "      <td>average_precision</td>\n",
       "      <td>0.987672</td>\n",
       "      <td>0.012448</td>\n",
       "    </tr>\n",
       "    <tr>\n",
       "      <th>17</th>\n",
       "      <td>Gradient Boosting Classifier</td>\n",
       "      <td>roc_auc</td>\n",
       "      <td>0.991496</td>\n",
       "      <td>0.009078</td>\n",
       "    </tr>\n",
       "    <tr>\n",
       "      <th>18</th>\n",
       "      <td>Extra Trees Classifier</td>\n",
       "      <td>accuracy</td>\n",
       "      <td>0.954905</td>\n",
       "      <td>0.038346</td>\n",
       "    </tr>\n",
       "    <tr>\n",
       "      <th>19</th>\n",
       "      <td>Extra Trees Classifier</td>\n",
       "      <td>precision</td>\n",
       "      <td>0.960790</td>\n",
       "      <td>0.037335</td>\n",
       "    </tr>\n",
       "    <tr>\n",
       "      <th>20</th>\n",
       "      <td>Extra Trees Classifier</td>\n",
       "      <td>recall</td>\n",
       "      <td>0.927742</td>\n",
       "      <td>0.024401</td>\n",
       "    </tr>\n",
       "    <tr>\n",
       "      <th>21</th>\n",
       "      <td>Extra Trees Classifier</td>\n",
       "      <td>f1</td>\n",
       "      <td>0.941552</td>\n",
       "      <td>0.037293</td>\n",
       "    </tr>\n",
       "    <tr>\n",
       "      <th>22</th>\n",
       "      <td>Extra Trees Classifier</td>\n",
       "      <td>average_precision</td>\n",
       "      <td>0.988184</td>\n",
       "      <td>0.009988</td>\n",
       "    </tr>\n",
       "    <tr>\n",
       "      <th>23</th>\n",
       "      <td>Extra Trees Classifier</td>\n",
       "      <td>roc_auc</td>\n",
       "      <td>0.991130</td>\n",
       "      <td>0.006917</td>\n",
       "    </tr>\n",
       "    <tr>\n",
       "      <th>24</th>\n",
       "      <td>XGB Classifier</td>\n",
       "      <td>accuracy</td>\n",
       "      <td>0.952310</td>\n",
       "      <td>0.036521</td>\n",
       "    </tr>\n",
       "    <tr>\n",
       "      <th>25</th>\n",
       "      <td>XGB Classifier</td>\n",
       "      <td>precision</td>\n",
       "      <td>0.943770</td>\n",
       "      <td>0.061622</td>\n",
       "    </tr>\n",
       "    <tr>\n",
       "      <th>26</th>\n",
       "      <td>XGB Classifier</td>\n",
       "      <td>recall</td>\n",
       "      <td>0.933978</td>\n",
       "      <td>0.035944</td>\n",
       "    </tr>\n",
       "    <tr>\n",
       "      <th>27</th>\n",
       "      <td>XGB Classifier</td>\n",
       "      <td>f1</td>\n",
       "      <td>0.938176</td>\n",
       "      <td>0.044693</td>\n",
       "    </tr>\n",
       "    <tr>\n",
       "      <th>28</th>\n",
       "      <td>XGB Classifier</td>\n",
       "      <td>average_precision</td>\n",
       "      <td>0.988662</td>\n",
       "      <td>0.008534</td>\n",
       "    </tr>\n",
       "    <tr>\n",
       "      <th>29</th>\n",
       "      <td>XGB Classifier</td>\n",
       "      <td>roc_auc</td>\n",
       "      <td>0.991477</td>\n",
       "      <td>0.007484</td>\n",
       "    </tr>\n",
       "    <tr>\n",
       "      <th>30</th>\n",
       "      <td>KNeighbors Classifier</td>\n",
       "      <td>accuracy</td>\n",
       "      <td>0.949810</td>\n",
       "      <td>0.030568</td>\n",
       "    </tr>\n",
       "    <tr>\n",
       "      <th>31</th>\n",
       "      <td>KNeighbors Classifier</td>\n",
       "      <td>precision</td>\n",
       "      <td>0.941650</td>\n",
       "      <td>0.051325</td>\n",
       "    </tr>\n",
       "    <tr>\n",
       "      <th>32</th>\n",
       "      <td>KNeighbors Classifier</td>\n",
       "      <td>recall</td>\n",
       "      <td>0.927742</td>\n",
       "      <td>0.037787</td>\n",
       "    </tr>\n",
       "    <tr>\n",
       "      <th>33</th>\n",
       "      <td>KNeighbors Classifier</td>\n",
       "      <td>f1</td>\n",
       "      <td>0.934166</td>\n",
       "      <td>0.039448</td>\n",
       "    </tr>\n",
       "    <tr>\n",
       "      <th>34</th>\n",
       "      <td>KNeighbors Classifier</td>\n",
       "      <td>average_precision</td>\n",
       "      <td>0.971150</td>\n",
       "      <td>0.026925</td>\n",
       "    </tr>\n",
       "    <tr>\n",
       "      <th>35</th>\n",
       "      <td>KNeighbors Classifier</td>\n",
       "      <td>roc_auc</td>\n",
       "      <td>0.978638</td>\n",
       "      <td>0.019606</td>\n",
       "    </tr>\n",
       "    <tr>\n",
       "      <th>36</th>\n",
       "      <td>SVM Classifier</td>\n",
       "      <td>accuracy</td>\n",
       "      <td>0.959873</td>\n",
       "      <td>0.024160</td>\n",
       "    </tr>\n",
       "    <tr>\n",
       "      <th>37</th>\n",
       "      <td>SVM Classifier</td>\n",
       "      <td>precision</td>\n",
       "      <td>0.948978</td>\n",
       "      <td>0.042245</td>\n",
       "    </tr>\n",
       "    <tr>\n",
       "      <th>38</th>\n",
       "      <td>SVM Classifier</td>\n",
       "      <td>recall</td>\n",
       "      <td>0.947527</td>\n",
       "      <td>0.025711</td>\n",
       "    </tr>\n",
       "    <tr>\n",
       "      <th>39</th>\n",
       "      <td>SVM Classifier</td>\n",
       "      <td>f1</td>\n",
       "      <td>0.947927</td>\n",
       "      <td>0.030157</td>\n",
       "    </tr>\n",
       "    <tr>\n",
       "      <th>40</th>\n",
       "      <td>SVM Classifier</td>\n",
       "      <td>average_precision</td>\n",
       "      <td>0.988331</td>\n",
       "      <td>0.011410</td>\n",
       "    </tr>\n",
       "    <tr>\n",
       "      <th>41</th>\n",
       "      <td>SVM Classifier</td>\n",
       "      <td>roc_auc</td>\n",
       "      <td>0.989764</td>\n",
       "      <td>0.010724</td>\n",
       "    </tr>\n",
       "  </tbody>\n",
       "</table>\n",
       "</div>"
      ],
      "text/plain": [
       "                       Algorithm       Scoring Name   CV mean    CV std\n",
       "0            Logistic Regression           accuracy  0.972373  0.012223\n",
       "1            Logistic Regression          precision  0.980417  0.016008\n",
       "2            Logistic Regression             recall  0.947527  0.043701\n",
       "3            Logistic Regression                 f1  0.962802  0.017327\n",
       "4            Logistic Regression  average_precision  0.994018  0.005365\n",
       "5            Logistic Regression            roc_auc  0.994295  0.006768\n",
       "6       Random Forest Classifier           accuracy  0.947373  0.028819\n",
       "7       Random Forest Classifier          precision  0.939908  0.065937\n",
       "8       Random Forest Classifier             recall  0.940645  0.025074\n",
       "9       Random Forest Classifier                 f1  0.938877  0.033746\n",
       "10      Random Forest Classifier  average_precision  0.988470  0.010717\n",
       "11      Random Forest Classifier            roc_auc  0.991153  0.008028\n",
       "12  Gradient Boosting Classifier           accuracy  0.954778  0.024493\n",
       "13  Gradient Boosting Classifier          precision  0.937639  0.048543\n",
       "14  Gradient Boosting Classifier             recall  0.947312  0.026627\n",
       "15  Gradient Boosting Classifier                 f1  0.941718  0.029919\n",
       "16  Gradient Boosting Classifier  average_precision  0.987672  0.012448\n",
       "17  Gradient Boosting Classifier            roc_auc  0.991496  0.009078\n",
       "18        Extra Trees Classifier           accuracy  0.954905  0.038346\n",
       "19        Extra Trees Classifier          precision  0.960790  0.037335\n",
       "20        Extra Trees Classifier             recall  0.927742  0.024401\n",
       "21        Extra Trees Classifier                 f1  0.941552  0.037293\n",
       "22        Extra Trees Classifier  average_precision  0.988184  0.009988\n",
       "23        Extra Trees Classifier            roc_auc  0.991130  0.006917\n",
       "24                XGB Classifier           accuracy  0.952310  0.036521\n",
       "25                XGB Classifier          precision  0.943770  0.061622\n",
       "26                XGB Classifier             recall  0.933978  0.035944\n",
       "27                XGB Classifier                 f1  0.938176  0.044693\n",
       "28                XGB Classifier  average_precision  0.988662  0.008534\n",
       "29                XGB Classifier            roc_auc  0.991477  0.007484\n",
       "30         KNeighbors Classifier           accuracy  0.949810  0.030568\n",
       "31         KNeighbors Classifier          precision  0.941650  0.051325\n",
       "32         KNeighbors Classifier             recall  0.927742  0.037787\n",
       "33         KNeighbors Classifier                 f1  0.934166  0.039448\n",
       "34         KNeighbors Classifier  average_precision  0.971150  0.026925\n",
       "35         KNeighbors Classifier            roc_auc  0.978638  0.019606\n",
       "36                SVM Classifier           accuracy  0.959873  0.024160\n",
       "37                SVM Classifier          precision  0.948978  0.042245\n",
       "38                SVM Classifier             recall  0.947527  0.025711\n",
       "39                SVM Classifier                 f1  0.947927  0.030157\n",
       "40                SVM Classifier  average_precision  0.988331  0.011410\n",
       "41                SVM Classifier            roc_auc  0.989764  0.010724"
      ]
     },
     "execution_count": 28,
     "metadata": {},
     "output_type": "execute_result"
    }
   ],
   "source": [
    "trainPerformanceData"
   ]
  },
  {
   "cell_type": "code",
   "execution_count": 29,
   "metadata": {
    "scrolled": true
   },
   "outputs": [
    {
     "data": {
      "text/html": [
       "<div>\n",
       "<style scoped>\n",
       "    .dataframe tbody tr th:only-of-type {\n",
       "        vertical-align: middle;\n",
       "    }\n",
       "\n",
       "    .dataframe tbody tr th {\n",
       "        vertical-align: top;\n",
       "    }\n",
       "\n",
       "    .dataframe thead tr th {\n",
       "        text-align: left;\n",
       "    }\n",
       "\n",
       "    .dataframe thead tr:last-of-type th {\n",
       "        text-align: right;\n",
       "    }\n",
       "</style>\n",
       "<table border=\"1\" class=\"dataframe\">\n",
       "  <thead>\n",
       "    <tr>\n",
       "      <th></th>\n",
       "      <th colspan=\"6\" halign=\"left\">amin</th>\n",
       "    </tr>\n",
       "    <tr>\n",
       "      <th></th>\n",
       "      <th colspan=\"6\" halign=\"left\">CV mean</th>\n",
       "    </tr>\n",
       "    <tr>\n",
       "      <th>Scoring Name</th>\n",
       "      <th>accuracy</th>\n",
       "      <th>average_precision</th>\n",
       "      <th>f1</th>\n",
       "      <th>precision</th>\n",
       "      <th>recall</th>\n",
       "      <th>roc_auc</th>\n",
       "    </tr>\n",
       "    <tr>\n",
       "      <th>Algorithm</th>\n",
       "      <th></th>\n",
       "      <th></th>\n",
       "      <th></th>\n",
       "      <th></th>\n",
       "      <th></th>\n",
       "      <th></th>\n",
       "    </tr>\n",
       "  </thead>\n",
       "  <tbody>\n",
       "    <tr>\n",
       "      <th>Extra Trees Classifier</th>\n",
       "      <td>0.954905</td>\n",
       "      <td>0.988184</td>\n",
       "      <td>0.941552</td>\n",
       "      <td>0.960790</td>\n",
       "      <td>0.927742</td>\n",
       "      <td>0.991130</td>\n",
       "    </tr>\n",
       "    <tr>\n",
       "      <th>Gradient Boosting Classifier</th>\n",
       "      <td>0.954778</td>\n",
       "      <td>0.987672</td>\n",
       "      <td>0.941718</td>\n",
       "      <td>0.937639</td>\n",
       "      <td>0.947312</td>\n",
       "      <td>0.991496</td>\n",
       "    </tr>\n",
       "    <tr>\n",
       "      <th>KNeighbors Classifier</th>\n",
       "      <td>0.949810</td>\n",
       "      <td>0.971150</td>\n",
       "      <td>0.934166</td>\n",
       "      <td>0.941650</td>\n",
       "      <td>0.927742</td>\n",
       "      <td>0.978638</td>\n",
       "    </tr>\n",
       "    <tr>\n",
       "      <th>Logistic Regression</th>\n",
       "      <td>0.972373</td>\n",
       "      <td>0.994018</td>\n",
       "      <td>0.962802</td>\n",
       "      <td>0.980417</td>\n",
       "      <td>0.947527</td>\n",
       "      <td>0.994295</td>\n",
       "    </tr>\n",
       "    <tr>\n",
       "      <th>Random Forest Classifier</th>\n",
       "      <td>0.947373</td>\n",
       "      <td>0.988470</td>\n",
       "      <td>0.938877</td>\n",
       "      <td>0.939908</td>\n",
       "      <td>0.940645</td>\n",
       "      <td>0.991153</td>\n",
       "    </tr>\n",
       "    <tr>\n",
       "      <th>SVM Classifier</th>\n",
       "      <td>0.959873</td>\n",
       "      <td>0.988331</td>\n",
       "      <td>0.947927</td>\n",
       "      <td>0.948978</td>\n",
       "      <td>0.947527</td>\n",
       "      <td>0.989764</td>\n",
       "    </tr>\n",
       "    <tr>\n",
       "      <th>XGB Classifier</th>\n",
       "      <td>0.952310</td>\n",
       "      <td>0.988662</td>\n",
       "      <td>0.938176</td>\n",
       "      <td>0.943770</td>\n",
       "      <td>0.933978</td>\n",
       "      <td>0.991477</td>\n",
       "    </tr>\n",
       "  </tbody>\n",
       "</table>\n",
       "</div>"
      ],
      "text/plain": [
       "                                  amin                                        \\\n",
       "                               CV mean                                         \n",
       "Scoring Name                  accuracy average_precision        f1 precision   \n",
       "Algorithm                                                                      \n",
       "Extra Trees Classifier        0.954905          0.988184  0.941552  0.960790   \n",
       "Gradient Boosting Classifier  0.954778          0.987672  0.941718  0.937639   \n",
       "KNeighbors Classifier         0.949810          0.971150  0.934166  0.941650   \n",
       "Logistic Regression           0.972373          0.994018  0.962802  0.980417   \n",
       "Random Forest Classifier      0.947373          0.988470  0.938877  0.939908   \n",
       "SVM Classifier                0.959873          0.988331  0.947927  0.948978   \n",
       "XGB Classifier                0.952310          0.988662  0.938176  0.943770   \n",
       "\n",
       "                                                  \n",
       "                                                  \n",
       "Scoring Name                    recall   roc_auc  \n",
       "Algorithm                                         \n",
       "Extra Trees Classifier        0.927742  0.991130  \n",
       "Gradient Boosting Classifier  0.947312  0.991496  \n",
       "KNeighbors Classifier         0.927742  0.978638  \n",
       "Logistic Regression           0.947527  0.994295  \n",
       "Random Forest Classifier      0.940645  0.991153  \n",
       "SVM Classifier                0.947527  0.989764  \n",
       "XGB Classifier                0.933978  0.991477  "
      ]
     },
     "execution_count": 29,
     "metadata": {},
     "output_type": "execute_result"
    }
   ],
   "source": [
    "trainPerformanceData_pvt=pd.pivot_table(trainPerformanceData,index=[\"Algorithm\"],values=[\"CV mean\"],columns=[\"Scoring Name\"],aggfunc=[np.min])\n",
    "trainPerformanceData_pvt"
   ]
  },
  {
   "cell_type": "code",
   "execution_count": 30,
   "metadata": {
    "scrolled": true
   },
   "outputs": [
    {
     "data": {
      "text/html": [
       "<div>\n",
       "<style scoped>\n",
       "    .dataframe tbody tr th:only-of-type {\n",
       "        vertical-align: middle;\n",
       "    }\n",
       "\n",
       "    .dataframe tbody tr th {\n",
       "        vertical-align: top;\n",
       "    }\n",
       "\n",
       "    .dataframe thead th {\n",
       "        text-align: right;\n",
       "    }\n",
       "</style>\n",
       "<table border=\"1\" class=\"dataframe\">\n",
       "  <thead>\n",
       "    <tr style=\"text-align: right;\">\n",
       "      <th></th>\n",
       "      <th>Algorithm</th>\n",
       "      <th>Accuracy</th>\n",
       "      <th>AUC</th>\n",
       "      <th>Precision</th>\n",
       "      <th>Recall</th>\n",
       "      <th>F1</th>\n",
       "    </tr>\n",
       "  </thead>\n",
       "  <tbody>\n",
       "    <tr>\n",
       "      <th>3</th>\n",
       "      <td>Extra Trees Classifier</td>\n",
       "      <td>0.959064</td>\n",
       "      <td>0.945495</td>\n",
       "      <td>0.981818</td>\n",
       "      <td>0.900000</td>\n",
       "      <td>0.939130</td>\n",
       "    </tr>\n",
       "    <tr>\n",
       "      <th>2</th>\n",
       "      <td>Gradient Boosting Classifier</td>\n",
       "      <td>0.912281</td>\n",
       "      <td>0.901802</td>\n",
       "      <td>0.881356</td>\n",
       "      <td>0.866667</td>\n",
       "      <td>0.873950</td>\n",
       "    </tr>\n",
       "    <tr>\n",
       "      <th>5</th>\n",
       "      <td>KNeighbors Classifier</td>\n",
       "      <td>0.947368</td>\n",
       "      <td>0.932658</td>\n",
       "      <td>0.963636</td>\n",
       "      <td>0.883333</td>\n",
       "      <td>0.921739</td>\n",
       "    </tr>\n",
       "    <tr>\n",
       "      <th>0</th>\n",
       "      <td>Logistic Regression</td>\n",
       "      <td>0.959064</td>\n",
       "      <td>0.949324</td>\n",
       "      <td>0.964912</td>\n",
       "      <td>0.916667</td>\n",
       "      <td>0.940171</td>\n",
       "    </tr>\n",
       "    <tr>\n",
       "      <th>1</th>\n",
       "      <td>Random Forest Classifier</td>\n",
       "      <td>0.953216</td>\n",
       "      <td>0.944820</td>\n",
       "      <td>0.948276</td>\n",
       "      <td>0.916667</td>\n",
       "      <td>0.932203</td>\n",
       "    </tr>\n",
       "    <tr>\n",
       "      <th>6</th>\n",
       "      <td>SVM Classifier</td>\n",
       "      <td>0.953216</td>\n",
       "      <td>0.940991</td>\n",
       "      <td>0.964286</td>\n",
       "      <td>0.900000</td>\n",
       "      <td>0.931034</td>\n",
       "    </tr>\n",
       "    <tr>\n",
       "      <th>4</th>\n",
       "      <td>XGB Classifier</td>\n",
       "      <td>0.959064</td>\n",
       "      <td>0.953153</td>\n",
       "      <td>0.949153</td>\n",
       "      <td>0.933333</td>\n",
       "      <td>0.941176</td>\n",
       "    </tr>\n",
       "  </tbody>\n",
       "</table>\n",
       "</div>"
      ],
      "text/plain": [
       "                      Algorithm  Accuracy       AUC  Precision    Recall  \\\n",
       "3        Extra Trees Classifier  0.959064  0.945495   0.981818  0.900000   \n",
       "2  Gradient Boosting Classifier  0.912281  0.901802   0.881356  0.866667   \n",
       "5         KNeighbors Classifier  0.947368  0.932658   0.963636  0.883333   \n",
       "0           Logistic Regression  0.959064  0.949324   0.964912  0.916667   \n",
       "1      Random Forest Classifier  0.953216  0.944820   0.948276  0.916667   \n",
       "6                SVM Classifier  0.953216  0.940991   0.964286  0.900000   \n",
       "4                XGB Classifier  0.959064  0.953153   0.949153  0.933333   \n",
       "\n",
       "         F1  \n",
       "3  0.939130  \n",
       "2  0.873950  \n",
       "5  0.921739  \n",
       "0  0.940171  \n",
       "1  0.932203  \n",
       "6  0.931034  \n",
       "4  0.941176  "
      ]
     },
     "execution_count": 30,
     "metadata": {},
     "output_type": "execute_result"
    }
   ],
   "source": [
    "testPerformanceData.sort_values(by=['Algorithm'])"
   ]
  },
  {
   "cell_type": "code",
   "execution_count": 31,
   "metadata": {},
   "outputs": [
    {
     "data": {
      "image/png": "[encoded data removed]",
      "text/plain": [
       "<Figure size 432x288 with 1 Axes>"
      ]
     },
     "metadata": {
      "needs_background": "light"
     },
     "output_type": "display_data"
    }
   ],
   "source": [
    "# plotting the coefficient score \n",
    "fig, ax = plt.subplots(figsize =(6, 4)) \n",
    "  \n",
    "color =['tab:blue', 'tab:orange', 'tab:green', 'tab:red', 'tab:purple', 'tab:olive', 'tab:cyan'] \n",
    "  \n",
    "ax.barh(testPerformanceData[\"Algorithm\"], testPerformanceData['AUC'], color = color) \n",
    "  \n",
    "#ax.spines['bottom'].set_position('zero') \n",
    "plt.style.use('ggplot') \n",
    "plt.ylabel('Algorithm')\n",
    "plt.xlabel('AUC')\n",
    "#plt.title('AUC value of Algorithms ')\n",
    "plt.show() "
   ]
  },
  {
   "cell_type": "markdown",
   "metadata": {},
   "source": [
    "## Conclusions"
   ]
  },
  {
   "cell_type": "markdown",
   "metadata": {},
   "source": [
    "Thus, the most significant features in predicting malignant or benign for cancer patients obtained by algorithms are texture_mean, area_mean, concavity_mean, area_se, concavity_se, fractal_dimension_se, smoothness_worst, concavity_worst, symmetry_worst, fractal_dimension_worst.\n",
    "To obtain best results from predictive model, many different models are trained, optimized, and evaluated using 16 set of features. During this process the feature set itself is culled using model-specific methods. Each model and subset of features is evaluated using Accuracy, AUC and sensitivity using a 5-fold cross-validation. Best results are obtained with Logistic regression, with the random forest feature set culled to 10 features. Above table shows the performance measures of the classification techniques. The logistic regression achieved an accuracy and AUC of 0.977 and 0.971 on test data."
   ]
  }
 ],
 "metadata": {
  "coursera": {
   "course_slug": "python-machine-learning",
   "graded_item_id": "eWYHL",
   "launcher_item_id": "BAqef",
   "part_id": "fXXRp"
  },
  "kernelspec": {
   "display_name": "Python 3 (ipykernel)",
   "language": "python",
   "name": "python3"
  },
  "language_info": {
   "codemirror_mode": {
    "name": "ipython",
    "version": 3
   },
   "file_extension": ".py",
   "mimetype": "text/x-python",
   "name": "python",
   "nbconvert_exporter": "python",
   "pygments_lexer": "ipython3",
   "version": "3.10.5"
  }
 },
 "nbformat": 4,
 "nbformat_minor": 2
}
