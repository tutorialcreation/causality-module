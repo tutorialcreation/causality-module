{
 "cells": [
  {
   "cell_type": "markdown",
   "metadata": {},
   "source": [
    "# Feature Selection In The Breast Cancer Dataset"
   ]
  },
  {
   "cell_type": "markdown",
   "metadata": {},
   "source": [
    "In the following cells, we will select a group of variables, the most predictive ones, to build our machine learning models. Feature Selection is the process where you automatically or manually select those features which contribute most to your prediction variable or output in which you are interested in. Having irrelevant features in your data can decrease the accuracy of the models and make your model learn based on irrelevant features. The selection of relevant features may also get benefitted from the right domain knowledge.\n",
    "\n",
    "### Why do we need to select variables?\n",
    "\n",
    "1. For production: Fewer variables mean smaller client input requirements (e.g. customers filling out a form on a website or mobile app), and hence less code for error handling. This reduces the chances of bugs.\n",
    "2. For model performance: Fewer variables mean simpler, more interpretable, less over-fitted models"
   ]
  },
  {
   "cell_type": "markdown",
   "metadata": {},
   "source": [
    "In this part we will select feature with different methods that are \n",
    "\n",
    "#### 1. Feature selection with correlation \n",
    "#### 2. Univariate feature selection (Chi-square)\n",
    "#### 3. Recursive feature elimination (RFE) with random forest\n",
    "#### 4. Recursive feature elimination with cross validation(RFECV) with random forest\n",
    "#### 5. Tree based feature selection with random forest classification\n",
    "#### 6. L1-based feature selection (LinearSVC)\n",
    "#### 7. Tree-based feature selection (ExtraTrees)\n",
    "#### 8. Vote based feature selection\n",
    "\n",
    "We will use random forest classification in order to train our model and predict."
   ]
  },
  {
   "cell_type": "markdown",
   "metadata": {},
   "source": [
    "#### Import libraries"
   ]
  },
  {
   "cell_type": "code",
   "execution_count": 113,
   "metadata": {},
   "outputs": [],
   "source": [
    "# importing the libraries\n",
    "from functools import reduce\n",
    "# linear algebra\n",
    "import numpy as np \n",
    "# data processing, CSV file I/O\n",
    "import pandas as pd \n",
    "# data visualization library\n",
    "import seaborn as sns  \n",
    "import matplotlib.pyplot as plt\n",
    "from pandas import DataFrame\n",
    "import time\n",
    "from statsmodels.stats.outliers_influence import variance_inflation_factor\n",
    "from sklearn.svm import LinearSVC\n",
    "from sklearn.decomposition import PCA\n",
    "from sklearn.model_selection import train_test_split\n",
    "from sklearn.ensemble import RandomForestClassifier\n",
    "from sklearn.ensemble import ExtraTreesClassifier\n",
    "from sklearn.metrics import f1_score,confusion_matrix\n",
    "from sklearn.metrics import accuracy_score\n",
    "from sklearn.feature_selection import SelectFromModel\n",
    "from sklearn.feature_selection import SelectKBest\n",
    "from sklearn.feature_selection import chi2\n",
    "from sklearn.feature_selection import RFE\n",
    "from sklearn.feature_selection import RFECV\n",
    "dataset = pd.read_csv(\"../data/data.csv\")"
   ]
  },
  {
   "cell_type": "markdown",
   "metadata": {},
   "source": [
    "#### Drop unnecessary columns in a dataset"
   ]
  },
  {
   "cell_type": "code",
   "execution_count": 3,
   "metadata": {},
   "outputs": [],
   "source": [
    "def get_xy(data:pd.DataFrame,list_drp:list):\n",
    "        \"\"\"\n",
    "        set the x and y column\n",
    "        \n",
    "        args:\n",
    "            data(pd.DataFrame): the dataFrame which we are extracting the x and y\n",
    "        \n",
    "        returns:\n",
    "            y and X in form of pandas series\n",
    "        \n",
    "        \"\"\"\n",
    "        y = data.diagnosis # M or B \n",
    "        X = data.drop(list_drp,axis = 1 )\n",
    "        return y,X"
   ]
  },
  {
   "cell_type": "code",
   "execution_count": 24,
   "metadata": {},
   "outputs": [
    {
     "data": {
      "text/html": [
       "<div>\n",
       "<style scoped>\n",
       "    .dataframe tbody tr th:only-of-type {\n",
       "        vertical-align: middle;\n",
       "    }\n",
       "\n",
       "    .dataframe tbody tr th {\n",
       "        vertical-align: top;\n",
       "    }\n",
       "\n",
       "    .dataframe thead th {\n",
       "        text-align: right;\n",
       "    }\n",
       "</style>\n",
       "<table border=\"1\" class=\"dataframe\">\n",
       "  <thead>\n",
       "    <tr style=\"text-align: right;\">\n",
       "      <th></th>\n",
       "      <th>radius_mean</th>\n",
       "      <th>texture_mean</th>\n",
       "      <th>perimeter_mean</th>\n",
       "      <th>area_mean</th>\n",
       "      <th>smoothness_mean</th>\n",
       "      <th>compactness_mean</th>\n",
       "      <th>concavity_mean</th>\n",
       "      <th>concave points_mean</th>\n",
       "      <th>symmetry_mean</th>\n",
       "      <th>fractal_dimension_mean</th>\n",
       "      <th>...</th>\n",
       "      <th>radius_worst</th>\n",
       "      <th>texture_worst</th>\n",
       "      <th>perimeter_worst</th>\n",
       "      <th>area_worst</th>\n",
       "      <th>smoothness_worst</th>\n",
       "      <th>compactness_worst</th>\n",
       "      <th>concavity_worst</th>\n",
       "      <th>concave points_worst</th>\n",
       "      <th>symmetry_worst</th>\n",
       "      <th>fractal_dimension_worst</th>\n",
       "    </tr>\n",
       "  </thead>\n",
       "  <tbody>\n",
       "    <tr>\n",
       "      <th>0</th>\n",
       "      <td>17.99</td>\n",
       "      <td>10.38</td>\n",
       "      <td>122.80</td>\n",
       "      <td>1001.0</td>\n",
       "      <td>0.11840</td>\n",
       "      <td>0.27760</td>\n",
       "      <td>0.3001</td>\n",
       "      <td>0.14710</td>\n",
       "      <td>0.2419</td>\n",
       "      <td>0.07871</td>\n",
       "      <td>...</td>\n",
       "      <td>25.38</td>\n",
       "      <td>17.33</td>\n",
       "      <td>184.60</td>\n",
       "      <td>2019.0</td>\n",
       "      <td>0.1622</td>\n",
       "      <td>0.6656</td>\n",
       "      <td>0.7119</td>\n",
       "      <td>0.2654</td>\n",
       "      <td>0.4601</td>\n",
       "      <td>0.11890</td>\n",
       "    </tr>\n",
       "    <tr>\n",
       "      <th>1</th>\n",
       "      <td>20.57</td>\n",
       "      <td>17.77</td>\n",
       "      <td>132.90</td>\n",
       "      <td>1326.0</td>\n",
       "      <td>0.08474</td>\n",
       "      <td>0.07864</td>\n",
       "      <td>0.0869</td>\n",
       "      <td>0.07017</td>\n",
       "      <td>0.1812</td>\n",
       "      <td>0.05667</td>\n",
       "      <td>...</td>\n",
       "      <td>24.99</td>\n",
       "      <td>23.41</td>\n",
       "      <td>158.80</td>\n",
       "      <td>1956.0</td>\n",
       "      <td>0.1238</td>\n",
       "      <td>0.1866</td>\n",
       "      <td>0.2416</td>\n",
       "      <td>0.1860</td>\n",
       "      <td>0.2750</td>\n",
       "      <td>0.08902</td>\n",
       "    </tr>\n",
       "    <tr>\n",
       "      <th>2</th>\n",
       "      <td>19.69</td>\n",
       "      <td>21.25</td>\n",
       "      <td>130.00</td>\n",
       "      <td>1203.0</td>\n",
       "      <td>0.10960</td>\n",
       "      <td>0.15990</td>\n",
       "      <td>0.1974</td>\n",
       "      <td>0.12790</td>\n",
       "      <td>0.2069</td>\n",
       "      <td>0.05999</td>\n",
       "      <td>...</td>\n",
       "      <td>23.57</td>\n",
       "      <td>25.53</td>\n",
       "      <td>152.50</td>\n",
       "      <td>1709.0</td>\n",
       "      <td>0.1444</td>\n",
       "      <td>0.4245</td>\n",
       "      <td>0.4504</td>\n",
       "      <td>0.2430</td>\n",
       "      <td>0.3613</td>\n",
       "      <td>0.08758</td>\n",
       "    </tr>\n",
       "    <tr>\n",
       "      <th>3</th>\n",
       "      <td>11.42</td>\n",
       "      <td>20.38</td>\n",
       "      <td>77.58</td>\n",
       "      <td>386.1</td>\n",
       "      <td>0.14250</td>\n",
       "      <td>0.28390</td>\n",
       "      <td>0.2414</td>\n",
       "      <td>0.10520</td>\n",
       "      <td>0.2597</td>\n",
       "      <td>0.09744</td>\n",
       "      <td>...</td>\n",
       "      <td>14.91</td>\n",
       "      <td>26.50</td>\n",
       "      <td>98.87</td>\n",
       "      <td>567.7</td>\n",
       "      <td>0.2098</td>\n",
       "      <td>0.8663</td>\n",
       "      <td>0.6869</td>\n",
       "      <td>0.2575</td>\n",
       "      <td>0.6638</td>\n",
       "      <td>0.17300</td>\n",
       "    </tr>\n",
       "    <tr>\n",
       "      <th>4</th>\n",
       "      <td>20.29</td>\n",
       "      <td>14.34</td>\n",
       "      <td>135.10</td>\n",
       "      <td>1297.0</td>\n",
       "      <td>0.10030</td>\n",
       "      <td>0.13280</td>\n",
       "      <td>0.1980</td>\n",
       "      <td>0.10430</td>\n",
       "      <td>0.1809</td>\n",
       "      <td>0.05883</td>\n",
       "      <td>...</td>\n",
       "      <td>22.54</td>\n",
       "      <td>16.67</td>\n",
       "      <td>152.20</td>\n",
       "      <td>1575.0</td>\n",
       "      <td>0.1374</td>\n",
       "      <td>0.2050</td>\n",
       "      <td>0.4000</td>\n",
       "      <td>0.1625</td>\n",
       "      <td>0.2364</td>\n",
       "      <td>0.07678</td>\n",
       "    </tr>\n",
       "  </tbody>\n",
       "</table>\n",
       "<p>5 rows × 30 columns</p>\n",
       "</div>"
      ],
      "text/plain": [
       "   radius_mean  texture_mean  perimeter_mean  area_mean  smoothness_mean  \\\n",
       "0        17.99         10.38          122.80     1001.0          0.11840   \n",
       "1        20.57         17.77          132.90     1326.0          0.08474   \n",
       "2        19.69         21.25          130.00     1203.0          0.10960   \n",
       "3        11.42         20.38           77.58      386.1          0.14250   \n",
       "4        20.29         14.34          135.10     1297.0          0.10030   \n",
       "\n",
       "   compactness_mean  concavity_mean  concave points_mean  symmetry_mean  \\\n",
       "0           0.27760          0.3001              0.14710         0.2419   \n",
       "1           0.07864          0.0869              0.07017         0.1812   \n",
       "2           0.15990          0.1974              0.12790         0.2069   \n",
       "3           0.28390          0.2414              0.10520         0.2597   \n",
       "4           0.13280          0.1980              0.10430         0.1809   \n",
       "\n",
       "   fractal_dimension_mean  ...  radius_worst  texture_worst  perimeter_worst  \\\n",
       "0                 0.07871  ...         25.38          17.33           184.60   \n",
       "1                 0.05667  ...         24.99          23.41           158.80   \n",
       "2                 0.05999  ...         23.57          25.53           152.50   \n",
       "3                 0.09744  ...         14.91          26.50            98.87   \n",
       "4                 0.05883  ...         22.54          16.67           152.20   \n",
       "\n",
       "   area_worst  smoothness_worst  compactness_worst  concavity_worst  \\\n",
       "0      2019.0            0.1622             0.6656           0.7119   \n",
       "1      1956.0            0.1238             0.1866           0.2416   \n",
       "2      1709.0            0.1444             0.4245           0.4504   \n",
       "3       567.7            0.2098             0.8663           0.6869   \n",
       "4      1575.0            0.1374             0.2050           0.4000   \n",
       "\n",
       "   concave points_worst  symmetry_worst  fractal_dimension_worst  \n",
       "0                0.2654          0.4601                  0.11890  \n",
       "1                0.1860          0.2750                  0.08902  \n",
       "2                0.2430          0.3613                  0.08758  \n",
       "3                0.2575          0.6638                  0.17300  \n",
       "4                0.1625          0.2364                  0.07678  \n",
       "\n",
       "[5 rows x 30 columns]"
      ]
     },
     "execution_count": 24,
     "metadata": {},
     "output_type": "execute_result"
    }
   ],
   "source": [
    "d_list = ['Unnamed: 32','id','diagnosis']\n",
    "y,x = get_xy(dataset,d_list)\n",
    "x.head()"
   ]
  },
  {
   "cell_type": "markdown",
   "metadata": {},
   "source": [
    "#### 1) Feature selection with correlation"
   ]
  },
  {
   "cell_type": "markdown",
   "metadata": {},
   "source": [
    "As it can be seen in map heat figure radius_mean, perimeter_mean and area_mean are correlated with each other so we will use only area_mean. If you ask how i choose area_mean as a feature to use, well actually there is no correct answer, I just look at swarm plots and area_mean looks like clear for me but we cannot make exact separation among other correlated features without trying. So lets find other correlated features and look accuracy with random forest classifier.\n",
    "\n",
    "Compactness_mean, concavity_mean and concave points_mean are correlated with each other.Therefore I only choose concavity_mean. Apart from these, radius_se, perimeter_se and area_se are correlated and I only use area_se. radius_worst, perimeter_worst and area_worst are correlated so I use area_worst. Compactness_worst, concavity_worst and concave points_worst so I use concavity_worst. Compactness_se, concavity_se and concave points_se so I use concavity_se. texture_mean and texture_worst are correlated and I use texture_mean. area_worst and area_mean are correlated, I use area_mean."
   ]
  },
  {
   "cell_type": "markdown",
   "metadata": {},
   "source": [
    "#### Drop high correlated columns in a dataset"
   ]
  },
  {
   "cell_type": "code",
   "execution_count": 20,
   "metadata": {},
   "outputs": [],
   "source": [
    "def by_correlation(x,drop_list_cor):\n",
    "    \"\"\"\n",
    "    selects the features by correlation\n",
    "    \n",
    "    args:\n",
    "        x (pd.DataFrame):a dataframe of the independent variables\n",
    "        drop_list_cor (list): a list of the columns believed to have high correlation\n",
    "        \n",
    "    returns:\n",
    "        a dataframe demonstrating correlation among\n",
    "    \"\"\"\n",
    "    x_1 = x.drop(drop_list_cor,axis = 1 )        # do not modify x, we will use it later \n",
    "    x_1.head()\n",
    "    selected_feature_corr=x_1.columns\n",
    "    fs_corr = np.ones(len(x_1.columns)).astype(int)\n",
    "    fs_corr = DataFrame(fs_corr, columns = [\"Corr\"], index=x_1.columns)\n",
    "    f,ax = plt.subplots(figsize=(14, 14))\n",
    "    sns.heatmap(x_1.corr(), annot=True, linewidths=.5, fmt= '.1f',ax=ax)\n",
    "    return x_1,fs_corr"
   ]
  },
  {
   "cell_type": "code",
   "execution_count": 23,
   "metadata": {},
   "outputs": [
    {
     "data": {
      "text/html": [
       "<div>\n",
       "<style scoped>\n",
       "    .dataframe tbody tr th:only-of-type {\n",
       "        vertical-align: middle;\n",
       "    }\n",
       "\n",
       "    .dataframe tbody tr th {\n",
       "        vertical-align: top;\n",
       "    }\n",
       "\n",
       "    .dataframe thead th {\n",
       "        text-align: right;\n",
       "    }\n",
       "</style>\n",
       "<table border=\"1\" class=\"dataframe\">\n",
       "  <thead>\n",
       "    <tr style=\"text-align: right;\">\n",
       "      <th></th>\n",
       "      <th>index</th>\n",
       "      <th>Corr</th>\n",
       "    </tr>\n",
       "  </thead>\n",
       "  <tbody>\n",
       "    <tr>\n",
       "      <th>0</th>\n",
       "      <td>texture_mean</td>\n",
       "      <td>1</td>\n",
       "    </tr>\n",
       "    <tr>\n",
       "      <th>1</th>\n",
       "      <td>area_mean</td>\n",
       "      <td>1</td>\n",
       "    </tr>\n",
       "    <tr>\n",
       "      <th>2</th>\n",
       "      <td>smoothness_mean</td>\n",
       "      <td>1</td>\n",
       "    </tr>\n",
       "    <tr>\n",
       "      <th>3</th>\n",
       "      <td>concavity_mean</td>\n",
       "      <td>1</td>\n",
       "    </tr>\n",
       "    <tr>\n",
       "      <th>4</th>\n",
       "      <td>symmetry_mean</td>\n",
       "      <td>1</td>\n",
       "    </tr>\n",
       "    <tr>\n",
       "      <th>5</th>\n",
       "      <td>fractal_dimension_mean</td>\n",
       "      <td>1</td>\n",
       "    </tr>\n",
       "    <tr>\n",
       "      <th>6</th>\n",
       "      <td>texture_se</td>\n",
       "      <td>1</td>\n",
       "    </tr>\n",
       "    <tr>\n",
       "      <th>7</th>\n",
       "      <td>area_se</td>\n",
       "      <td>1</td>\n",
       "    </tr>\n",
       "    <tr>\n",
       "      <th>8</th>\n",
       "      <td>smoothness_se</td>\n",
       "      <td>1</td>\n",
       "    </tr>\n",
       "    <tr>\n",
       "      <th>9</th>\n",
       "      <td>concavity_se</td>\n",
       "      <td>1</td>\n",
       "    </tr>\n",
       "    <tr>\n",
       "      <th>10</th>\n",
       "      <td>symmetry_se</td>\n",
       "      <td>1</td>\n",
       "    </tr>\n",
       "    <tr>\n",
       "      <th>11</th>\n",
       "      <td>fractal_dimension_se</td>\n",
       "      <td>1</td>\n",
       "    </tr>\n",
       "    <tr>\n",
       "      <th>12</th>\n",
       "      <td>smoothness_worst</td>\n",
       "      <td>1</td>\n",
       "    </tr>\n",
       "    <tr>\n",
       "      <th>13</th>\n",
       "      <td>concavity_worst</td>\n",
       "      <td>1</td>\n",
       "    </tr>\n",
       "    <tr>\n",
       "      <th>14</th>\n",
       "      <td>symmetry_worst</td>\n",
       "      <td>1</td>\n",
       "    </tr>\n",
       "    <tr>\n",
       "      <th>15</th>\n",
       "      <td>fractal_dimension_worst</td>\n",
       "      <td>1</td>\n",
       "    </tr>\n",
       "  </tbody>\n",
       "</table>\n",
       "</div>"
      ],
      "text/plain": [
       "                      index  Corr\n",
       "0              texture_mean     1\n",
       "1                 area_mean     1\n",
       "2           smoothness_mean     1\n",
       "3            concavity_mean     1\n",
       "4             symmetry_mean     1\n",
       "5    fractal_dimension_mean     1\n",
       "6                texture_se     1\n",
       "7                   area_se     1\n",
       "8             smoothness_se     1\n",
       "9              concavity_se     1\n",
       "10              symmetry_se     1\n",
       "11     fractal_dimension_se     1\n",
       "12         smoothness_worst     1\n",
       "13          concavity_worst     1\n",
       "14           symmetry_worst     1\n",
       "15  fractal_dimension_worst     1"
      ]
     },
     "execution_count": 23,
     "metadata": {},
     "output_type": "execute_result"
    },
    {
     "data": {
      "image/png": "[encoded data removed]",
      "text/plain": [
       "<Figure size 1008x1008 with 2 Axes>"
      ]
     },
     "metadata": {
      "needs_background": "light"
     },
     "output_type": "display_data"
    }
   ],
   "source": [
    "drop_list_cor = ['perimeter_mean','radius_mean','compactness_mean','concave points_mean','radius_se','perimeter_se','radius_worst','perimeter_worst','compactness_worst','concave points_worst','compactness_se','concave points_se','texture_worst','area_worst']\n",
    "x_1,fs_corr = by_correlation(x,drop_list_cor)\n",
    "fs_corr = fs_corr.reset_index();fs_corr"
   ]
  },
  {
   "cell_type": "markdown",
   "metadata": {},
   "source": [
    "After drop correlated features, as it can be seen in below correlation matrix, there are no more correlated features. Actually, I know and you see there is correlation value 0.9 but lets see together what happen if we do not drop it."
   ]
  },
  {
   "cell_type": "markdown",
   "metadata": {},
   "source": [
    "Well, we choose our features but did we choose correctly ? Lets use random forest and find accuracy according to chosen features."
   ]
  },
  {
   "cell_type": "code",
   "execution_count": 75,
   "metadata": {},
   "outputs": [],
   "source": [
    "def test_rf(x,y):\n",
    "    \"\"\"\n",
    "    find correlation tests by random forest\n",
    "    \n",
    "    args:\n",
    "        x (pd.DataFrame): a dataframe of the independent variables\n",
    "        y (pd.DataFrame): a dataframe of the dependent variable\n",
    "    \n",
    "    returns:\n",
    "        a heatmap showing rf results\n",
    "        \n",
    "    \"\"\"\n",
    "    # split data train 70 % and test 30 %\n",
    "    x_train, x_test, y_train, y_test = train_test_split(x_1, y, test_size=0.3, random_state=42)\n",
    "\n",
    "    #random forest classifier with n_estimators=10 (default)\n",
    "    clf_rf = RandomForestClassifier(random_state=43)      \n",
    "    clr_rf = clf_rf.fit(x_train,y_train)\n",
    "\n",
    "    ac = accuracy_score(y_test,clf_rf.predict(x_test))\n",
    "    print('Accuracy is: ',ac)\n",
    "    cm = confusion_matrix(y_test,clf_rf.predict(x_test))\n",
    "    sns.heatmap(cm,annot=True,fmt=\"d\")\n",
    "    return x_train, x_test, y_train, y_test,clr_rf"
   ]
  },
  {
   "cell_type": "code",
   "execution_count": 76,
   "metadata": {},
   "outputs": [
    {
     "name": "stdout",
     "output_type": "stream",
     "text": [
      "Accuracy is:  0.9649122807017544\n"
     ]
    },
    {
     "data": {
      "image/png": "[encoded data removed]",
      "text/plain": [
       "<Figure size 432x288 with 2 Axes>"
      ]
     },
     "metadata": {
      "needs_background": "light"
     },
     "output_type": "display_data"
    }
   ],
   "source": [
    "x_train, x_test, y_train, y_test,clr_rf = test_rf(x_1,y)"
   ]
  },
  {
   "cell_type": "markdown",
   "metadata": {},
   "source": [
    "Accuracy is almost 95% and as it can be seen in confusion matrix, we make few wrong prediction. Now lets see other feature selection methods to find better results."
   ]
  },
  {
   "cell_type": "markdown",
   "metadata": {},
   "source": [
    "#### 2. Univariate feature selection (Chi-square)"
   ]
  },
  {
   "cell_type": "markdown",
   "metadata": {},
   "source": [
    "In univariate feature selection, we will use SelectKBest that removes all but the k highest scoring features. "
   ]
  },
  {
   "cell_type": "markdown",
   "metadata": {},
   "source": [
    "In this method we need to choose how many features we will use. For example, will k (number of features) be 5 or 10 or 15? The answer is only trying or intuitively. I do not try all combinations but I only choose k = 10 and find best 10 features."
   ]
  },
  {
   "cell_type": "code",
   "execution_count": 45,
   "metadata": {},
   "outputs": [],
   "source": [
    "def by_chi2(x_train,y_train):\n",
    "    \"\"\"\n",
    "    selects features based on the chisquared method\n",
    "    \n",
    "    args:\n",
    "        x_train (pd.DataFrame): dataframe of the training x dataset\n",
    "        y_train (pd.DataFrame): dataframe of the training y dataset\n",
    "    \n",
    "    returns:\n",
    "        result of the chi2 in a dataframe\n",
    "    \"\"\"\n",
    "    # find best scored 10 features\n",
    "    select_feature = SelectKBest(chi2, k=10).fit(x_train, y_train)\n",
    "    np.set_printoptions(suppress=True)\n",
    "    print('Score list:', select_feature.scores_)\n",
    "    pd.options.display.float_format = '{:.2f}'.format\n",
    "    fs_chi2 = pd.DataFrame(select_feature.scores_, columns = [\"Chi_Square\"], index=x_train.columns)\n",
    "    fs_chi2 = fs_chi2.reset_index()\n",
    "    fs_chi2 = fs_chi2.sort_values('Chi_Square',ascending=0)\n",
    "    return select_feature,fs_chi2"
   ]
  },
  {
   "cell_type": "code",
   "execution_count": 53,
   "metadata": {},
   "outputs": [
    {
     "name": "stdout",
     "output_type": "stream",
     "text": [
      "Score list: [   60.69164331 36689.9556596      0.10001518    13.05476497\n",
      "     0.19598285     0.00034258     0.0407131   6127.41067039\n",
      "     0.0013247      0.69289672     0.00139558     0.00265927\n",
      "     0.26322631    25.88581167     1.00635138     0.12308735]\n",
      "Accuracy is:  0.9649122807017544\n"
     ]
    },
    {
     "data": {
      "text/plain": [
       "<AxesSubplot:>"
      ]
     },
     "execution_count": 53,
     "metadata": {},
     "output_type": "execute_result"
    },
    {
     "data": {
      "image/png": "[encoded data removed]",
      "text/plain": [
       "<Figure size 432x288 with 2 Axes>"
      ]
     },
     "metadata": {
      "needs_background": "light"
     },
     "output_type": "display_data"
    }
   ],
   "source": [
    "select_feature,fs_chi2=by_chi2(x_train,y_train);fs_chi2\n",
    "x_train_2 = select_feature.transform(x_train)\n",
    "x_test_2 = select_feature.transform(x_test)\n",
    "clf_rf_2 = RandomForestClassifier()      \n",
    "clr_rf_2 = clf_rf_2.fit(x_train_2,y_train)\n",
    "ac_2 = accuracy_score(y_test,clf_rf_2.predict(x_test_2))\n",
    "print('Accuracy is: ',ac_2)\n",
    "cm_2 = confusion_matrix(y_test,clf_rf_2.predict(x_test_2))\n",
    "sns.heatmap(cm_2,annot=True,fmt=\"d\")"
   ]
  },
  {
   "cell_type": "markdown",
   "metadata": {},
   "source": [
    "#### 3. Recursive feature elimination (RFE) with random forest"
   ]
  },
  {
   "cell_type": "markdown",
   "metadata": {},
   "source": [
    "Basically, it uses one of the classification methods (random forest in our example), assign weights to each of features. Whose absolute weights are the smallest are pruned from the current set features. That procedure is recursively repeated on the pruned set until the desired number of features\n",
    "\n",
    "Like previous method, we will use 10 features. However, which 10 features will we use ? We will choose them with RFE method."
   ]
  },
  {
   "cell_type": "code",
   "execution_count": 58,
   "metadata": {},
   "outputs": [],
   "source": [
    "def by_rfe(x_train,y_train):\n",
    "    \"\"\"\n",
    "    select by recursive feature elimination\n",
    "    \n",
    "    args:\n",
    "        x_train (pd.DataFrame): a pandas dataframe for trarining x dataset\n",
    "        y_train (pd.DataFrame): a pandas dataframe for training y dataset\n",
    "        \n",
    "    returns:\n",
    "        a datafram of the extracted features\n",
    "    \"\"\"\n",
    "    \n",
    "    # Create the RFE object and rank each pixel\n",
    "    clf_rf_3 = RandomForestClassifier()      \n",
    "    rfe = RFE(estimator=clf_rf_3, n_features_to_select=10, step=1)\n",
    "    rfe = rfe.fit(x_train, y_train)\n",
    "    # let's print the number of total and selected features\n",
    "    fs_rfe = DataFrame(rfe.support_, columns = [\"RFE\"], index=x_train.columns)\n",
    "    fs_rfe = fs_rfe.reset_index()\n",
    "    # this is how we can make a list of the selected features\n",
    "    # let's print some stats\n",
    "    print('total features: {}'.format((x_train.shape[1])))\n",
    "    print('selected features: {}'.format(len(x_train.columns[rfe.support_])))\n",
    "    print('Chosen best 10 feature by rfe:',x_train.columns[rfe.support_])\n",
    "    return fs_rfe,rfe"
   ]
  },
  {
   "cell_type": "code",
   "execution_count": 59,
   "metadata": {},
   "outputs": [
    {
     "name": "stdout",
     "output_type": "stream",
     "text": [
      "total features: 16\n",
      "selected features: 10\n",
      "Chosen best 10 feature by rfe: Index(['texture_mean', 'area_mean', 'smoothness_mean', 'concavity_mean',\n",
      "       'fractal_dimension_mean', 'area_se', 'concavity_se', 'smoothness_worst',\n",
      "       'concavity_worst', 'symmetry_worst'],\n",
      "      dtype='object')\n"
     ]
    }
   ],
   "source": [
    "fs_rfe,rfe=by_rfe(x_train,y_train)"
   ]
  },
  {
   "cell_type": "markdown",
   "metadata": {},
   "source": [
    "Chosen 10 best features by rfe is texture_mean, area_mean, smoothness_mean, concavity_mean, area_se, concavity_se, fractal_dimension_se, concavity_worst,symmetry_worst,fractal_dimension_worst. They are similar with previous (selectkBest) method. Therefore we do not need to calculate accuracy again. Shortly, we can say that we make good feature selection with rfe and selectkBest methods. However as you can see there is a problem, okey I except we find best 10 feature with two different method and these features are almost same but why it is 10. Maybe if we use best 5 or best 12 feature we will have better accuracy. Therefore lets see how many feature we need to use with rfecv method."
   ]
  },
  {
   "cell_type": "markdown",
   "metadata": {},
   "source": [
    "#### 4.  Recursive feature elimination with cross validation(RFECV) with random forest"
   ]
  },
  {
   "cell_type": "markdown",
   "metadata": {},
   "source": [
    "Now we will not only find best features but we also find how many features do we need for best accuracy."
   ]
  },
  {
   "cell_type": "code",
   "execution_count": 62,
   "metadata": {},
   "outputs": [],
   "source": [
    "def by_rfecv(x_train,y_train):\n",
    "    \"\"\"\n",
    "    select by recursive feature elimination\n",
    "    \n",
    "    args:\n",
    "        x_train (pd.DataFrame): a pandas dataframe for trarining x dataset\n",
    "        y_train (pd.DataFrame): a pandas dataframe for training y dataset\n",
    "        \n",
    "    returns:\n",
    "        a datafram of the extracted features\n",
    "    \"\"\"\n",
    "    # The \"accuracy\" scoring is proportional to the number of correct classifications\n",
    "    clf_rf_4 = RandomForestClassifier() \n",
    "    rfecv = RFECV(estimator=clf_rf_4, step=1, cv=5,scoring='accuracy')   #5-fold cross-validation\n",
    "    rfecv = rfecv.fit(x_train, y_train)\n",
    "    # let's print the number of total and selected features\n",
    "    fs_rfecv = DataFrame(rfecv.support_, columns = [\"RFECV\"], index=x_train.columns)\n",
    "    fs_rfecv = fs_rfecv.reset_index()\n",
    "    # this is how we can make a list of the selected features\n",
    "    # let's print some stats\n",
    "    print('total features: {}'.format((x_train.shape[1])))\n",
    "    print('selected features: {}'.format(len(x_train.columns[rfecv.support_])))\n",
    "    print('Optimal number of features :', rfecv.n_features_)\n",
    "    print('Best features by rfecv:',x_train.columns[rfecv.support_])\n",
    "    return rfecv,fs_rfecv"
   ]
  },
  {
   "cell_type": "code",
   "execution_count": 65,
   "metadata": {},
   "outputs": [
    {
     "name": "stdout",
     "output_type": "stream",
     "text": [
      "total features: 16\n",
      "selected features: 15\n",
      "Optimal number of features : 15\n",
      "Best features by rfecv: Index(['texture_mean', 'area_mean', 'smoothness_mean', 'concavity_mean',\n",
      "       'symmetry_mean', 'fractal_dimension_mean', 'area_se', 'smoothness_se',\n",
      "       'concavity_se', 'symmetry_se', 'fractal_dimension_se',\n",
      "       'smoothness_worst', 'concavity_worst', 'symmetry_worst',\n",
      "       'fractal_dimension_worst'],\n",
      "      dtype='object')\n"
     ]
    },
    {
     "name": "stderr",
     "output_type": "stream",
     "text": [
      "/home/martin/miniconda3/envs/causality/lib/python3.10/site-packages/sklearn/utils/deprecation.py:103: FutureWarning: The `grid_scores_` attribute is deprecated in version 1.0 in favor of `cv_results_` and will be removed in version 1.2.\n",
      "  warnings.warn(msg, category=FutureWarning)\n"
     ]
    },
    {
     "data": {
      "image/png": "[encoded data removed]",
      "text/plain": [
       "<Figure size 432x288 with 1 Axes>"
      ]
     },
     "metadata": {
      "needs_background": "light"
     },
     "output_type": "display_data"
    }
   ],
   "source": [
    "rfecv,fs_rfecv = by_rfecv(x_train,y_train)\n",
    "plt.figure()\n",
    "plt.xlabel(\"Number of features selected\")\n",
    "plt.ylabel(\"Cross validation score of number of selected features\")\n",
    "plt.plot(range(1, len(rfecv.grid_scores_) + 1), rfecv.grid_scores_)\n",
    "plt.show()"
   ]
  },
  {
   "cell_type": "markdown",
   "metadata": {},
   "source": [
    "Finally, we find best 15 features that are 'texture_mean', 'area_mean', 'smoothness_mean', 'concavity_mean',\n",
    "       'symmetry_mean', 'fractal_dimension_mean', 'area_se', 'smoothness_se',\n",
    "       'concavity_se', 'symmetry_se', 'fractal_dimension_se',\n",
    "       'smoothness_worst', 'concavity_worst', 'symmetry_worst',\n",
    "       'fractal_dimension_worst' for best classification. Lets look at best accuracy with plot."
   ]
  },
  {
   "cell_type": "markdown",
   "metadata": {},
   "source": [
    "Lets look at what we did up to this point. Lets accept that this data is very easy to classification. However, our first purpose is actually not finding good accuracy. Our purpose is learning how to make feature selection and understanding data. "
   ]
  },
  {
   "cell_type": "markdown",
   "metadata": {},
   "source": [
    "#### 5. Tree based feature selection and random forest classification "
   ]
  },
  {
   "cell_type": "markdown",
   "metadata": {},
   "source": [
    "In random forest classification method there is a featureimportances attributes that is the feature importances (the higher, the more important the feature). !!! To use feature_importance method, in training data there should not be correlated features. Random forest choose randomly at each iteration, therefore sequence of feature importance list can change."
   ]
  },
  {
   "cell_type": "code",
   "execution_count": 83,
   "metadata": {},
   "outputs": [],
   "source": [
    "def by_rf(x_train,y_train):\n",
    "    \"\"\"\n",
    "    select by recursive feature elimination\n",
    "    \n",
    "    args:\n",
    "        x_train (pd.DataFrame): a pandas dataframe for trarining x dataset\n",
    "        y_train (pd.DataFrame): a pandas dataframe for training y dataset\n",
    "        \n",
    "    returns:\n",
    "        a datafram of the extracted features\n",
    "    \"\"\"\n",
    "    clf_rf_5 = RandomForestClassifier()      \n",
    "    clr_rf_5 = clf_rf_5.fit(x_train,y_train)\n",
    "    importances = clr_rf_5.feature_importances_\n",
    "    clf_rf = RandomForestClassifier(random_state=43)   \n",
    "    clr_rf = clf_rf.fit(x_train,y_train)\n",
    "\n",
    "    std = np.std([tree.feature_importances_ for tree in clf_rf.estimators_],\n",
    "                 axis=0)\n",
    "    indices = np.argsort(importances)[::-1]\n",
    "\n",
    "    # Print the feature ranking\n",
    "    print(\"Feature ranking:\")\n",
    "\n",
    "    for f in range(x_train.shape[1]):\n",
    "        print(\"%d. feature %d (%f)\" % (f + 1, indices[f], importances[indices[f]]))\n",
    "\n",
    "    # Plot the feature importances of the forest\n",
    "\n",
    "    plt.figure(1, figsize=(14, 13))\n",
    "    plt.title(\"Feature importances\")\n",
    "    plt.bar(range(x_train.shape[1]), importances[indices],\n",
    "           color=\"g\", yerr=std[indices], align=\"center\")\n",
    "    plt.xticks(range(x_train.shape[1]), x_train.columns[indices],rotation=90)\n",
    "    plt.xlim([-1, x_train.shape[1]])\n",
    "    plt.show()\n",
    "    print(importances[indices])\n",
    "    # let's print the number of total and selected features\n",
    "    # let's print some stats\n",
    "    print('total features: {}'.format((x_train.shape[1])))\n",
    "    #print('Chosen optimal features by rf:',selected_feature_rf[1:10])\n",
    "    fs_rf = DataFrame(clr_rf_5.feature_importances_, columns = [\"RF\"], index=x_train.columns)\n",
    "    fs_rf = fs_rf.reset_index()\n",
    "    fs_rf = fs_rf.sort_values('RF',ascending=0)\n",
    "    return fs_rf"
   ]
  },
  {
   "cell_type": "markdown",
   "metadata": {},
   "source": [
    "As you can seen in plot above, after 6 best features importance of features decrease. Therefore we can focus these 6 features. "
   ]
  },
  {
   "cell_type": "code",
   "execution_count": 84,
   "metadata": {},
   "outputs": [
    {
     "name": "stdout",
     "output_type": "stream",
     "text": [
      "Feature ranking:\n",
      "1. feature 3 (0.216730)\n",
      "2. feature 1 (0.201160)\n",
      "3. feature 7 (0.172581)\n",
      "4. feature 13 (0.118771)\n",
      "5. feature 0 (0.047073)\n",
      "6. feature 14 (0.041871)\n",
      "7. feature 12 (0.033239)\n",
      "8. feature 9 (0.032605)\n",
      "9. feature 2 (0.024652)\n",
      "10. feature 11 (0.019521)\n",
      "11. feature 5 (0.018338)\n",
      "12. feature 15 (0.017972)\n",
      "13. feature 8 (0.017810)\n",
      "14. feature 4 (0.017172)\n",
      "15. feature 10 (0.010596)\n",
      "16. feature 6 (0.009908)\n"
     ]
    },
    {
     "data": {
      "image/png": "[encoded data removed]",
      "text/plain": [
       "<Figure size 1008x936 with 1 Axes>"
      ]
     },
     "metadata": {
      "needs_background": "light"
     },
     "output_type": "display_data"
    },
    {
     "name": "stdout",
     "output_type": "stream",
     "text": [
      "[0.21673047 0.20115968 0.17258109 0.11877079 0.04707305 0.04187128\n",
      " 0.03323901 0.03260499 0.02465216 0.01952089 0.01833808 0.01797202\n",
      " 0.01781018 0.01717216 0.01059649 0.00990766]\n",
      "total features: 16\n"
     ]
    }
   ],
   "source": [
    "fs_rf = by_rf(x_train,y_train)"
   ]
  },
  {
   "cell_type": "markdown",
   "metadata": {},
   "source": [
    "#### 6. L1-based feature selection (LinearSVC)"
   ]
  },
  {
   "cell_type": "code",
   "execution_count": 92,
   "metadata": {},
   "outputs": [],
   "source": [
    "def by_l1(x_train,y_train):\n",
    "    \"\"\"\n",
    "    select by recursive feature elimination\n",
    "    \n",
    "    args:\n",
    "        x_train (pd.DataFrame): a pandas dataframe for trarining x dataset\n",
    "        y_train (pd.DataFrame): a pandas dataframe for training y dataset\n",
    "        \n",
    "    returns:\n",
    "        a datafram of the extracted features\n",
    "    \"\"\"\n",
    "    lsvc = LinearSVC(C=0.01, penalty=\"l1\", dual=False,max_iter=2000).fit(x_train, y_train) \n",
    "    model = SelectFromModel(lsvc, prefit=True) \n",
    "    x_new = model.transform(x_train) \n",
    "    print(x_train.columns[model.get_support()]) \n",
    "    # let's print the number of total and selected features\n",
    "    fs_l1 = DataFrame(model.get_support(), columns = [\"L1\"], index=x_train.columns)\n",
    "    fs_l1 = fs_l1.reset_index()\n",
    "    # this is how we can make a list of the selected fes\n",
    "    selected_feature_lsvc = x_train.columns[model.get_support()]\n",
    "\n",
    "    # let's print some stats\n",
    "    print('total features: {}'.format((x_train.shape[1])))\n",
    "    print('selected features: {}'.format(len(selected_feature_lsvc)))\n",
    "    print('Best features by lsvc:',x_train.columns[model.get_support()])\n",
    "    return fs_l1,selected_feature_lsvc,model"
   ]
  },
  {
   "cell_type": "code",
   "execution_count": 93,
   "metadata": {},
   "outputs": [
    {
     "name": "stdout",
     "output_type": "stream",
     "text": [
      "Index(['texture_mean', 'area_mean', 'area_se'], dtype='object')\n",
      "total features: 16\n",
      "selected features: 3\n",
      "Best features by lsvc: Index(['texture_mean', 'area_mean', 'area_se'], dtype='object')\n"
     ]
    },
    {
     "name": "stderr",
     "output_type": "stream",
     "text": [
      "/home/martin/miniconda3/envs/causality/lib/python3.10/site-packages/sklearn/base.py:443: UserWarning: X has feature names, but SelectFromModel was fitted without feature names\n",
      "  warnings.warn(\n"
     ]
    }
   ],
   "source": [
    "fs_l1,selected_feature_lsvc,model=by_l1(x_train,y_train)"
   ]
  },
  {
   "cell_type": "markdown",
   "metadata": {},
   "source": [
    "#### 7. Tree-based feature selection (ExtraTrees)"
   ]
  },
  {
   "cell_type": "code",
   "execution_count": 95,
   "metadata": {},
   "outputs": [],
   "source": [
    "def by_trees(x_train,y_train,model):\n",
    "    \"\"\"\n",
    "    select by recursive feature elimination\n",
    "    \n",
    "    args:\n",
    "        x_train (pd.DataFrame): a pandas dataframe for trarining x dataset\n",
    "        y_train (pd.DataFrame): a pandas dataframe for training y dataset\n",
    "        \n",
    "    returns:\n",
    "        a datafram of the extracted features\n",
    "    \"\"\"\n",
    "    # Build a forest and compute the impurity-based feature importances\n",
    "    clf = ExtraTreesClassifier(n_estimators=32,random_state=0)\n",
    "    clf.fit(x_train, y_train)\n",
    "    clf.feature_importances_ \n",
    "    importances = clf.feature_importances_\n",
    "    std = np.std([tree.feature_importances_ for tree in clf.estimators_],\n",
    "                 axis=0)\n",
    "    indices = np.argsort(importances)[::-1]\n",
    "\n",
    "    # Print the feature ranking\n",
    "    print(\"Feature ranking:\")\n",
    "\n",
    "    for f in range(x_train.shape[1]):\n",
    "        print(\"%d. feature %d (%f)\" % (f + 1, indices[f], importances[indices[f]]))\n",
    "\n",
    "    # Plot the impurity-based feature importances of the forest\n",
    "    plt.figure(1, figsize=(14, 13))\n",
    "    plt.title(\"Feature importances\")\n",
    "    plt.bar(range(x_train.shape[1]), importances[indices],\n",
    "            color=\"r\", yerr=std[indices], align=\"center\")\n",
    "    plt.xticks(range(x_train.shape[1]), x_train.columns[indices],rotation=90)\n",
    "    plt.xlim([-1, x_train.shape[1]])\n",
    "    plt.show()        \n",
    "    # let's print the number of total and selected features\n",
    "    # this is how we can make a list of the selected features\n",
    "    selected_feature_extraTrees = x_train.columns[model.get_support()]\n",
    "    # let's print some stats\n",
    "    print('total features: {}'.format((x_train.shape[1])))\n",
    "    print('selected features: {}'.format(len(selected_feature_extraTrees)))\n",
    "    print('Best features by ExtraTrees:',x_train.columns[model.get_support()])\n",
    "    fs_extratrees=DataFrame(clf.feature_importances_, columns = [\"Extratrees\"], index=x_train.columns)\n",
    "    fs_extratrees = fs_extratrees.reset_index()\n",
    "    fs_extratrees = fs_extratrees.sort_values(['Extratrees'],ascending=0)\n",
    "    return fs_extratrees"
   ]
  },
  {
   "cell_type": "code",
   "execution_count": 96,
   "metadata": {},
   "outputs": [
    {
     "name": "stdout",
     "output_type": "stream",
     "text": [
      "Feature ranking:\n",
      "1. feature 3 (0.191527)\n",
      "2. feature 1 (0.170634)\n",
      "3. feature 13 (0.169116)\n",
      "4. feature 7 (0.123651)\n",
      "5. feature 0 (0.056858)\n",
      "6. feature 14 (0.039312)\n",
      "7. feature 12 (0.035452)\n",
      "8. feature 15 (0.032071)\n",
      "9. feature 9 (0.030526)\n",
      "10. feature 5 (0.029508)\n",
      "11. feature 4 (0.028988)\n",
      "12. feature 2 (0.022375)\n",
      "13. feature 11 (0.020679)\n",
      "14. feature 10 (0.017656)\n",
      "15. feature 6 (0.016700)\n",
      "16. feature 8 (0.014947)\n"
     ]
    },
    {
     "data": {
      "image/png": "[encoded data removed]",
      "text/plain": [
       "<Figure size 1008x936 with 1 Axes>"
      ]
     },
     "metadata": {
      "needs_background": "light"
     },
     "output_type": "display_data"
    },
    {
     "name": "stdout",
     "output_type": "stream",
     "text": [
      "total features: 16\n",
      "selected features: 3\n",
      "Best features by ExtraTrees: Index(['texture_mean', 'area_mean', 'area_se'], dtype='object')\n"
     ]
    }
   ],
   "source": [
    "fs_extratrees = by_trees(x_train,y_train,model)"
   ]
  },
  {
   "cell_type": "markdown",
   "metadata": {},
   "source": [
    "#### 8. Vote based feature selection\n",
    "#### Combine all together"
   ]
  },
  {
   "cell_type": "code",
   "execution_count": 100,
   "metadata": {},
   "outputs": [],
   "source": [
    "def combine_vote(dfs):\n",
    "    \"\"\"\n",
    "    combine all features selected to make a vote\n",
    "    \n",
    "    args:\n",
    "        dfs (list): a list of all features\n",
    "    \n",
    "    returns:\n",
    "        score of features that occur in all\n",
    "    \"\"\"\n",
    "    final_results = reduce(lambda left,right: pd.merge(left,right,on='index'), dfs)\n",
    "    columns = ['Chi_Square', 'RF', 'Extratrees']\n",
    "    score_table = pd.DataFrame({},[])\n",
    "    score_table['index'] = final_results['index']\n",
    "    for i in columns:\n",
    "        score_table[i] = final_results['index'].isin(list(final_results.nlargest(10,i)['index'])).astype(int)\n",
    "\n",
    "    #score_table['Corr'] = final_results['Corr'].astype(int)\n",
    "    score_table['RFE'] = final_results['RFE'].astype(int)\n",
    "    score_table['RFECV'] = final_results['RFECV'].astype(int)\n",
    "    score_table['L1'] = final_results['L1'].astype(int)\n",
    "    score_table['final_score'] = score_table.sum(axis=1)   \n",
    "    scores = score_table.sort_values('final_score',ascending=0)\n",
    "    return scores"
   ]
  },
  {
   "cell_type": "code",
   "execution_count": 103,
   "metadata": {},
   "outputs": [
    {
     "name": "stderr",
     "output_type": "stream",
     "text": [
      "/tmp/ipykernel_32410/3542194670.py:22: FutureWarning: Dropping of nuisance columns in DataFrame reductions (with 'numeric_only=None') is deprecated; in a future version this will raise TypeError.  Select only valid columns before calling the reduction.\n",
      "  score_table['final_score'] = score_table.sum(axis=1)\n"
     ]
    },
    {
     "data": {
      "text/html": [
       "<div>\n",
       "<style scoped>\n",
       "    .dataframe tbody tr th:only-of-type {\n",
       "        vertical-align: middle;\n",
       "    }\n",
       "\n",
       "    .dataframe tbody tr th {\n",
       "        vertical-align: top;\n",
       "    }\n",
       "\n",
       "    .dataframe thead th {\n",
       "        text-align: right;\n",
       "    }\n",
       "</style>\n",
       "<table border=\"1\" class=\"dataframe\">\n",
       "  <thead>\n",
       "    <tr style=\"text-align: right;\">\n",
       "      <th></th>\n",
       "      <th>index</th>\n",
       "      <th>Chi_Square</th>\n",
       "      <th>RF</th>\n",
       "      <th>Extratrees</th>\n",
       "      <th>RFE</th>\n",
       "      <th>RFECV</th>\n",
       "      <th>L1</th>\n",
       "      <th>final_score</th>\n",
       "    </tr>\n",
       "  </thead>\n",
       "  <tbody>\n",
       "    <tr>\n",
       "      <th>0</th>\n",
       "      <td>texture_mean</td>\n",
       "      <td>1</td>\n",
       "      <td>1</td>\n",
       "      <td>1</td>\n",
       "      <td>1</td>\n",
       "      <td>1</td>\n",
       "      <td>1</td>\n",
       "      <td>6</td>\n",
       "    </tr>\n",
       "    <tr>\n",
       "      <th>1</th>\n",
       "      <td>area_mean</td>\n",
       "      <td>1</td>\n",
       "      <td>1</td>\n",
       "      <td>1</td>\n",
       "      <td>1</td>\n",
       "      <td>1</td>\n",
       "      <td>1</td>\n",
       "      <td>6</td>\n",
       "    </tr>\n",
       "    <tr>\n",
       "      <th>7</th>\n",
       "      <td>area_se</td>\n",
       "      <td>1</td>\n",
       "      <td>1</td>\n",
       "      <td>1</td>\n",
       "      <td>1</td>\n",
       "      <td>1</td>\n",
       "      <td>1</td>\n",
       "      <td>6</td>\n",
       "    </tr>\n",
       "    <tr>\n",
       "      <th>3</th>\n",
       "      <td>concavity_mean</td>\n",
       "      <td>1</td>\n",
       "      <td>1</td>\n",
       "      <td>1</td>\n",
       "      <td>1</td>\n",
       "      <td>1</td>\n",
       "      <td>0</td>\n",
       "      <td>5</td>\n",
       "    </tr>\n",
       "    <tr>\n",
       "      <th>9</th>\n",
       "      <td>concavity_se</td>\n",
       "      <td>1</td>\n",
       "      <td>1</td>\n",
       "      <td>1</td>\n",
       "      <td>1</td>\n",
       "      <td>1</td>\n",
       "      <td>0</td>\n",
       "      <td>5</td>\n",
       "    </tr>\n",
       "    <tr>\n",
       "      <th>12</th>\n",
       "      <td>smoothness_worst</td>\n",
       "      <td>1</td>\n",
       "      <td>1</td>\n",
       "      <td>1</td>\n",
       "      <td>1</td>\n",
       "      <td>1</td>\n",
       "      <td>0</td>\n",
       "      <td>5</td>\n",
       "    </tr>\n",
       "    <tr>\n",
       "      <th>13</th>\n",
       "      <td>concavity_worst</td>\n",
       "      <td>1</td>\n",
       "      <td>1</td>\n",
       "      <td>1</td>\n",
       "      <td>1</td>\n",
       "      <td>1</td>\n",
       "      <td>0</td>\n",
       "      <td>5</td>\n",
       "    </tr>\n",
       "    <tr>\n",
       "      <th>14</th>\n",
       "      <td>symmetry_worst</td>\n",
       "      <td>1</td>\n",
       "      <td>1</td>\n",
       "      <td>1</td>\n",
       "      <td>1</td>\n",
       "      <td>1</td>\n",
       "      <td>0</td>\n",
       "      <td>5</td>\n",
       "    </tr>\n",
       "    <tr>\n",
       "      <th>2</th>\n",
       "      <td>smoothness_mean</td>\n",
       "      <td>0</td>\n",
       "      <td>1</td>\n",
       "      <td>0</td>\n",
       "      <td>1</td>\n",
       "      <td>1</td>\n",
       "      <td>0</td>\n",
       "      <td>3</td>\n",
       "    </tr>\n",
       "    <tr>\n",
       "      <th>5</th>\n",
       "      <td>fractal_dimension_mean</td>\n",
       "      <td>0</td>\n",
       "      <td>0</td>\n",
       "      <td>1</td>\n",
       "      <td>1</td>\n",
       "      <td>1</td>\n",
       "      <td>0</td>\n",
       "      <td>3</td>\n",
       "    </tr>\n",
       "    <tr>\n",
       "      <th>15</th>\n",
       "      <td>fractal_dimension_worst</td>\n",
       "      <td>1</td>\n",
       "      <td>0</td>\n",
       "      <td>1</td>\n",
       "      <td>0</td>\n",
       "      <td>1</td>\n",
       "      <td>0</td>\n",
       "      <td>3</td>\n",
       "    </tr>\n",
       "    <tr>\n",
       "      <th>4</th>\n",
       "      <td>symmetry_mean</td>\n",
       "      <td>1</td>\n",
       "      <td>0</td>\n",
       "      <td>0</td>\n",
       "      <td>0</td>\n",
       "      <td>1</td>\n",
       "      <td>0</td>\n",
       "      <td>2</td>\n",
       "    </tr>\n",
       "    <tr>\n",
       "      <th>11</th>\n",
       "      <td>fractal_dimension_se</td>\n",
       "      <td>0</td>\n",
       "      <td>1</td>\n",
       "      <td>0</td>\n",
       "      <td>0</td>\n",
       "      <td>1</td>\n",
       "      <td>0</td>\n",
       "      <td>2</td>\n",
       "    </tr>\n",
       "    <tr>\n",
       "      <th>8</th>\n",
       "      <td>smoothness_se</td>\n",
       "      <td>0</td>\n",
       "      <td>0</td>\n",
       "      <td>0</td>\n",
       "      <td>0</td>\n",
       "      <td>1</td>\n",
       "      <td>0</td>\n",
       "      <td>1</td>\n",
       "    </tr>\n",
       "    <tr>\n",
       "      <th>10</th>\n",
       "      <td>symmetry_se</td>\n",
       "      <td>0</td>\n",
       "      <td>0</td>\n",
       "      <td>0</td>\n",
       "      <td>0</td>\n",
       "      <td>1</td>\n",
       "      <td>0</td>\n",
       "      <td>1</td>\n",
       "    </tr>\n",
       "    <tr>\n",
       "      <th>6</th>\n",
       "      <td>texture_se</td>\n",
       "      <td>0</td>\n",
       "      <td>0</td>\n",
       "      <td>0</td>\n",
       "      <td>0</td>\n",
       "      <td>0</td>\n",
       "      <td>0</td>\n",
       "      <td>0</td>\n",
       "    </tr>\n",
       "  </tbody>\n",
       "</table>\n",
       "</div>"
      ],
      "text/plain": [
       "                      index  Chi_Square  RF  Extratrees  RFE  RFECV  L1  \\\n",
       "0              texture_mean           1   1           1    1      1   1   \n",
       "1                 area_mean           1   1           1    1      1   1   \n",
       "7                   area_se           1   1           1    1      1   1   \n",
       "3            concavity_mean           1   1           1    1      1   0   \n",
       "9              concavity_se           1   1           1    1      1   0   \n",
       "12         smoothness_worst           1   1           1    1      1   0   \n",
       "13          concavity_worst           1   1           1    1      1   0   \n",
       "14           symmetry_worst           1   1           1    1      1   0   \n",
       "2           smoothness_mean           0   1           0    1      1   0   \n",
       "5    fractal_dimension_mean           0   0           1    1      1   0   \n",
       "15  fractal_dimension_worst           1   0           1    0      1   0   \n",
       "4             symmetry_mean           1   0           0    0      1   0   \n",
       "11     fractal_dimension_se           0   1           0    0      1   0   \n",
       "8             smoothness_se           0   0           0    0      1   0   \n",
       "10              symmetry_se           0   0           0    0      1   0   \n",
       "6                texture_se           0   0           0    0      0   0   \n",
       "\n",
       "    final_score  \n",
       "0             6  \n",
       "1             6  \n",
       "7             6  \n",
       "3             5  \n",
       "9             5  \n",
       "12            5  \n",
       "13            5  \n",
       "14            5  \n",
       "2             3  \n",
       "5             3  \n",
       "15            3  \n",
       "4             2  \n",
       "11            2  \n",
       "8             1  \n",
       "10            1  \n",
       "6             0  "
      ]
     },
     "execution_count": 103,
     "metadata": {},
     "output_type": "execute_result"
    }
   ],
   "source": [
    "dfs = [fs_corr, fs_chi2, fs_rfe, fs_rfecv, fs_rf, fs_l1, fs_extratrees]\n",
    "scores = combine_vote(dfs);scores"
   ]
  },
  {
   "cell_type": "code",
   "execution_count": 42,
   "metadata": {},
   "outputs": [
    {
     "data": {
      "text/plain": [
       "['texture_mean',\n",
       " 'area_mean',\n",
       " 'smoothness_mean',\n",
       " 'concavity_mean',\n",
       " 'symmetry_mean',\n",
       " 'fractal_dimension_mean',\n",
       " 'area_se',\n",
       " 'concavity_se',\n",
       " 'fractal_dimension_se',\n",
       " 'smoothness_worst',\n",
       " 'concavity_worst',\n",
       " 'symmetry_worst',\n",
       " 'fractal_dimension_worst']"
      ]
     },
     "execution_count": 42,
     "metadata": {},
     "output_type": "execute_result"
    }
   ],
   "source": [
    "# Voted features\n",
    "list(score_table['index'][score_table['final_score']>=2])"
   ]
  },
  {
   "cell_type": "code",
   "execution_count": 43,
   "metadata": {},
   "outputs": [
    {
     "data": {
      "text/plain": [
       "['texture_mean',\n",
       " 'area_mean',\n",
       " 'concavity_mean',\n",
       " 'fractal_dimension_mean',\n",
       " 'area_se',\n",
       " 'concavity_se',\n",
       " 'fractal_dimension_se',\n",
       " 'smoothness_worst',\n",
       " 'concavity_worst',\n",
       " 'symmetry_worst']"
      ]
     },
     "execution_count": 43,
     "metadata": {},
     "output_type": "execute_result"
    }
   ],
   "source": [
    "# RFE features\n",
    "list(score_table['index'][score_table['RFE']==1])"
   ]
  },
  {
   "cell_type": "code",
   "execution_count": 44,
   "metadata": {},
   "outputs": [
    {
     "data": {
      "text/plain": [
       "['texture_mean',\n",
       " 'area_mean',\n",
       " 'smoothness_mean',\n",
       " 'concavity_mean',\n",
       " 'symmetry_mean',\n",
       " 'fractal_dimension_mean',\n",
       " 'area_se',\n",
       " 'smoothness_se',\n",
       " 'concavity_se',\n",
       " 'fractal_dimension_se',\n",
       " 'smoothness_worst',\n",
       " 'concavity_worst',\n",
       " 'symmetry_worst',\n",
       " 'fractal_dimension_worst']"
      ]
     },
     "execution_count": 44,
     "metadata": {},
     "output_type": "execute_result"
    }
   ],
   "source": [
    "# RFECV features\n",
    "list(score_table['index'][score_table['RFECV']==1])"
   ]
  },
  {
   "cell_type": "code",
   "execution_count": 45,
   "metadata": {},
   "outputs": [
    {
     "data": {
      "text/plain": [
       "['texture_mean',\n",
       " 'area_mean',\n",
       " 'concavity_mean',\n",
       " 'symmetry_mean',\n",
       " 'area_se',\n",
       " 'concavity_se',\n",
       " 'smoothness_worst',\n",
       " 'concavity_worst',\n",
       " 'symmetry_worst',\n",
       " 'fractal_dimension_worst']"
      ]
     },
     "execution_count": 45,
     "metadata": {},
     "output_type": "execute_result"
    }
   ],
   "source": [
    "# Chi-Square features\n",
    "list(score_table['index'][score_table['Chi_Square']==1])"
   ]
  },
  {
   "cell_type": "code",
   "execution_count": 46,
   "metadata": {},
   "outputs": [
    {
     "data": {
      "text/plain": [
       "['texture_mean',\n",
       " 'area_mean',\n",
       " 'smoothness_mean',\n",
       " 'concavity_mean',\n",
       " 'area_se',\n",
       " 'concavity_se',\n",
       " 'fractal_dimension_se',\n",
       " 'smoothness_worst',\n",
       " 'concavity_worst',\n",
       " 'symmetry_worst']"
      ]
     },
     "execution_count": 46,
     "metadata": {},
     "output_type": "execute_result"
    }
   ],
   "source": [
    "# RF features\n",
    "list(score_table['index'][score_table['RF']==1])"
   ]
  },
  {
   "cell_type": "code",
   "execution_count": 47,
   "metadata": {},
   "outputs": [
    {
     "data": {
      "text/plain": [
       "['texture_mean', 'area_mean', 'area_se']"
      ]
     },
     "execution_count": 47,
     "metadata": {},
     "output_type": "execute_result"
    }
   ],
   "source": [
    "# L1 features\n",
    "list(score_table['index'][score_table['L1']==1])"
   ]
  },
  {
   "cell_type": "code",
   "execution_count": 48,
   "metadata": {},
   "outputs": [
    {
     "data": {
      "text/plain": [
       "['texture_mean',\n",
       " 'area_mean',\n",
       " 'concavity_mean',\n",
       " 'fractal_dimension_mean',\n",
       " 'area_se',\n",
       " 'concavity_se',\n",
       " 'smoothness_worst',\n",
       " 'concavity_worst',\n",
       " 'symmetry_worst',\n",
       " 'fractal_dimension_worst']"
      ]
     },
     "execution_count": 48,
     "metadata": {},
     "output_type": "execute_result"
    }
   ],
   "source": [
    "# ExtraTrees features\n",
    "list(score_table['index'][score_table['Extratrees']==1])"
   ]
  },
  {
   "cell_type": "markdown",
   "metadata": {},
   "source": [
    "#### Multicollinearity - VIF (Addon)"
   ]
  },
  {
   "cell_type": "code",
   "execution_count": 105,
   "metadata": {},
   "outputs": [],
   "source": [
    "def calculate_vif(features):\n",
    "    \"\"\"\n",
    "    return variation inflation\n",
    "    \n",
    "    args:\n",
    "        features (pd:DataFrame): a dataframe of the training dataset\n",
    "    \n",
    "    returns:\n",
    "        variance inflation value\n",
    "    \"\"\"\n",
    "    vif = pd.DataFrame()\n",
    "    vif[\"Features\"] = features.columns\n",
    "    vif[\"VIF\"] = [variance_inflation_factor(features.values, i) for i in range(features.shape[1])]\n",
    "    return(vif)"
   ]
  },
  {
   "cell_type": "code",
   "execution_count": 111,
   "metadata": {},
   "outputs": [],
   "source": [
    "def vif(x_train):\n",
    "    \"\"\"\n",
    "    return variation inflation\n",
    "    \n",
    "    args:\n",
    "        features (pd:DataFrame): a dataframe of the training dataset\n",
    "    \n",
    "    returns:\n",
    "        variance inflation dataframe\n",
    "    \"\"\"\n",
    "    vif = calculate_vif(x_train)\n",
    "    while vif['VIF'][vif['VIF'] > 10].any():\n",
    "        remove = vif.sort_values('VIF',ascending=0)['Features'][:1]\n",
    "        x_train.drop(remove,axis=1,inplace=True)\n",
    "        vif = calculate_vif(x_train)\n",
    "    return vif"
   ]
  },
  {
   "cell_type": "code",
   "execution_count": 112,
   "metadata": {},
   "outputs": [
    {
     "data": {
      "text/html": [
       "<div>\n",
       "<style scoped>\n",
       "    .dataframe tbody tr th:only-of-type {\n",
       "        vertical-align: middle;\n",
       "    }\n",
       "\n",
       "    .dataframe tbody tr th {\n",
       "        vertical-align: top;\n",
       "    }\n",
       "\n",
       "    .dataframe thead th {\n",
       "        text-align: right;\n",
       "    }\n",
       "</style>\n",
       "<table border=\"1\" class=\"dataframe\">\n",
       "  <thead>\n",
       "    <tr style=\"text-align: right;\">\n",
       "      <th></th>\n",
       "      <th>Features</th>\n",
       "      <th>VIF</th>\n",
       "    </tr>\n",
       "  </thead>\n",
       "  <tbody>\n",
       "    <tr>\n",
       "      <th>0</th>\n",
       "      <td>texture_se</td>\n",
       "      <td>7.74</td>\n",
       "    </tr>\n",
       "    <tr>\n",
       "      <th>1</th>\n",
       "      <td>area_se</td>\n",
       "      <td>2.01</td>\n",
       "    </tr>\n",
       "    <tr>\n",
       "      <th>2</th>\n",
       "      <td>smoothness_se</td>\n",
       "      <td>7.33</td>\n",
       "    </tr>\n",
       "    <tr>\n",
       "      <th>3</th>\n",
       "      <td>concavity_se</td>\n",
       "      <td>4.11</td>\n",
       "    </tr>\n",
       "    <tr>\n",
       "      <th>4</th>\n",
       "      <td>symmetry_se</td>\n",
       "      <td>8.41</td>\n",
       "    </tr>\n",
       "    <tr>\n",
       "      <th>5</th>\n",
       "      <td>concavity_worst</td>\n",
       "      <td>4.46</td>\n",
       "    </tr>\n",
       "  </tbody>\n",
       "</table>\n",
       "</div>"
      ],
      "text/plain": [
       "          Features  VIF\n",
       "0       texture_se 7.74\n",
       "1          area_se 2.01\n",
       "2    smoothness_se 7.33\n",
       "3     concavity_se 4.11\n",
       "4      symmetry_se 8.41\n",
       "5  concavity_worst 4.46"
      ]
     },
     "execution_count": 112,
     "metadata": {},
     "output_type": "execute_result"
    }
   ],
   "source": [
    "vif_ = vif(x_train);vif_"
   ]
  },
  {
   "cell_type": "markdown",
   "metadata": {},
   "source": [
    "#### Feature Extraction using PCA"
   ]
  },
  {
   "cell_type": "markdown",
   "metadata": {},
   "source": [
    "We will use principle component analysis (PCA) for feature extraction. Before PCA, we need to normalize data for better performance of PCA."
   ]
  },
  {
   "cell_type": "code",
   "execution_count": 116,
   "metadata": {},
   "outputs": [],
   "source": [
    "def by_pca(x,y):\n",
    "    \"\"\"\n",
    "    return principal compenonent analysis of features\n",
    "    \n",
    "    args:\n",
    "        x (pd:DataFrame): a dataframe of the x dataset\n",
    "        y (pd:DataFrame): a dataframe of the y dataset\n",
    "   \n",
    "    returns:\n",
    "        plot of the principal component analysis\n",
    "    \"\"\"\n",
    "    # split data train 70 % and test 30 %\n",
    "    x_train, x_test, y_train, y_test = train_test_split(x, y, test_size=0.3, random_state=42)\n",
    "    #normalization\n",
    "    x_train_N = (x_train-x_train.mean())/(x_train.max()-x_train.min())\n",
    "    x_test_N = (x_test-x_test.mean())/(x_test.max()-x_test.min())\n",
    "\n",
    "    pca = PCA()\n",
    "    pca.fit(x_train_N)\n",
    "\n",
    "    plt.figure(1, figsize=(14, 13))\n",
    "    plt.clf()\n",
    "    plt.axes([.2, .2, .7, .7])\n",
    "    plt.plot(pca.explained_variance_ratio_, linewidth=2)\n",
    "    plt.axis('tight')\n",
    "    plt.xlabel('n_components')\n",
    "    plt.ylabel('explained_variance_ratio_')"
   ]
  },
  {
   "cell_type": "code",
   "execution_count": 117,
   "metadata": {},
   "outputs": [
    {
     "data": {
      "image/png": "[encoded data removed]",
      "text/plain": [
       "<Figure size 1008x936 with 1 Axes>"
      ]
     },
     "metadata": {
      "needs_background": "light"
     },
     "output_type": "display_data"
    }
   ],
   "source": [
    "by_pca(x,y)"
   ]
  },
  {
   "cell_type": "markdown",
   "metadata": {},
   "source": [
    "According to variance ration, 3 component can be chosen."
   ]
  }
 ],
 "metadata": {
  "kernelspec": {
   "display_name": "Python 3 (ipykernel)",
   "language": "python",
   "name": "python3"
  },
  "language_info": {
   "codemirror_mode": {
    "name": "ipython",
    "version": 3
   },
   "file_extension": ".py",
   "mimetype": "text/x-python",
   "name": "python",
   "nbconvert_exporter": "python",
   "pygments_lexer": "ipython3",
   "version": "3.8.13"
  }
 },
 "nbformat": 4,
 "nbformat_minor": 2
}
